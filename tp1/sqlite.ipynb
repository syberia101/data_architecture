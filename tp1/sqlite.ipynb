{
 "cells": [
  {
   "cell_type": "code",
   "execution_count": null,
   "metadata": {},
   "outputs": [],
   "source": [
    "!pip install pandas"
   ]
  },
  {
   "cell_type": "markdown",
   "metadata": {},
   "source": [
    "Dataset : https://www.kaggle.com/datasets/gianinamariapetrascu/gender-pay-gap-europe-2010-2021"
   ]
  },
  {
   "cell_type": "code",
   "execution_count": 11,
   "metadata": {},
   "outputs": [],
   "source": [
    "import sqlite3\n",
    "import pandas as pd"
   ]
  },
  {
   "cell_type": "markdown",
   "metadata": {},
   "source": [
    "## Create and populate database"
   ]
  },
  {
   "cell_type": "code",
   "execution_count": 12,
   "metadata": {},
   "outputs": [],
   "source": [
    "def create_and_populate_database(csv_file:str, db_name:str):\n",
    "    \"\"\"This function reads a CSV file and creates a SQLite database with the data.\n",
    "    args:    \n",
    "        csv_file: str: the path to the CSV file\n",
    "        db_name: str: the name of the SQLite database\n",
    "    \"\"\"\n",
    "    df = pd.read_csv(csv_file)\n",
    "    countries = df['Country'].unique()\n",
    "    sectors = [col for col in df.columns if col not in ['Country', 'Year','GDP','Urban_population']]\n",
    "    conn = sqlite3.connect(db_name)\n",
    "    cursor = conn.cursor()\n",
    "    cursor.execute(\"\"\"\n",
    "        CREATE TABLE IF NOT EXISTS Country (\n",
    "            country_id INTEGER PRIMARY KEY,\n",
    "            country_name TEXT UNIQUE\n",
    "        );\n",
    "    \"\"\")\n",
    "    \n",
    "    cursor.execute(\"\"\"\n",
    "        CREATE TABLE IF NOT EXISTS Sector (\n",
    "            sector_id INTEGER PRIMARY KEY,\n",
    "            sector_name TEXT UNIQUE\n",
    "        );\n",
    "    \"\"\")\n",
    "    \n",
    "    cursor.execute(\"\"\"\n",
    "        CREATE TABLE IF NOT EXISTS CountrySectorData (\n",
    "            id INTEGER PRIMARY KEY,\n",
    "            country_id INTEGER,\n",
    "            sector_id INTEGER,\n",
    "            year INTEGER,\n",
    "            value REAL,\n",
    "            FOREIGN KEY (country_id) REFERENCES Country(country_id),\n",
    "            FOREIGN KEY (sector_id) REFERENCES Sector(sector_id)\n",
    "        );\n",
    "    \"\"\")\n",
    "    \n",
    "    for country in countries:\n",
    "        cursor.execute(\"INSERT OR IGNORE INTO Country (country_name) VALUES (?);\", (country,))\n",
    "    \n",
    "    for sector in sectors:\n",
    "        cursor.execute(\"INSERT OR IGNORE INTO Sector (sector_name) VALUES (?);\", (sector,))\n",
    "    \n",
    "    for _, row in df.iterrows():\n",
    "        country_name = row['Country']\n",
    "        year = row['Year']\n",
    "        cursor.execute(\"SELECT country_id FROM Country WHERE country_name = ?;\", (country_name,))\n",
    "        country_id = cursor.fetchone()[0]\n",
    "        \n",
    "        for sector in sectors:\n",
    "            if pd.notna(row[sector]):  # Skip NaN values\n",
    "                cursor.execute(\"SELECT sector_id FROM Sector WHERE sector_name = ?;\", (sector,))\n",
    "                sector_id = cursor.fetchone()[0]\n",
    "                value = row[sector]\n",
    "                cursor.execute(\"\"\"\n",
    "                    INSERT INTO CountrySectorData (country_id, sector_id, year, value)\n",
    "                    VALUES (?, ?, ?, ?);\n",
    "                \"\"\", (country_id, sector_id, year, value))\n",
    "    \n",
    "    conn.commit()\n",
    "    conn.close()\n",
    "    print(f\"Database '{db_name}' has been created and populated successfully.\")\n",
    "\n"
   ]
  },
  {
   "cell_type": "code",
   "execution_count": null,
   "metadata": {},
   "outputs": [],
   "source": [
    "csv_file_path = \"pay_gap_Europe.csv\"\n",
    "database_name = \"pay_gap_data_normalized.db\" \n",
    "\n",
    "create_and_populate_database(csv_file_path, database_name)"
   ]
  },
  {
   "cell_type": "markdown",
   "metadata": {},
   "source": [
    "## Read into a database"
   ]
  },
  {
   "cell_type": "code",
   "execution_count": 14,
   "metadata": {},
   "outputs": [],
   "source": [
    "def read_table(database_name:str, request:str)->list:\n",
    "    \"\"\"This function reads a table from a SQLite database.\n",
    "    args:\n",
    "        database_name: str: the name of the SQLite database\n",
    "        request: str: the SQL request to execute\n",
    "    returns:\n",
    "        result: list of tuples: the result of the SQL request\n",
    "    \"\"\"\n",
    "    with sqlite3.connect(database_name) as conn:\n",
    "        cur = conn.cursor()\n",
    "        cur.execute(request)\n",
    "        result = cur.fetchall()\n",
    "        return result"
   ]
  },
  {
   "cell_type": "code",
   "execution_count": 15,
   "metadata": {},
   "outputs": [],
   "source": [
    "query_table_country = \"SELECT * from Country\""
   ]
  },
  {
   "cell_type": "code",
   "execution_count": null,
   "metadata": {},
   "outputs": [],
   "source": [
    "read_table('pay_gap_data_normalized.db',query_table_country)"
   ]
  },
  {
   "cell_type": "markdown",
   "metadata": {},
   "source": [
    "## Read from SQLite to pandas"
   ]
  },
  {
   "cell_type": "code",
   "execution_count": 17,
   "metadata": {},
   "outputs": [],
   "source": [
    "def read_table_pandas(database_name:str, query:str)->pd.DataFrame:\n",
    "    \"\"\"This function reads a table from a SQLite database into a pandas DataFrame.\n",
    "    args:\n",
    "        database_name: str: the name of the SQLite database\n",
    "        query: str: the SQL query to execute    \n",
    "    returns:\n",
    "        df: pd.DataFrame: the result of the SQL query\n",
    "    \"\"\"\n",
    "    con = sqlite3.connect(database_name)\n",
    "    df = pd.read_sql_query(query, con)\n",
    "    con.close()\n",
    "    return df"
   ]
  },
  {
   "cell_type": "code",
   "execution_count": null,
   "metadata": {},
   "outputs": [],
   "source": [
    "read_table_pandas(\"pay_gap_data_normalized.db\",query_table_country)"
   ]
  }
 ],
 "metadata": {
  "kernelspec": {
   "display_name": "Python 3",
   "language": "python",
   "name": "python3"
  },
  "language_info": {
   "codemirror_mode": {
    "name": "ipython",
    "version": 3
   },
   "file_extension": ".py",
   "mimetype": "text/x-python",
   "name": "python",
   "nbconvert_exporter": "python",
   "pygments_lexer": "ipython3",
   "version": "3.13.1"
  }
 },
 "nbformat": 4,
 "nbformat_minor": 4
}
