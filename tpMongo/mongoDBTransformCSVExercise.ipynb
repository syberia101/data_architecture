{
 "cells": [
  {
   "cell_type": "code",
   "execution_count": null,
   "metadata": {},
   "outputs": [],
   "source": [
    "import pandas as pd\n",
    "import json\n",
    "from pymongo import MongoClient"
   ]
  },
  {
   "cell_type": "code",
   "execution_count": null,
   "metadata": {},
   "outputs": [],
   "source": [
    "df = pd.read_csv(\"pay_gap_Europe.csv\")\n",
    "df"
   ]
  },
  {
   "cell_type": "code",
   "execution_count": null,
   "metadata": {},
   "outputs": [],
   "source": [
    "def transform_csv_to_json(cvs_file:str):\n",
    "    pass\n",
    "    # Read the csv\n",
    "\n",
    "    # clean and transform the data => for example, remove white spaces from column names and convert them to lowercase\n",
    "\n",
    "\n",
    "    \n",
    "    # Convert to expected data types\n",
    "    \n",
    "\n",
    "    #Create a list of sectors columns\n",
    "    \n",
    "    # Convert sector columns to float\n",
    "   \n",
    "   # Fill missing values with \"Null\" \n",
    "\n",
    "    # Transform the data to the expected format according to the schema\n",
    "\n",
    "    # Return the result\n",
    "    \n",
    "\n"
   ]
  },
  {
   "cell_type": "code",
   "execution_count": null,
   "metadata": {},
   "outputs": [],
   "source": [
    "\n",
    "csv_file = \"pay_gap_Europe.csv\"  \n",
    "\n",
    "transformed_data = transform_csv_to_json(csv_file)\n",
    "\n",
    "# Print first document as a sample\n",
    "print(json.dumps(transformed_data[:1], indent=4))"
   ]
  },
  {
   "cell_type": "code",
   "execution_count": null,
   "metadata": {},
   "outputs": [],
   "source": [
    "    # Save as JSON file\n",
    "with open(\"output.json\", \"w\", encoding=\"utf-8\") as f:\n",
    "        json.dump(transformed_data, f, indent=4, ensure_ascii=False)"
   ]
  },
  {
   "cell_type": "code",
   "execution_count": null,
   "metadata": {},
   "outputs": [],
   "source": [
    "def upload_to_mongodb(json_file, db_name=\"paydata\", collection_name=\"countries\"):\n",
    "    \"\"\"\n",
    "    Uploads the transformed JSON data into MongoDB.\n",
    "\n",
    "    Parameters:\n",
    "        json_file (str): Path to the JSON file containing the transformed data.\n",
    "        db_name (str): MongoDB database name.\n",
    "        collection_name (str): MongoDB collection name.\n",
    "    \n",
    "    Returns:\n",
    "        int: Number of inserted documents.\n",
    "    \"\"\"\n",
    "\n",
    "    # Connect to MongoDB (Modify connection string if needed)\n",
    "    db_string = \"\"\n",
    "\n",
    "    client = MongoClient(db_string)  \n",
    "    db = client[db_name]\n",
    "    collection = db[collection_name]\n",
    "\n",
    "    # Load JSON file\n",
    "    with open(json_file, \"r\", encoding=\"utf-8\") as f:\n",
    "        data = json.load(f)\n",
    "\n",
    "    # Insert or update documents (upsert to avoid duplicates)\n",
    "    \n",
    "\n",
    "    print(f\"Inserted/Updated {len(data)} documents into MongoDB.\")\n",
    "    return len(data)\n",
    "\n"
   ]
  },
  {
   "cell_type": "code",
   "execution_count": null,
   "metadata": {},
   "outputs": [],
   "source": [
    "upload_to_mongodb(\"output.json\",\"PayGapDB\",\"PayGapCollection\")"
   ]
  }
 ],
 "metadata": {
  "kernelspec": {
   "display_name": ".venv",
   "language": "python",
   "name": "python3"
  },
  "language_info": {
   "codemirror_mode": {
    "name": "ipython",
    "version": 3
   },
   "file_extension": ".py",
   "mimetype": "text/x-python",
   "name": "python",
   "nbconvert_exporter": "python",
   "pygments_lexer": "ipython3",
   "version": "3.13.1"
  }
 },
 "nbformat": 4,
 "nbformat_minor": 2
}
