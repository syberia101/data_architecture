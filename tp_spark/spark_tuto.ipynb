{
 "cells": [
  {
   "cell_type": "code",
   "execution_count": 1,
   "metadata": {},
   "outputs": [
    {
     "name": "stdout",
     "output_type": "stream",
     "text": [
      "Requirement already satisfied: pyspark in /Users/derib/data_architecture/.venv/lib/python3.13/site-packages (3.5.5)\n",
      "Requirement already satisfied: py4j==0.10.9.7 in /Users/derib/data_architecture/.venv/lib/python3.13/site-packages (from pyspark) (0.10.9.7)\n"
     ]
    }
   ],
   "source": [
    "!pip install pyspark"
   ]
  },
  {
   "cell_type": "code",
   "execution_count": 25,
   "metadata": {},
   "outputs": [],
   "source": [
    "from pyspark.sql import SparkSession, Row\n",
    "from pyspark.sql.functions import sum, array, struct,lit\n"
   ]
  },
  {
   "cell_type": "markdown",
   "metadata": {},
   "source": [
    "Launching a spark cluster session"
   ]
  },
  {
   "cell_type": "code",
   "execution_count": 3,
   "metadata": {},
   "outputs": [
    {
     "name": "stderr",
     "output_type": "stream",
     "text": [
      "25/04/07 22:38:06 WARN Utils: Your hostname, MacBook-Pro-de-de.local resolves to a loopback address: 127.0.0.1; using 192.168.1.17 instead (on interface en0)\n",
      "25/04/07 22:38:06 WARN Utils: Set SPARK_LOCAL_IP if you need to bind to another address\n",
      "Setting default log level to \"WARN\".\n",
      "To adjust logging level use sc.setLogLevel(newLevel). For SparkR, use setLogLevel(newLevel).\n",
      "25/04/07 22:38:07 WARN NativeCodeLoader: Unable to load native-hadoop library for your platform... using builtin-java classes where applicable\n",
      "25/04/07 22:38:07 WARN Utils: Service 'SparkUI' could not bind on port 4040. Attempting port 4041.\n"
     ]
    },
    {
     "data": {
      "text/html": [
       "\n",
       "            <div>\n",
       "                <p><b>SparkSession - in-memory</b></p>\n",
       "                \n",
       "        <div>\n",
       "            <p><b>SparkContext</b></p>\n",
       "\n",
       "            <p><a href=\"http://192.168.1.17:4041\">Spark UI</a></p>\n",
       "\n",
       "            <dl>\n",
       "              <dt>Version</dt>\n",
       "                <dd><code>v3.5.5</code></dd>\n",
       "              <dt>Master</dt>\n",
       "                <dd><code>local</code></dd>\n",
       "              <dt>AppName</dt>\n",
       "                <dd><code>DataFrame_tutorial</code></dd>\n",
       "            </dl>\n",
       "        </div>\n",
       "        \n",
       "            </div>\n",
       "        "
      ],
      "text/plain": [
       "<pyspark.sql.session.SparkSession at 0x10506aba0>"
      ]
     },
     "execution_count": 3,
     "metadata": {},
     "output_type": "execute_result"
    }
   ],
   "source": [
    "\n",
    "spark = (SparkSession.builder\n",
    "          .master(\"local\") \\\n",
    "          .appName(\"DataFrame_tutorial\") \\\n",
    "          .config(\"spark.ui.showConsoleProgress\",\"false\") \\\n",
    "          .getOrCreate()\n",
    "        )\n",
    "\n",
    "spark"
   ]
  },
  {
   "cell_type": "code",
   "execution_count": 4,
   "metadata": {},
   "outputs": [],
   "source": [
    "df_1 = spark.createDataFrame([Row(id=x)for x in range(10)])\n",
    "df_2 = spark.createDataFrame([Row(id=x)for x in range(10)])"
   ]
  },
  {
   "cell_type": "code",
   "execution_count": 5,
   "metadata": {},
   "outputs": [],
   "source": [
    "df_3 = df_1.filter(df_1.id>4).join(df_2,df_1.id==df_2.id) #join.(df_2,df_1==df_2.df)=transformation"
   ]
  },
  {
   "cell_type": "code",
   "execution_count": 6,
   "metadata": {},
   "outputs": [
    {
     "data": {
      "text/plain": [
       "5"
      ]
     },
     "execution_count": 6,
     "metadata": {},
     "output_type": "execute_result"
    }
   ],
   "source": [
    "df_3.count() #action"
   ]
  },
  {
   "cell_type": "code",
   "execution_count": 7,
   "metadata": {},
   "outputs": [],
   "source": [
    "schema_pay_gap = \"Country string,Year int, GDP int,Urban_population float,Industry float,Business float,Mining float,Manufacturing float\" # Need to have both the name and the type of data of the columns"
   ]
  },
  {
   "cell_type": "code",
   "execution_count": 8,
   "metadata": {},
   "outputs": [],
   "source": [
    "df_gender_pay_gap = spark.read.csv(\"/Users/derib/data_architecture/tp1/pay_gap_Europe.csv\",schema=schema_pay_gap,header=True)"
   ]
  },
  {
   "cell_type": "code",
   "execution_count": 9,
   "metadata": {},
   "outputs": [
    {
     "data": {
      "text/plain": [
       "DataFrame[Country: string, Year: int, GDP: int]"
      ]
     },
     "execution_count": 9,
     "metadata": {},
     "output_type": "execute_result"
    }
   ],
   "source": [
    "df_gender_pay_gap.select(\"Country\",\"Year\",\"GDP\")"
   ]
  },
  {
   "cell_type": "code",
   "execution_count": 10,
   "metadata": {},
   "outputs": [
    {
     "name": "stdout",
     "output_type": "stream",
     "text": [
      "+-------+----+-----+\n",
      "|Country|Year|  GDP|\n",
      "+-------+----+-----+\n",
      "|Austria|2010|35390|\n",
      "|Austria|2011|36300|\n",
      "|Austria|2012|36390|\n",
      "|Austria|2013|36180|\n",
      "|Austria|2014|36130|\n",
      "+-------+----+-----+\n",
      "only showing top 5 rows\n",
      "\n"
     ]
    }
   ],
   "source": [
    "df_gender_pay_gap.select(\"Country\",\"Year\",\"GDP\").show(5)"
   ]
  },
  {
   "cell_type": "code",
   "execution_count": 11,
   "metadata": {},
   "outputs": [
    {
     "name": "stdout",
     "output_type": "stream",
     "text": [
      "+-------+----+-------+----------------+--------+--------+------+-------------+\n",
      "|Country|Year|    GDP|Urban_population|Industry|Business|Mining|Manufacturing|\n",
      "+-------+----+-------+----------------+--------+--------+------+-------------+\n",
      "|Austria|2010|1061700|            57.4|    24.0|    25.2|  18.3|         24.4|\n",
      "|Austria|2011|1089000|           57.12|    23.5|    24.7|  NULL|         NULL|\n",
      "|Austria|2012|1091700|           57.15|    22.9|    24.3|  NULL|         NULL|\n",
      "|Austria|2013|1085400|           57.34|    22.3|    23.8|  NULL|         NULL|\n",
      "|Austria|2014|1083900|           57.53|    22.2|    23.8|  15.9|         23.0|\n",
      "|Austria|2015|1084200|           57.72|    21.8|    23.4|  13.7|         22.7|\n",
      "|Austria|2016|1091700|           57.91|    20.8|    22.3|  14.4|         21.9|\n",
      "|Austria|2017|1109400|           58.09|    20.7|    22.3|  10.9|         21.7|\n",
      "|Austria|2018|1130700|            58.3|    20.4|    22.0|   7.9|         21.4|\n",
      "|Austria|2019|1142700|           58.52|    19.9|    21.6|   8.0|         20.9|\n",
      "|Austria|2020|1064400|           58.75|    18.9|    20.7|   6.1|         20.1|\n",
      "|Austria|2021|1108500|            59.0|    18.8|    20.7|   6.9|         20.2|\n",
      "|Belgium|2010| 999900|           97.65|    10.2|    15.1| -13.4|         11.5|\n",
      "|Belgium|2011|1003800|            97.7|     9.4|    14.1| -10.4|         10.1|\n",
      "|Belgium|2012|1004700|           97.74|     8.3|    13.0|  -7.1|          8.9|\n",
      "|Belgium|2013|1004700|           97.79|     7.5|    12.1|  -4.1|          7.6|\n",
      "|Belgium|2014|1016100|           97.83|     6.6|    11.0|  -1.0|          6.4|\n",
      "|Belgium|2015|1030800|           97.88|     6.4|    10.8|  -1.5|          7.4|\n",
      "|Belgium|2016|1038600|           97.92|     6.0|    10.4|  -2.1|          8.6|\n",
      "|Belgium|2017|1051500|           97.96|     5.8|    10.2|  -2.6|          9.6|\n",
      "+-------+----+-------+----------------+--------+--------+------+-------------+\n",
      "only showing top 20 rows\n",
      "\n"
     ]
    },
    {
     "name": "stderr",
     "output_type": "stream",
     "text": [
      "25/04/07 22:38:10 WARN CSVHeaderChecker: Number of column in CSV header is not equal to number of fields in the schema:\n",
      " Header length: 24, schema size: 8\n",
      "CSV file: file:///Users/derib/data_architecture/tp1/pay_gap_Europe.csv\n"
     ]
    }
   ],
   "source": [
    "df_gender_pay_gap.withColumn(\"GDP\", df_gender_pay_gap.GDP*30).show() # This will only transform the dataframe here"
   ]
  },
  {
   "cell_type": "code",
   "execution_count": 12,
   "metadata": {},
   "outputs": [
    {
     "name": "stdout",
     "output_type": "stream",
     "text": [
      "+-------+----+-----+----------------+--------+--------+------+-------------+\n",
      "|Country|Year|  GDP|Urban_population|Industry|Business|Mining|Manufacturing|\n",
      "+-------+----+-----+----------------+--------+--------+------+-------------+\n",
      "|Austria|2010|35390|            57.4|    24.0|    25.2|  18.3|         24.4|\n",
      "|Austria|2011|36300|           57.12|    23.5|    24.7|  NULL|         NULL|\n",
      "|Austria|2012|36390|           57.15|    22.9|    24.3|  NULL|         NULL|\n",
      "|Austria|2013|36180|           57.34|    22.3|    23.8|  NULL|         NULL|\n",
      "|Austria|2014|36130|           57.53|    22.2|    23.8|  15.9|         23.0|\n",
      "|Austria|2015|36140|           57.72|    21.8|    23.4|  13.7|         22.7|\n",
      "|Austria|2016|36390|           57.91|    20.8|    22.3|  14.4|         21.9|\n",
      "|Austria|2017|36980|           58.09|    20.7|    22.3|  10.9|         21.7|\n",
      "|Austria|2018|37690|            58.3|    20.4|    22.0|   7.9|         21.4|\n",
      "|Austria|2019|38090|           58.52|    19.9|    21.6|   8.0|         20.9|\n",
      "|Austria|2020|35480|           58.75|    18.9|    20.7|   6.1|         20.1|\n",
      "|Austria|2021|36950|            59.0|    18.8|    20.7|   6.9|         20.2|\n",
      "|Belgium|2010|33330|           97.65|    10.2|    15.1| -13.4|         11.5|\n",
      "|Belgium|2011|33460|            97.7|     9.4|    14.1| -10.4|         10.1|\n",
      "|Belgium|2012|33490|           97.74|     8.3|    13.0|  -7.1|          8.9|\n",
      "|Belgium|2013|33490|           97.79|     7.5|    12.1|  -4.1|          7.6|\n",
      "|Belgium|2014|33870|           97.83|     6.6|    11.0|  -1.0|          6.4|\n",
      "|Belgium|2015|34360|           97.88|     6.4|    10.8|  -1.5|          7.4|\n",
      "|Belgium|2016|34620|           97.92|     6.0|    10.4|  -2.1|          8.6|\n",
      "|Belgium|2017|35050|           97.96|     5.8|    10.2|  -2.6|          9.6|\n",
      "+-------+----+-----+----------------+--------+--------+------+-------------+\n",
      "only showing top 20 rows\n",
      "\n"
     ]
    },
    {
     "name": "stderr",
     "output_type": "stream",
     "text": [
      "25/04/07 22:38:10 WARN CSVHeaderChecker: Number of column in CSV header is not equal to number of fields in the schema:\n",
      " Header length: 24, schema size: 8\n",
      "CSV file: file:///Users/derib/data_architecture/tp1/pay_gap_Europe.csv\n"
     ]
    }
   ],
   "source": [
    "df_gender_pay_gap.show()"
   ]
  },
  {
   "cell_type": "code",
   "execution_count": 13,
   "metadata": {},
   "outputs": [],
   "source": [
    "df_sql = spark.sql(\"select id from range(10)\")"
   ]
  },
  {
   "cell_type": "code",
   "execution_count": 14,
   "metadata": {},
   "outputs": [
    {
     "data": {
      "text/plain": [
       "10"
      ]
     },
     "execution_count": 14,
     "metadata": {},
     "output_type": "execute_result"
    }
   ],
   "source": [
    "df_sql.count()"
   ]
  },
  {
   "cell_type": "code",
   "execution_count": 15,
   "metadata": {},
   "outputs": [
    {
     "name": "stdout",
     "output_type": "stream",
     "text": [
      "+---+\n",
      "| id|\n",
      "+---+\n",
      "|  0|\n",
      "|  1|\n",
      "|  2|\n",
      "|  3|\n",
      "|  4|\n",
      "|  5|\n",
      "|  6|\n",
      "|  7|\n",
      "|  8|\n",
      "|  9|\n",
      "+---+\n",
      "\n"
     ]
    }
   ],
   "source": [
    "df_sql.show()"
   ]
  },
  {
   "cell_type": "code",
   "execution_count": 33,
   "metadata": {},
   "outputs": [
    {
     "data": {
      "text/plain": [
       "['Country',\n",
       " 'Year',\n",
       " 'GDP',\n",
       " 'Urban_population',\n",
       " 'Industry',\n",
       " 'Business',\n",
       " 'Mining',\n",
       " 'Manufacturing']"
      ]
     },
     "execution_count": 33,
     "metadata": {},
     "output_type": "execute_result"
    }
   ],
   "source": [
    "df_gender_pay_gap.columns"
   ]
  },
  {
   "cell_type": "code",
   "execution_count": null,
   "metadata": {},
   "outputs": [
    {
     "name": "stdout",
     "output_type": "stream",
     "text": [
      "+-------+----+-----+----------------+--------+--------+------+-------------+----------+\n",
      "|Country|Year|  GDP|Urban_population|Industry|Business|Mining|Manufacturing|provenance|\n",
      "+-------+----+-----+----------------+--------+--------+------+-------------+----------+\n",
      "|Austria|2010|35390|            57.4|    24.0|    25.2|  18.3|         24.4|    kaggle|\n",
      "|Austria|2011|36300|           57.12|    23.5|    24.7|  NULL|         NULL|    kaggle|\n",
      "|Austria|2012|36390|           57.15|    22.9|    24.3|  NULL|         NULL|    kaggle|\n",
      "|Austria|2013|36180|           57.34|    22.3|    23.8|  NULL|         NULL|    kaggle|\n",
      "|Austria|2014|36130|           57.53|    22.2|    23.8|  15.9|         23.0|    kaggle|\n",
      "|Austria|2015|36140|           57.72|    21.8|    23.4|  13.7|         22.7|    kaggle|\n",
      "|Austria|2016|36390|           57.91|    20.8|    22.3|  14.4|         21.9|    kaggle|\n",
      "|Austria|2017|36980|           58.09|    20.7|    22.3|  10.9|         21.7|    kaggle|\n",
      "|Austria|2018|37690|            58.3|    20.4|    22.0|   7.9|         21.4|    kaggle|\n",
      "|Austria|2019|38090|           58.52|    19.9|    21.6|   8.0|         20.9|    kaggle|\n",
      "|Austria|2020|35480|           58.75|    18.9|    20.7|   6.1|         20.1|    kaggle|\n",
      "|Austria|2021|36950|            59.0|    18.8|    20.7|   6.9|         20.2|    kaggle|\n",
      "|Belgium|2010|33330|           97.65|    10.2|    15.1| -13.4|         11.5|    kaggle|\n",
      "|Belgium|2011|33460|            97.7|     9.4|    14.1| -10.4|         10.1|    kaggle|\n",
      "|Belgium|2012|33490|           97.74|     8.3|    13.0|  -7.1|          8.9|    kaggle|\n",
      "|Belgium|2013|33490|           97.79|     7.5|    12.1|  -4.1|          7.6|    kaggle|\n",
      "|Belgium|2014|33870|           97.83|     6.6|    11.0|  -1.0|          6.4|    kaggle|\n",
      "|Belgium|2015|34360|           97.88|     6.4|    10.8|  -1.5|          7.4|    kaggle|\n",
      "|Belgium|2016|34620|           97.92|     6.0|    10.4|  -2.1|          8.6|    kaggle|\n",
      "|Belgium|2017|35050|           97.96|     5.8|    10.2|  -2.6|          9.6|    kaggle|\n",
      "+-------+----+-----+----------------+--------+--------+------+-------------+----------+\n",
      "only showing top 20 rows\n",
      "\n"
     ]
    },
    {
     "name": "stderr",
     "output_type": "stream",
     "text": [
      "25/04/07 23:07:51 WARN CSVHeaderChecker: Number of column in CSV header is not equal to number of fields in the schema:\n",
      " Header length: 24, schema size: 8\n",
      "CSV file: file:///Users/derib/data_architecture/tp1/pay_gap_Europe.csv\n"
     ]
    }
   ],
   "source": [
    "#add a new column provenance with the value \"Kaggle\"\n",
    "# add a new column called InvoiceValue\n",
    "\n",
    "        \n",
    "       \n",
    "\n",
    "\n"
   ]
  },
  {
   "cell_type": "code",
   "execution_count": null,
   "metadata": {},
   "outputs": [
    {
     "data": {
      "text/plain": [
       "9"
      ]
     },
     "execution_count": 41,
     "metadata": {},
     "output_type": "execute_result"
    }
   ],
   "source": [
    "#Count the number of rows in the dataframe that have a gender pay gap for industry more than 20 and country is Austria\n"
   ]
  }
 ],
 "metadata": {
  "kernelspec": {
   "display_name": ".venv",
   "language": "python",
   "name": "python3"
  },
  "language_info": {
   "codemirror_mode": {
    "name": "ipython",
    "version": 3
   },
   "file_extension": ".py",
   "mimetype": "text/x-python",
   "name": "python",
   "nbconvert_exporter": "python",
   "pygments_lexer": "ipython3",
   "version": "3.13.2"
  }
 },
 "nbformat": 4,
 "nbformat_minor": 2
}
