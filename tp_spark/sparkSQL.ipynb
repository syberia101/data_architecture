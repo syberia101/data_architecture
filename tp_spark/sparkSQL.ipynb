{
 "cells": [
  {
   "cell_type": "code",
   "execution_count": null,
   "metadata": {},
   "outputs": [],
   "source": [
    "!pip install pyspark\n"
   ]
  },
  {
   "cell_type": "code",
   "execution_count": 9,
   "metadata": {},
   "outputs": [],
   "source": [
    "import os\n",
    "\n",
    "from pyspark.sql import SparkSession,Row\n",
    "import sqlite3"
   ]
  },
  {
   "cell_type": "code",
   "execution_count": 13,
   "metadata": {},
   "outputs": [],
   "source": [
    "\n",
    "\n",
    "con = sqlite3.connect('example.db')\n",
    "cur = con.cursor()\n",
    "# Create table\n",
    "cur.execute(\n",
    "    '''CREATE TABLE IF NOT EXISTS stocks\n",
    "       (date text, trans text, symbol text, qty real, price real)''')\n",
    "# Insert a row of data\n",
    "cur.execute(\"INSERT INTO stocks VALUES ('2006-01-05','BUY','RHAT',100,35.14)\")\n",
    "# Save (commit) the changes\n",
    "con.commit()\n",
    "con.close()\n",
    "\n"
   ]
  },
  {
   "cell_type": "code",
   "execution_count": null,
   "metadata": {},
   "outputs": [
    {
     "data": {
      "text/html": [
       "\n",
       "            <div>\n",
       "                <p><b>SparkSession - in-memory</b></p>\n",
       "                \n",
       "        <div>\n",
       "            <p><b>SparkContext</b></p>\n",
       "\n",
       "            <p><a href=\"http://192.168.1.17:4041\">Spark UI</a></p>\n",
       "\n",
       "            <dl>\n",
       "              <dt>Version</dt>\n",
       "                <dd><code>v3.5.5</code></dd>\n",
       "              <dt>Master</dt>\n",
       "                <dd><code>local</code></dd>\n",
       "              <dt>AppName</dt>\n",
       "                <dd><code>SQLite JDBC</code></dd>\n",
       "            </dl>\n",
       "        </div>\n",
       "        \n",
       "            </div>\n",
       "        "
      ],
      "text/plain": [
       "<pyspark.sql.session.SparkSession at 0x109c84d70>"
      ]
     },
     "execution_count": 14,
     "metadata": {},
     "output_type": "execute_result"
    }
   ],
   "source": [
    "spark = (SparkSession.builder\n",
    "    .master(\"local\")\n",
    "    .appName(\"SQLite JDBC\")\n",
    "    .config(\n",
    "        \"spark.jars\",\n",
    "        \"/Users/derib/data_architecture/sqlite-jdbc-3.34.0.jar\".format(os.getcwd()))\n",
    "    .config(\n",
    "        \"spark.driver.extraClassPath\",\n",
    "        \"/Users/derib/data_architecture/sqlite-jdbc-3.34.0.jar\".format(os.getcwd()))\n",
    "    .getOrCreate())\n",
    "spark"
   ]
  },
  {
   "cell_type": "code",
   "execution_count": 15,
   "metadata": {},
   "outputs": [],
   "source": [
    "df = spark.read.format('jdbc') \\\n",
    "          .options(driver='org.sqlite.JDBC', dbtable='stocks',\n",
    "                   url='jdbc:sqlite:/Users/derib/data_architecture/tp_spark/example.db').load()"
   ]
  },
  {
   "cell_type": "code",
   "execution_count": 16,
   "metadata": {},
   "outputs": [
    {
     "name": "stdout",
     "output_type": "stream",
     "text": [
      "+----------+-----+------+-----+-----+\n",
      "|      date|trans|symbol|  qty|price|\n",
      "+----------+-----+------+-----+-----+\n",
      "|2006-01-05|  BUY|  RHAT|100.0|35.14|\n",
      "|2006-01-05|  BUY|  RHAT|100.0|35.14|\n",
      "+----------+-----+------+-----+-----+\n",
      "\n"
     ]
    }
   ],
   "source": [
    "df.show()"
   ]
  },
  {
   "cell_type": "code",
   "execution_count": 17,
   "metadata": {},
   "outputs": [],
   "source": [
    "df_other = spark.read.jdbc(url='jdbc:sqlite:/Users/derib/data_architecture/tp_spark/example.db',table=\"stocks\")"
   ]
  },
  {
   "cell_type": "code",
   "execution_count": 18,
   "metadata": {},
   "outputs": [
    {
     "name": "stdout",
     "output_type": "stream",
     "text": [
      "+----------+-----+------+---+------+\n",
      "|      date|trans|symbol|qty| price|\n",
      "+----------+-----+------+---+------+\n",
      "|2023-01-01|  BUY|  AAPL| 50| 150.0|\n",
      "|2023-01-02| SELL|  GOOG| 30|2800.0|\n",
      "|2023-01-03|  BUY|  MSFT| 20| 300.0|\n",
      "|2023-01-04| SELL|  AMZN| 10|3500.0|\n",
      "+----------+-----+------+---+------+\n",
      "\n"
     ]
    }
   ],
   "source": [
    "\n",
    "\n",
    "# Create dummy data\n",
    "data = [\n",
    "    Row(date=\"2023-01-01\", trans=\"BUY\", symbol=\"AAPL\", qty=50, price=150.0),\n",
    "    Row(date=\"2023-01-02\", trans=\"SELL\", symbol=\"GOOG\", qty=30, price=2800.0),\n",
    "    Row(date=\"2023-01-03\", trans=\"BUY\", symbol=\"MSFT\", qty=20, price=300.0),\n",
    "    Row(date=\"2023-01-04\", trans=\"SELL\", symbol=\"AMZN\", qty=10, price=3500.0)\n",
    "]\n",
    "\n",
    "# Create Spark DataFrame\n",
    "dummy_df = spark.createDataFrame(data)\n",
    "\n",
    "# Show the DataFrame\n",
    "dummy_df.show()"
   ]
  },
  {
   "cell_type": "code",
   "execution_count": 21,
   "metadata": {},
   "outputs": [
    {
     "name": "stderr",
     "output_type": "stream",
     "text": [
      "25/04/07 15:39:52 WARN JdbcUtils: Requested isolation level 1 is not supported; falling back to default isolation level 8\n"
     ]
    }
   ],
   "source": [
    "# Write the DataFrame to SQLite\n",
    "dummy_df.write \\\n",
    "    .format('jdbc') \\\n",
    "    .options(driver='org.sqlite.JDBC', dbtable='stocks',\n",
    "             url='jdbc:sqlite:/Users/derib/data_architecture/tp_spark/example.db') \\\n",
    "    .mode('append') \\\n",
    "    .save()"
   ]
  }
 ],
 "metadata": {
  "kernelspec": {
   "display_name": ".venv",
   "language": "python",
   "name": "python3"
  },
  "language_info": {
   "codemirror_mode": {
    "name": "ipython",
    "version": 3
   },
   "file_extension": ".py",
   "mimetype": "text/x-python",
   "name": "python",
   "nbconvert_exporter": "python",
   "pygments_lexer": "ipython3",
   "version": "3.13.2"
  }
 },
 "nbformat": 4,
 "nbformat_minor": 2
}
