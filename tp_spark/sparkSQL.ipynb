{
 "cells": [
  {
   "cell_type": "code",
   "execution_count": 1,
   "metadata": {},
   "outputs": [
    {
     "name": "stdout",
     "output_type": "stream",
     "text": [
      "Requirement already satisfied: pyspark in /Users/derib/data_architecture/.venv/lib/python3.13/site-packages (3.5.5)\n",
      "Requirement already satisfied: py4j==0.10.9.7 in /Users/derib/data_architecture/.venv/lib/python3.13/site-packages (from pyspark) (0.10.9.7)\n"
     ]
    }
   ],
   "source": [
    "!pip install pyspark\n"
   ]
  },
  {
   "cell_type": "code",
   "execution_count": null,
   "metadata": {},
   "outputs": [],
   "source": [
    "\n"
   ]
  },
  {
   "cell_type": "markdown",
   "metadata": {},
   "source": [
    "https://spark.apache.org/docs/latest/api/python/user_guide/pandas_on_spark/from_to_dbms.html\n",
    "curl -O https://repo1.maven.org/maven2/org/xerial/sqlite-jdbc/3.34.0/sqlite-jdbc-3.34.0.jar"
   ]
  },
  {
   "cell_type": "code",
   "execution_count": 2,
   "metadata": {},
   "outputs": [],
   "source": [
    "import os\n",
    "\n",
    "from pyspark.sql import SparkSession,Row\n",
    "import sqlite3"
   ]
  },
  {
   "cell_type": "code",
   "execution_count": 3,
   "metadata": {},
   "outputs": [],
   "source": [
    "\n",
    "\n",
    "con = sqlite3.connect('example.db')\n",
    "cur = con.cursor()\n",
    "# Create table\n",
    "cur.execute(\n",
    "    '''CREATE TABLE IF NOT EXISTS stocks\n",
    "       (date text, trans text, symbol text, qty real, price real)''')\n",
    "# Insert a row of data\n",
    "cur.execute(\"INSERT INTO stocks VALUES ('2006-01-05','BUY','RHAT',100,35.14)\")\n",
    "# Save (commit) the changes\n",
    "con.commit()\n",
    "con.close()\n",
    "\n"
   ]
  },
  {
   "cell_type": "code",
   "execution_count": 4,
   "metadata": {},
   "outputs": [
    {
     "name": "stderr",
     "output_type": "stream",
     "text": [
      "25/04/07 22:36:59 WARN Utils: Your hostname, MacBook-Pro-de-de.local resolves to a loopback address: 127.0.0.1; using 192.168.1.17 instead (on interface en0)\n",
      "25/04/07 22:36:59 WARN Utils: Set SPARK_LOCAL_IP if you need to bind to another address\n",
      "25/04/07 22:36:59 WARN NativeCodeLoader: Unable to load native-hadoop library for your platform... using builtin-java classes where applicable\n",
      "Setting default log level to \"WARN\".\n",
      "To adjust logging level use sc.setLogLevel(newLevel). For SparkR, use setLogLevel(newLevel).\n"
     ]
    },
    {
     "data": {
      "text/html": [
       "\n",
       "            <div>\n",
       "                <p><b>SparkSession - in-memory</b></p>\n",
       "                \n",
       "        <div>\n",
       "            <p><b>SparkContext</b></p>\n",
       "\n",
       "            <p><a href=\"http://192.168.1.17:4040\">Spark UI</a></p>\n",
       "\n",
       "            <dl>\n",
       "              <dt>Version</dt>\n",
       "                <dd><code>v3.5.5</code></dd>\n",
       "              <dt>Master</dt>\n",
       "                <dd><code>local</code></dd>\n",
       "              <dt>AppName</dt>\n",
       "                <dd><code>SQLite JDBC</code></dd>\n",
       "            </dl>\n",
       "        </div>\n",
       "        \n",
       "            </div>\n",
       "        "
      ],
      "text/plain": [
       "<pyspark.sql.session.SparkSession at 0x120f6af90>"
      ]
     },
     "execution_count": 4,
     "metadata": {},
     "output_type": "execute_result"
    }
   ],
   "source": [
    "spark = (SparkSession.builder\n",
    "    .master(\"local\")\n",
    "    .appName(\"SQLite JDBC\")\n",
    "    .config(\n",
    "        \"spark.jars\",\n",
    "        \"/Users/derib/data_architecture/sqlite-jdbc-3.34.0.jar\".format(os.getcwd()))\n",
    "    .config(\n",
    "        \"spark.driver.extraClassPath\",\n",
    "        \"/Users/derib/data_architecture/sqlite-jdbc-3.34.0.jar\".format(os.getcwd()))\n",
    "    .getOrCreate())\n",
    "spark"
   ]
  },
  {
   "cell_type": "code",
   "execution_count": 5,
   "metadata": {},
   "outputs": [],
   "source": [
    "df = spark.read.format('jdbc') \\\n",
    "          .options(driver='org.sqlite.JDBC', dbtable='stocks',\n",
    "                   url='jdbc:sqlite:/Users/derib/data_architecture/tp_spark/example.db').load()"
   ]
  },
  {
   "cell_type": "code",
   "execution_count": 6,
   "metadata": {},
   "outputs": [
    {
     "name": "stdout",
     "output_type": "stream",
     "text": [
      "+----------+-----+------+-----+------+\n",
      "|      date|trans|symbol|  qty| price|\n",
      "+----------+-----+------+-----+------+\n",
      "|2006-01-05|  BUY|  RHAT|100.0| 35.14|\n",
      "|2006-01-05|  BUY|  RHAT|100.0| 35.14|\n",
      "|2023-01-01|  BUY|  AAPL| 50.0| 150.0|\n",
      "|2023-01-02| SELL|  GOOG| 30.0|2800.0|\n",
      "|2023-01-03|  BUY|  MSFT| 20.0| 300.0|\n",
      "|2023-01-04| SELL|  AMZN| 10.0|3500.0|\n",
      "|2023-01-01|  BUY|  AAPL| 50.0| 150.0|\n",
      "|2023-01-02| SELL|  GOOG| 30.0|2800.0|\n",
      "|2023-01-03|  BUY|  MSFT| 20.0| 300.0|\n",
      "|2023-01-04| SELL|  AMZN| 10.0|3500.0|\n",
      "|2006-01-05|  BUY|  RHAT|100.0| 35.14|\n",
      "+----------+-----+------+-----+------+\n",
      "\n"
     ]
    }
   ],
   "source": [
    "df.show()"
   ]
  },
  {
   "cell_type": "code",
   "execution_count": 7,
   "metadata": {},
   "outputs": [],
   "source": [
    "df_other = spark.read.jdbc(url='jdbc:sqlite:/Users/derib/data_architecture/tp_spark/example.db',table=\"stocks\")"
   ]
  },
  {
   "cell_type": "code",
   "execution_count": 8,
   "metadata": {},
   "outputs": [
    {
     "name": "stdout",
     "output_type": "stream",
     "text": [
      "+----------+-----+------+---+------+\n",
      "|      date|trans|symbol|qty| price|\n",
      "+----------+-----+------+---+------+\n",
      "|2023-01-01|  BUY|  AAPL| 50| 150.0|\n",
      "|2023-01-02| SELL|  GOOG| 30|2800.0|\n",
      "|2023-01-03|  BUY|  MSFT| 20| 300.0|\n",
      "|2023-01-04| SELL|  AMZN| 10|3500.0|\n",
      "+----------+-----+------+---+------+\n",
      "\n"
     ]
    }
   ],
   "source": [
    "\n",
    "\n",
    "# Create dummy data\n",
    "data = [\n",
    "    Row(date=\"2023-01-01\", trans=\"BUY\", symbol=\"AAPL\", qty=50, price=150.0),\n",
    "    Row(date=\"2023-01-02\", trans=\"SELL\", symbol=\"GOOG\", qty=30, price=2800.0),\n",
    "    Row(date=\"2023-01-03\", trans=\"BUY\", symbol=\"MSFT\", qty=20, price=300.0),\n",
    "    Row(date=\"2023-01-04\", trans=\"SELL\", symbol=\"AMZN\", qty=10, price=3500.0)\n",
    "]\n",
    "\n",
    "# Create Spark DataFrame\n",
    "dummy_df = spark.createDataFrame(data)\n",
    "\n",
    "# Show the DataFrame\n",
    "dummy_df.show()"
   ]
  },
  {
   "cell_type": "code",
   "execution_count": 9,
   "metadata": {},
   "outputs": [
    {
     "name": "stderr",
     "output_type": "stream",
     "text": [
      "25/04/07 22:37:02 WARN JdbcUtils: Requested isolation level 1 is not supported; falling back to default isolation level 8\n"
     ]
    }
   ],
   "source": [
    "# Write the DataFrame to SQLite\n",
    "dummy_df.write \\\n",
    "    .format('jdbc') \\\n",
    "    .options(driver='org.sqlite.JDBC', dbtable='stocks',\n",
    "             url='jdbc:sqlite:/Users/derib/data_architecture/tp_spark/example.db') \\\n",
    "    .mode('append') \\\n",
    "    .save()"
   ]
  }
 ],
 "metadata": {
  "kernelspec": {
   "display_name": ".venv",
   "language": "python",
   "name": "python3"
  },
  "language_info": {
   "codemirror_mode": {
    "name": "ipython",
    "version": 3
   },
   "file_extension": ".py",
   "mimetype": "text/x-python",
   "name": "python",
   "nbconvert_exporter": "python",
   "pygments_lexer": "ipython3",
   "version": "3.13.2"
  }
 },
 "nbformat": 4,
 "nbformat_minor": 2
}
