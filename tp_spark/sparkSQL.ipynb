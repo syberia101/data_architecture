{
 "cells": [
  {
   "cell_type": "code",
   "execution_count": 1,
   "metadata": {},
   "outputs": [
    {
     "name": "stdout",
     "output_type": "stream",
     "text": [
      "Requirement already satisfied: pyspark in /Users/derib/data_architecture/.venv/lib/python3.13/site-packages (3.5.5)\n",
      "Requirement already satisfied: py4j==0.10.9.7 in /Users/derib/data_architecture/.venv/lib/python3.13/site-packages (from pyspark) (0.10.9.7)\n"
     ]
    }
   ],
   "source": [
    "!pip install pyspark\n"
   ]
  },
  {
   "cell_type": "markdown",
   "metadata": {},
   "source": [
    "https://spark.apache.org/docs/latest/api/python/user_guide/pandas_on_spark/from_to_dbms.html\n",
    "curl -O https://repo1.maven.org/maven2/org/xerial/sqlite-jdbc/3.34.0/sqlite-jdbc-3.34.0.jar"
   ]
  },
  {
   "cell_type": "code",
   "execution_count": 1,
   "metadata": {},
   "outputs": [],
   "source": [
    "import os\n",
    "\n",
    "from pyspark.sql import SparkSession,Row\n",
    "import sqlite3"
   ]
  },
  {
   "cell_type": "code",
   "execution_count": 3,
   "metadata": {},
   "outputs": [],
   "source": [
    "\n",
    "\n",
    "con = sqlite3.connect('example.db')\n",
    "cur = con.cursor()\n",
    "# Create table\n",
    "cur.execute(\n",
    "    '''CREATE TABLE IF NOT EXISTS stocks\n",
    "       (date text, trans text, symbol text, qty real, price real)''')\n",
    "# Insert a row of data\n",
    "cur.execute(\"INSERT INTO stocks VALUES ('2006-01-05','BUY','RHAT',100,35.14)\")\n",
    "# Save (commit) the changes\n",
    "con.commit()\n",
    "con.close()\n",
    "\n"
   ]
  },
  {
   "cell_type": "code",
   "execution_count": 2,
   "metadata": {},
   "outputs": [
    {
     "name": "stderr",
     "output_type": "stream",
     "text": [
      "25/04/07 23:36:51 WARN Utils: Your hostname, MacBook-Pro-de-de.local resolves to a loopback address: 127.0.0.1; using 192.168.1.17 instead (on interface en0)\n",
      "25/04/07 23:36:51 WARN Utils: Set SPARK_LOCAL_IP if you need to bind to another address\n",
      "25/04/07 23:36:51 WARN NativeCodeLoader: Unable to load native-hadoop library for your platform... using builtin-java classes where applicable\n",
      "Setting default log level to \"WARN\".\n",
      "To adjust logging level use sc.setLogLevel(newLevel). For SparkR, use setLogLevel(newLevel).\n"
     ]
    },
    {
     "data": {
      "text/html": [
       "\n",
       "            <div>\n",
       "                <p><b>SparkSession - in-memory</b></p>\n",
       "                \n",
       "        <div>\n",
       "            <p><b>SparkContext</b></p>\n",
       "\n",
       "            <p><a href=\"http://192.168.1.17:4040\">Spark UI</a></p>\n",
       "\n",
       "            <dl>\n",
       "              <dt>Version</dt>\n",
       "                <dd><code>v3.5.5</code></dd>\n",
       "              <dt>Master</dt>\n",
       "                <dd><code>local</code></dd>\n",
       "              <dt>AppName</dt>\n",
       "                <dd><code>SQLite JDBC</code></dd>\n",
       "            </dl>\n",
       "        </div>\n",
       "        \n",
       "            </div>\n",
       "        "
      ],
      "text/plain": [
       "<pyspark.sql.session.SparkSession at 0x1092b2120>"
      ]
     },
     "execution_count": 2,
     "metadata": {},
     "output_type": "execute_result"
    }
   ],
   "source": [
    "spark = (SparkSession.builder\n",
    "    .master(\"local\")\n",
    "    .appName(\"SQLite JDBC\")\n",
    "    .config(\n",
    "        \"spark.jars\",\n",
    "        \"/Users/derib/data_architecture/sqlite-jdbc-3.34.0.jar\".format(os.getcwd()))\n",
    "    .config(\n",
    "        \"spark.driver.extraClassPath\",\n",
    "        \"/Users/derib/data_architecture/sqlite-jdbc-3.34.0.jar\".format(os.getcwd()))\n",
    "    .getOrCreate())\n",
    "spark"
   ]
  },
  {
   "cell_type": "code",
   "execution_count": 5,
   "metadata": {},
   "outputs": [],
   "source": [
    "df = spark.read.format('jdbc') \\\n",
    "          .options(driver='org.sqlite.JDBC', dbtable='stocks',\n",
    "                   url='jdbc:sqlite:/Users/derib/data_architecture/tp_spark/example.db').load()"
   ]
  },
  {
   "cell_type": "code",
   "execution_count": 6,
   "metadata": {},
   "outputs": [
    {
     "name": "stdout",
     "output_type": "stream",
     "text": [
      "+----------+-----+------+-----+-----+\n",
      "|      date|trans|symbol|  qty|price|\n",
      "+----------+-----+------+-----+-----+\n",
      "|2006-01-05|  BUY|  RHAT|100.0|35.14|\n",
      "+----------+-----+------+-----+-----+\n",
      "\n"
     ]
    }
   ],
   "source": [
    "df.show()"
   ]
  },
  {
   "cell_type": "code",
   "execution_count": 7,
   "metadata": {},
   "outputs": [],
   "source": [
    "df_other = spark.read.jdbc(url='jdbc:sqlite:/Users/derib/data_architecture/tp_spark/example.db',table=\"stocks\")"
   ]
  },
  {
   "cell_type": "code",
   "execution_count": 8,
   "metadata": {},
   "outputs": [
    {
     "name": "stdout",
     "output_type": "stream",
     "text": [
      "+----------+-----+------+---+------+\n",
      "|      date|trans|symbol|qty| price|\n",
      "+----------+-----+------+---+------+\n",
      "|2023-01-01|  BUY|  AAPL| 50| 150.0|\n",
      "|2023-01-02| SELL|  GOOG| 30|2800.0|\n",
      "|2023-01-03|  BUY|  MSFT| 20| 300.0|\n",
      "|2023-01-04| SELL|  AMZN| 10|3500.0|\n",
      "+----------+-----+------+---+------+\n",
      "\n"
     ]
    }
   ],
   "source": [
    "\n",
    "\n",
    "# Create dummy data\n",
    "data = [\n",
    "    Row(date=\"2023-01-01\", trans=\"BUY\", symbol=\"AAPL\", qty=50, price=150.0),\n",
    "    Row(date=\"2023-01-02\", trans=\"SELL\", symbol=\"GOOG\", qty=30, price=2800.0),\n",
    "    Row(date=\"2023-01-03\", trans=\"BUY\", symbol=\"MSFT\", qty=20, price=300.0),\n",
    "    Row(date=\"2023-01-04\", trans=\"SELL\", symbol=\"AMZN\", qty=10, price=3500.0)\n",
    "]\n",
    "\n",
    "# Create Spark DataFrame\n",
    "dummy_df = spark.createDataFrame(data)\n",
    "\n",
    "# Show the DataFrame\n",
    "dummy_df.show()"
   ]
  },
  {
   "cell_type": "code",
   "execution_count": 9,
   "metadata": {},
   "outputs": [
    {
     "name": "stderr",
     "output_type": "stream",
     "text": [
      "25/04/07 23:31:16 WARN JdbcUtils: Requested isolation level 1 is not supported; falling back to default isolation level 8\n"
     ]
    }
   ],
   "source": [
    "# Write the DataFrame to SQLite\n",
    "dummy_df.write \\\n",
    "    .format('jdbc') \\\n",
    "    .options(driver='org.sqlite.JDBC', dbtable='stocks',\n",
    "             url='jdbc:sqlite:/Users/derib/data_architecture/tp_spark/example.db') \\\n",
    "    .mode('append') \\\n",
    "    .save()"
   ]
  },
  {
   "cell_type": "code",
   "execution_count": 3,
   "metadata": {},
   "outputs": [],
   "source": [
    "#read the data from SQlite from the gender pay gap db\n",
    "df_country = spark.read.jdbc(url='jdbc:sqlite:/Users/derib/data_architecture/tp2/education_career_success.db',table=\"Country\")\n",
    "df_uni = spark.read.jdbc(url='jdbc:sqlite:/Users/derib/data_architecture/tp2/education_career_success.db',table=\"University\")"
   ]
  },
  {
   "cell_type": "code",
   "execution_count": 4,
   "metadata": {},
   "outputs": [
    {
     "name": "stdout",
     "output_type": "stream",
     "text": [
      "+---------+------------+\n",
      "|countryId| countryName|\n",
      "+---------+------------+\n",
      "|        1|       Egypt|\n",
      "|        2|     Eritrea|\n",
      "|        3|South-Africa|\n",
      "|        4|       China|\n",
      "|        5|       India|\n",
      "|        6|   Indonesia|\n",
      "|        7|        Iran|\n",
      "|        8|      Israel|\n",
      "|        9|       Japan|\n",
      "|       10|     Lebanon|\n",
      "|       11|    Malaysia|\n",
      "|       12|       Korea|\n",
      "|       13| Philippines|\n",
      "|       14|Saudi-Arabia|\n",
      "|       15|      Taiwan|\n",
      "|       16|    Thailand|\n",
      "|       17|      Turkey|\n",
      "|       18|     Vietnam|\n",
      "|       19|     Austria|\n",
      "|       20|     Belgium|\n",
      "+---------+------------+\n",
      "only showing top 20 rows\n",
      "\n"
     ]
    }
   ],
   "source": [
    "df_country.show()"
   ]
  },
  {
   "cell_type": "code",
   "execution_count": 5,
   "metadata": {},
   "outputs": [],
   "source": [
    "#Create a temporary view\n",
    "df_country.createOrReplaceTempView(\"country\")"
   ]
  },
  {
   "cell_type": "code",
   "execution_count": 16,
   "metadata": {},
   "outputs": [
    {
     "name": "stdout",
     "output_type": "stream",
     "text": [
      "+---------+-----------+\n",
      "|countryId|countryName|\n",
      "+---------+-----------+\n",
      "|        4|      China|\n",
      "+---------+-----------+\n",
      "\n"
     ]
    }
   ],
   "source": [
    "spark.sql(\"SELECT * FROM country WHERE countryName='China'\").show()"
   ]
  },
  {
   "cell_type": "code",
   "execution_count": 6,
   "metadata": {},
   "outputs": [
    {
     "name": "stdout",
     "output_type": "stream",
     "text": [
      "+------------+-----------------+-------------------+---------+\n",
      "|universityId|universityRanking|     universityName|countryId|\n",
      "+------------+-----------------+-------------------+---------+\n",
      "|        1310|               44|Tsinghua University|        4|\n",
      "+------------+-----------------+-------------------+---------+\n",
      "\n"
     ]
    }
   ],
   "source": [
    "df_uni.createOrReplaceTempView(\"university\")\n",
    "spark.sql(\"SELECT * FROM university WHERE universityName='Tsinghua University'\").show()"
   ]
  },
  {
   "cell_type": "code",
   "execution_count": 13,
   "metadata": {},
   "outputs": [
    {
     "name": "stdout",
     "output_type": "stream",
     "text": [
      "+--------------------+-----------------+-----------+\n",
      "|      universityName|universityRanking|countryName|\n",
      "+--------------------+-----------------+-----------+\n",
      "|      Háskóli slands|              739|    Iceland|\n",
      "|Edith Cowan Unive...|              746|  Australia|\n",
      "|  Murdoch University|              605|  Australia|\n",
      "|   Curtin University|              309|  Australia|\n",
      "|The University of...|              237|  Australia|\n",
      "| Victoria University|              863|  Australia|\n",
      "|Swinburne Univers...|              452|  Australia|\n",
      "| La Trobe University|              387|  Australia|\n",
      "|   Deakin University|              293|  Australia|\n",
      "|     RMIT University|              247|  Australia|\n",
      "|The University of...|               68|  Australia|\n",
      "|   Monash University|               57|  Australia|\n",
      "| Flinders University|              532|  Australia|\n",
      "|University of Sou...|              399|  Australia|\n",
      "|The University of...|              188|  Australia|\n",
      "|Central Queenslan...|              996|  Australia|\n",
      "|James Cook Univer...|              594|  Australia|\n",
      "| Griffith University|              326|  Australia|\n",
      "|Queensland Univer...|              252|  Australia|\n",
      "|The University of...|               77|  Australia|\n",
      "+--------------------+-----------------+-----------+\n",
      "only showing top 20 rows\n",
      "\n"
     ]
    }
   ],
   "source": [
    "spark.sql(\"\"\"\n",
    "    SELECT \n",
    "        uni.universityName, \n",
    "        uni.universityRanking, \n",
    "        c.countryName\n",
    "    FROM university uni\n",
    "    INNER JOIN country c \n",
    "    ON uni.countryId = c.countryId\n",
    "\"\"\").show()"
   ]
  },
  {
   "cell_type": "code",
   "execution_count": 19,
   "metadata": {},
   "outputs": [],
   "source": [
    "#SELECT the 20 first unviersities in the world"
   ]
  },
  {
   "cell_type": "code",
   "execution_count": null,
   "metadata": {},
   "outputs": [],
   "source": [
    "#SELECT the universities in Switzerland"
   ]
  },
  {
   "cell_type": "code",
   "execution_count": null,
   "metadata": {},
   "outputs": [],
   "source": [
    "#CREATE a temporary view of all the other tables in the database\n"
   ]
  },
  {
   "cell_type": "code",
   "execution_count": null,
   "metadata": {},
   "outputs": [],
   "source": [
    "#Use join to get all the data from all the tables"
   ]
  }
 ],
 "metadata": {
  "kernelspec": {
   "display_name": ".venv",
   "language": "python",
   "name": "python3"
  },
  "language_info": {
   "codemirror_mode": {
    "name": "ipython",
    "version": 3
   },
   "file_extension": ".py",
   "mimetype": "text/x-python",
   "name": "python",
   "nbconvert_exporter": "python",
   "pygments_lexer": "ipython3",
   "version": "3.13.2"
  }
 },
 "nbformat": 4,
 "nbformat_minor": 2
}
