{
 "cells": [
  {
   "cell_type": "code",
   "execution_count": 1,
   "metadata": {},
   "outputs": [],
   "source": [
    "from pyspark.sql import SparkSession\n",
    "\n",
    "\n",
    "from pyspark.ml.feature import StringIndexer,OneHotEncoder,VectorIndexer,Imputer,VectorAssembler, StandardScaler\n",
    "from pyspark.ml import Pipeline\n",
    "from pyspark.sql.functions import col,isnan, when, count\n",
    "from pyspark.ml.regression import LinearRegression,RandomForestRegressor\n",
    "from pyspark.ml.evaluation import RegressionEvaluator,BinaryClassificationEvaluator\n",
    "\n",
    "from pyspark.ml.tuning import ParamGridBuilder, CrossValidator\n",
    "\n",
    "\n"
   ]
  },
  {
   "cell_type": "code",
   "execution_count": 2,
   "metadata": {},
   "outputs": [
    {
     "name": "stderr",
     "output_type": "stream",
     "text": [
      "25/04/14 15:12:22 WARN Utils: Your hostname, MacBook-Pro-de-de.local resolves to a loopback address: 127.0.0.1; using 192.168.1.17 instead (on interface en0)\n",
      "25/04/14 15:12:22 WARN Utils: Set SPARK_LOCAL_IP if you need to bind to another address\n",
      "Setting default log level to \"WARN\".\n",
      "To adjust logging level use sc.setLogLevel(newLevel). For SparkR, use setLogLevel(newLevel).\n",
      "25/04/14 15:12:22 WARN NativeCodeLoader: Unable to load native-hadoop library for your platform... using builtin-java classes where applicable\n"
     ]
    },
    {
     "data": {
      "text/html": [
       "\n",
       "            <div>\n",
       "                <p><b>SparkSession - in-memory</b></p>\n",
       "                \n",
       "        <div>\n",
       "            <p><b>SparkContext</b></p>\n",
       "\n",
       "            <p><a href=\"http://192.168.1.17:4040\">Spark UI</a></p>\n",
       "\n",
       "            <dl>\n",
       "              <dt>Version</dt>\n",
       "                <dd><code>v3.5.5</code></dd>\n",
       "              <dt>Master</dt>\n",
       "                <dd><code>local</code></dd>\n",
       "              <dt>AppName</dt>\n",
       "                <dd><code>ml_tutorial</code></dd>\n",
       "            </dl>\n",
       "        </div>\n",
       "        \n",
       "            </div>\n",
       "        "
      ],
      "text/plain": [
       "<pyspark.sql.session.SparkSession at 0x10ddd4830>"
      ]
     },
     "execution_count": 2,
     "metadata": {},
     "output_type": "execute_result"
    }
   ],
   "source": [
    "spark = (SparkSession.builder\n",
    "    .master(\"local\")\n",
    "    .appName(\"ml_tutorial\")\n",
    "    .getOrCreate())\n",
    "spark"
   ]
  },
  {
   "cell_type": "code",
   "execution_count": 3,
   "metadata": {},
   "outputs": [],
   "source": [
    "schema=\"number_courses int,time_study float,Marks float\""
   ]
  },
  {
   "cell_type": "code",
   "execution_count": 4,
   "metadata": {},
   "outputs": [
    {
     "name": "stdout",
     "output_type": "stream",
     "text": [
      "+--------------+----------+------+\n",
      "|number_courses|time_study| Marks|\n",
      "+--------------+----------+------+\n",
      "|             3|     4.508|19.202|\n",
      "|             4|     0.096| 7.734|\n",
      "|             4|     3.133|13.811|\n",
      "|             6|     7.909|53.018|\n",
      "|             8|     7.811|55.299|\n",
      "|             6|     3.211|17.822|\n",
      "|             3|     6.063|29.889|\n",
      "|             5|     3.413|17.264|\n",
      "|             4|      4.41|20.348|\n",
      "|             3|     6.173|30.862|\n",
      "|             3|     7.353|42.036|\n",
      "|             7|     0.423|12.132|\n",
      "|             7|     4.218|24.318|\n",
      "|             3|     4.274|17.672|\n",
      "|             3|     2.908|11.397|\n",
      "|             4|      4.26|19.466|\n",
      "|             5|     5.719|30.548|\n",
      "|             8|      6.08| 38.49|\n",
      "|             6|     7.711|50.986|\n",
      "|             8|     3.977|25.133|\n",
      "+--------------+----------+------+\n",
      "only showing top 20 rows\n",
      "\n",
      "root\n",
      " |-- number_courses: integer (nullable = true)\n",
      " |-- time_study: float (nullable = true)\n",
      " |-- Marks: float (nullable = true)\n",
      "\n"
     ]
    }
   ],
   "source": [
    "df_marks_students = spark.read.format(\"csv\").option(\"header\",\"true\").schema(schema).load(\"/Users/derib/data_architecture/tp_spark/Student_Marks.csv\")\n",
    "df_marks_students.show()\n",
    "df_marks_students.printSchema()"
   ]
  },
  {
   "cell_type": "code",
   "execution_count": 5,
   "metadata": {},
   "outputs": [
    {
     "name": "stdout",
     "output_type": "stream",
     "text": [
      "+--------------+----------+-----+\n",
      "|number_courses|time_study|Marks|\n",
      "+--------------+----------+-----+\n",
      "|             0|         0|    0|\n",
      "+--------------+----------+-----+\n",
      "\n"
     ]
    }
   ],
   "source": [
    "#Display the number of missing values in each column\n",
    "df_marks_students.select([count(when(isnan(c) | col(c).isNull(), c)).alias(c) for c in df_marks_students.columns]\n",
    "   ).show()"
   ]
  },
  {
   "cell_type": "code",
   "execution_count": 6,
   "metadata": {},
   "outputs": [
    {
     "name": "stdout",
     "output_type": "stream",
     "text": [
      "+-------+------------------+------------------+------------------+\n",
      "|summary|    number_courses|        time_study|             Marks|\n",
      "+-------+------------------+------------------+------------------+\n",
      "|  count|               100|               100|               100|\n",
      "|   mean|              5.29| 4.077140005081892|24.417689995765684|\n",
      "| stddev|1.7995229446391696|2.3729141462032586|14.326198467356926|\n",
      "|    min|                 3|             0.096|             5.609|\n",
      "|    max|                 8|             7.957|            55.299|\n",
      "+-------+------------------+------------------+------------------+\n",
      "\n"
     ]
    }
   ],
   "source": [
    "#Describe the data\n",
    "df_marks_students.describe().show()"
   ]
  },
  {
   "cell_type": "code",
   "execution_count": 7,
   "metadata": {},
   "outputs": [
    {
     "name": "stdout",
     "output_type": "stream",
     "text": [
      "root\n",
      " |-- number_courses: integer (nullable = true)\n",
      " |-- time_study: float (nullable = true)\n",
      " |-- Marks: float (nullable = true)\n",
      "\n"
     ]
    }
   ],
   "source": [
    "df_marks_students.printSchema()"
   ]
  },
  {
   "cell_type": "markdown",
   "metadata": {},
   "source": [
    "## Transformers\n",
    "A transformer is an object that able to transform DataFrame => different types of transformers\n",
    "- SQLTransformer = using SQL to select and transform the columns\n",
    "- VectorAssembler\n",
    "...\n"
   ]
  },
  {
   "cell_type": "code",
   "execution_count": 8,
   "metadata": {},
   "outputs": [],
   "source": [
    "#Create a oneshot encoder for the categorical features\n",
    "encoder = OneHotEncoder(inputCols=[\"number_courses\"], outputCols=[\"number_courses_ohe\"])"
   ]
  },
  {
   "cell_type": "code",
   "execution_count": 9,
   "metadata": {},
   "outputs": [],
   "source": [
    "#Create a vector assembler to combine the features into a single vector\n",
    "assembler = VectorAssembler(inputCols=[\"number_courses_ohe\", \"time_study\"], outputCol=\"features\")\n",
    "#Create a standard scaler to normalize the features\n",
    "scaler = StandardScaler(inputCol=\"features\", outputCol=\"scaled_features\", withStd=True, withMean=False)"
   ]
  },
  {
   "cell_type": "code",
   "execution_count": 10,
   "metadata": {},
   "outputs": [],
   "source": [
    "train, test = df_marks_students.randomSplit([0.8, 0.2], 42)"
   ]
  },
  {
   "cell_type": "code",
   "execution_count": 11,
   "metadata": {},
   "outputs": [
    {
     "name": "stdout",
     "output_type": "stream",
     "text": [
      "root\n",
      " |-- number_courses: integer (nullable = true)\n",
      " |-- time_study: float (nullable = true)\n",
      " |-- Marks: float (nullable = true)\n",
      "\n"
     ]
    }
   ],
   "source": [
    "train.printSchema()"
   ]
  },
  {
   "cell_type": "code",
   "execution_count": 12,
   "metadata": {},
   "outputs": [],
   "source": [
    "#create the regression linear model\n",
    "lr = LinearRegression(featuresCol=\"scaled_features\", labelCol=\"Marks\", maxIter=10, regParam=0.3, elasticNetParam=0.8)"
   ]
  },
  {
   "cell_type": "code",
   "execution_count": null,
   "metadata": {},
   "outputs": [
    {
     "name": "stderr",
     "output_type": "stream",
     "text": [
      "25/04/14 15:12:26 WARN InstanceBuilder: Failed to load implementation from:dev.ludovic.netlib.blas.JNIBLAS\n",
      "25/04/14 15:12:26 WARN InstanceBuilder: Failed to load implementation from:dev.ludovic.netlib.blas.VectorBLAS\n"
     ]
    }
   ],
   "source": [
    "#create the pipeline\n",
    "pipeline = Pipeline(stages=[encoder, assembler, scaler,lr])\n",
    "model = pipeline.fit(train)\n"
   ]
  },
  {
   "cell_type": "code",
   "execution_count": 14,
   "metadata": {},
   "outputs": [
    {
     "name": "stdout",
     "output_type": "stream",
     "text": [
      "+--------------+----------+------+--------------------+------------------+\n",
      "|number_courses|time_study| Marks|     scaled_features|        prediction|\n",
      "+--------------+----------+------+--------------------+------------------+\n",
      "|             3|     0.803| 6.217|(9,[3,8],[2.46291...| 3.274524640283653|\n",
      "|             3|     1.629| 7.014|(9,[3,8],[2.46291...| 7.777745088381882|\n",
      "|             3|     2.061| 8.924|(9,[3,8],[2.46291...|10.132941230598021|\n",
      "|             3|     4.633|20.398|(9,[3,8],[2.46291...| 24.15507487078258|\n",
      "|             3|     6.335|32.357|(9,[3,8],[2.46291...| 33.43410885182787|\n",
      "|             4|      0.14| 7.336|(9,[4,8],[2.41186...|0.5602217137003125|\n",
      "|             4|     2.966|13.119|(9,[4,8],[2.41186...|15.967124530178156|\n",
      "|             4|      4.41|20.348|(9,[4,8],[2.41186...| 23.83958152094306|\n",
      "|             5|     1.803|11.253|(9,[5,8],[4.17747...|12.556170686166167|\n",
      "|             5|     2.051|12.209|(9,[5,8],[4.17747...|13.908228019620653|\n",
      "+--------------+----------+------+--------------------+------------------+\n",
      "only showing top 10 rows\n",
      "\n"
     ]
    }
   ],
   "source": [
    "predictions = model.transform(test)\n",
    "predictions.select(\"number_courses\", \"time_study\", \"Marks\", \"scaled_features\", \"prediction\").show(10)"
   ]
  },
  {
   "cell_type": "code",
   "execution_count": 22,
   "metadata": {},
   "outputs": [
    {
     "name": "stdout",
     "output_type": "stream",
     "text": [
      "Root Mean Squared Error (RMSE) on test data = 3.3746\n",
      "R2 on test data = 0.861876\n"
     ]
    }
   ],
   "source": [
    "\n",
    "#use a regressionEvaluater to evaluate the model\n",
    "evaluator = RegressionEvaluator(labelCol=\"Marks\", predictionCol=\"prediction\", metricName=\"rmse\")\n",
    "rmse = evaluator.evaluate(predictions)\n",
    "print(\"Root Mean Squared Error (RMSE) on test data = %g\" % rmse)\n",
    "evaluator = RegressionEvaluator(labelCol=\"Marks\", predictionCol=\"prediction\", metricName=\"r2\")\n",
    "r2 = evaluator.evaluate(predictions)\n",
    "print(\"R2 on test data = %g\" % r2)"
   ]
  },
  {
   "cell_type": "code",
   "execution_count": null,
   "metadata": {},
   "outputs": [
    {
     "name": "stderr",
     "output_type": "stream",
     "text": [
      "25/04/14 15:12:27 WARN InstanceBuilder: Failed to load implementation from:dev.ludovic.netlib.lapack.JNILAPACK\n"
     ]
    },
    {
     "name": "stdout",
     "output_type": "stream",
     "text": [
      "+--------------+----------+------+--------------------+-------------------+\n",
      "|number_courses|time_study| Marks|     scaled_features|         prediction|\n",
      "+--------------+----------+------+--------------------+-------------------+\n",
      "|             3|     0.803| 6.217|(9,[3,8],[2.46291...| 2.8141891327271855|\n",
      "|             3|     1.629| 7.014|(9,[3,8],[2.46291...|   7.36169673242334|\n",
      "|             3|     2.061| 8.924|(9,[3,8],[2.46291...|  9.740055171443586|\n",
      "|             3|     4.633|20.398|(9,[3,8],[2.46291...| 23.900090201401657|\n",
      "|             3|     6.335|32.357|(9,[3,8],[2.46291...|  33.27037931626444|\n",
      "|             4|      0.14| 7.336|(9,[4,8],[2.41186...|0.08178843236385624|\n",
      "|             4|     2.966|13.119|(9,[4,8],[2.41186...| 15.640211221837028|\n",
      "|             4|      4.41|20.348|(9,[4,8],[2.41186...| 23.590090293136633|\n",
      "|             5|     1.803|11.253|(9,[5,8],[4.17747...| 11.927241511963397|\n",
      "|             5|     2.051|12.209|(9,[5,8],[4.17747...| 13.292595722349828|\n",
      "+--------------+----------+------+--------------------+-------------------+\n",
      "only showing top 10 rows\n",
      "\n",
      "Root Mean Squared Error (RMSE) on test data = 3.3746\n",
      "R2 on test data = 0.861876\n"
     ]
    }
   ],
   "source": [
    "#create a cross validation for the linear regression model\n",
    "paramGrid = (ParamGridBuilder()\n",
    "             .addGrid(lr.regParam, [0.1, 0.01])\n",
    "             .addGrid(lr.fitIntercept, [False, True])\\\n",
    "             .addGrid(lr.elasticNetParam, [0.0, 0.5, 1.0])\n",
    "             .build())\n",
    "crossval = CrossValidator(estimator=pipeline,\n",
    "                           estimatorParamMaps=paramGrid,\n",
    "                           evaluator=evaluator,\n",
    "                           trainRatio=0.8)  # use 3+ folds in practice\n",
    "# Fit the model \n",
    "cvModel = crossval.fit(train)\n",
    "# Make predictions on test data\n",
    "predictions = cvModel.transform(test)\n",
    "predictions.select(\"number_courses\", \"time_study\", \"Marks\", \"scaled_features\", \"prediction\").show(10)\n",
    "#use a regressionEvaluater to evaluate the model\n",
    "evaluator = RegressionEvaluator(labelCol=\"Marks\", predictionCol=\"prediction\", metricName=\"rmse\")\n",
    "rmse = evaluator.evaluate(predictions)\n",
    "print(\"Root Mean Squared Error (RMSE) on test data = %g\" % rmse)\n",
    "#use a regressionEvaluater to evaluate the model\n",
    "evaluator = RegressionEvaluator(labelCol=\"Marks\", predictionCol=\"prediction\", metricName=\"r2\")\n",
    "r2 = evaluator.evaluate(predictions)\n",
    "print(\"R2 on test data = %g\" % r2)"
   ]
  },
  {
   "cell_type": "markdown",
   "metadata": {},
   "source": [
    "## RandomForestRegressor"
   ]
  },
  {
   "cell_type": "code",
   "execution_count": 17,
   "metadata": {},
   "outputs": [
    {
     "name": "stdout",
     "output_type": "stream",
     "text": [
      "+------------------+------+--------------------+\n",
      "|        prediction| Marks|     scaled_features|\n",
      "+------------------+------+--------------------+\n",
      "|15.267259167507481| 6.217|(9,[3,8],[2.46291...|\n",
      "|15.396839756642969| 7.014|(9,[3,8],[2.46291...|\n",
      "| 17.33859478600342| 8.924|(9,[3,8],[2.46291...|\n",
      "| 19.59041194126907|20.398|(9,[3,8],[2.46291...|\n",
      "|  32.7994070784218|32.357|(9,[3,8],[2.46291...|\n",
      "+------------------+------+--------------------+\n",
      "only showing top 5 rows\n",
      "\n",
      "Root Mean Squared Error (RMSE) on test data = 5.59788\n",
      "R Squared (R2) on test data = 0.6199226389618218\n",
      "[OneHotEncoderModel: uid=OneHotEncoder_7e9b21f4a816, dropLast=true, handleInvalid=error, numInputCols=1, numOutputCols=1, VectorAssembler_dfc375bd2218, StandardScalerModel: uid=StandardScaler_23373989f9c8, numFeatures=9, withMean=false, withStd=true, RandomForestRegressionModel: uid=RandomForestRegressor_fe7d3c1f5e47, numTrees=30, numFeatures=9]\n"
     ]
    }
   ],
   "source": [
    "# Train a RandomForest model.\n",
    "rf = RandomForestRegressor(featuresCol=\"scaled_features\",labelCol=\"Marks\", numTrees=30, maxDepth=20, seed=42)\n",
    "pipeline_2 = Pipeline(stages=[encoder, assembler, scaler, rf])\n",
    "\n",
    "\n",
    "# Train model.  This also runs the indexer.\n",
    "model_2 = pipeline_2.fit(train)\n",
    "\n",
    "# Make predictions.\n",
    "predictions_2 = model_2.transform(test)\n",
    "\n",
    "# Select example rows to display.\n",
    "predictions_2.select(\"prediction\", \"Marks\", \"scaled_features\").show(5)\n",
    "\n",
    "# Select (prediction, true label) and compute test error\n",
    "evaluator = RegressionEvaluator(\n",
    "    labelCol=\"Marks\", predictionCol=\"prediction\", metricName=\"rmse\")\n",
    "rmse = evaluator.evaluate(predictions_2)\n",
    "print(\"Root Mean Squared Error (RMSE) on test data = %g\" % rmse)\n",
    "\n",
    "evaluator = RegressionEvaluator(labelCol=\"Marks\",\\\n",
    "                                predictionCol=\"prediction\", metricName=\"r2\")\n",
    "print(\"R Squared (R2) on test data =\", evaluator.evaluate(predictions_2))\n",
    "\n",
    "rfModel = model_2.stages\n",
    "print(rfModel)  # summary only"
   ]
  },
  {
   "cell_type": "code",
   "execution_count": 18,
   "metadata": {},
   "outputs": [
    {
     "name": "stdout",
     "output_type": "stream",
     "text": [
      "+------------------+------+--------------------+\n",
      "|        prediction| Marks|     scaled_features|\n",
      "+------------------+------+--------------------+\n",
      "|14.246069966035174| 6.217|(9,[3,8],[2.46291...|\n",
      "|16.599491428185022| 7.014|(9,[3,8],[2.46291...|\n",
      "|17.967762246577458| 8.924|(9,[3,8],[2.46291...|\n",
      "| 20.49776913071525|20.398|(9,[3,8],[2.46291...|\n",
      "| 30.32154104742755|32.357|(9,[3,8],[2.46291...|\n",
      "+------------------+------+--------------------+\n",
      "only showing top 5 rows\n",
      "\n"
     ]
    }
   ],
   "source": [
    "#create a cross validation for the random forest model\n",
    "#define the parameter grid for the cross validatation of the random forest model\n",
    "paramGrid = (ParamGridBuilder()\n",
    "             .addGrid(rf.numTrees, [10, 20, 30])\n",
    "             .addGrid(rf.maxDepth, [5, 10,15])\n",
    "             .addGrid(rf.maxBins, [10, 20,30,40])\n",
    "             .build())\n",
    "# Create 5-fold CrossValidator\n",
    "crossval = CrossValidator(estimator=pipeline_2,\n",
    "                           estimatorParamMaps=paramGrid,\n",
    "                           evaluator=evaluator,\n",
    "                           numFolds=5)  # use 3+ folds in practice\n",
    "# Run cross-validation, and choose the best set of parameters.\n",
    "cvModel = crossval.fit(train)\n",
    "# Make predictions.\n",
    "predictions_cv = cvModel.transform(test)\n",
    "# Select example rows to display.\n",
    "predictions_cv.select(\"prediction\", \"Marks\", \"scaled_features\").show(5)"
   ]
  },
  {
   "cell_type": "code",
   "execution_count": 19,
   "metadata": {},
   "outputs": [
    {
     "name": "stdout",
     "output_type": "stream",
     "text": [
      "Root Mean Squared Error (RMSE): 0.5766536603887017\n",
      "Coefficient of Determination (R2): 0.8618755536682241\n"
     ]
    }
   ],
   "source": [
    "# Evaluate the model\n",
    "rmse = evaluator.evaluate(predictions_cv)\n",
    "r2 = RegressionEvaluator(predictionCol=\"prediction\", labelCol=\"Marks\", metricName=\"r2\").evaluate(predictions)\n",
    "\n",
    "print(\"Root Mean Squared Error (RMSE):\", rmse)\n",
    "print(\"Coefficient of Determination (R2):\", r2)"
   ]
  },
  {
   "cell_type": "code",
   "execution_count": 20,
   "metadata": {},
   "outputs": [],
   "source": [
    "lasso_model = cvModel.bestModel"
   ]
  },
  {
   "cell_type": "code",
   "execution_count": 21,
   "metadata": {},
   "outputs": [
    {
     "data": {
      "text/plain": [
       "{Param(parent='RandomForestRegressor_fe7d3c1f5e47', name='bootstrap', doc='Whether bootstrap samples are used when building trees.'): True,\n",
       " Param(parent='RandomForestRegressor_fe7d3c1f5e47', name='cacheNodeIds', doc='If false, the algorithm will pass trees to executors to match instances with nodes. If true, the algorithm will cache node IDs for each instance. Caching can speed up training of deeper trees. Users can set how often should the cache be checkpointed or disable it by setting checkpointInterval.'): False,\n",
       " Param(parent='RandomForestRegressor_fe7d3c1f5e47', name='checkpointInterval', doc='set checkpoint interval (>= 1) or disable checkpoint (-1). E.g. 10 means that the cache will get checkpointed every 10 iterations. Note: this setting will be ignored if the checkpoint directory is not set in the SparkContext.'): 10,\n",
       " Param(parent='RandomForestRegressor_fe7d3c1f5e47', name='featureSubsetStrategy', doc=\"The number of features to consider for splits at each tree node. Supported options: 'auto' (choose automatically for task: If numTrees == 1, set to 'all'. If numTrees > 1 (forest), set to 'sqrt' for classification and to 'onethird' for regression), 'all' (use all features), 'onethird' (use 1/3 of the features), 'sqrt' (use sqrt(number of features)), 'log2' (use log2(number of features)), 'n' (when n is in the range (0, 1.0], use n * number of features. When n is in the range (1, number of features), use n features). default = 'auto'\"): 'auto',\n",
       " Param(parent='RandomForestRegressor_fe7d3c1f5e47', name='featuresCol', doc='features column name.'): 'scaled_features',\n",
       " Param(parent='RandomForestRegressor_fe7d3c1f5e47', name='impurity', doc='Criterion used for information gain calculation (case-insensitive). Supported options: variance'): 'variance',\n",
       " Param(parent='RandomForestRegressor_fe7d3c1f5e47', name='labelCol', doc='label column name.'): 'Marks',\n",
       " Param(parent='RandomForestRegressor_fe7d3c1f5e47', name='leafCol', doc='Leaf indices column name. Predicted leaf index of each instance in each tree by preorder.'): '',\n",
       " Param(parent='RandomForestRegressor_fe7d3c1f5e47', name='maxBins', doc='Max number of bins for discretizing continuous features.  Must be >=2 and >= number of categories for any categorical feature.'): 40,\n",
       " Param(parent='RandomForestRegressor_fe7d3c1f5e47', name='maxDepth', doc='Maximum depth of the tree. (>= 0) E.g., depth 0 means 1 leaf node; depth 1 means 1 internal node + 2 leaf nodes. Must be in range [0, 30].'): 10,\n",
       " Param(parent='RandomForestRegressor_fe7d3c1f5e47', name='maxMemoryInMB', doc='Maximum memory in MB allocated to histogram aggregation. If too small, then 1 node will be split per iteration, and its aggregates may exceed this size.'): 256,\n",
       " Param(parent='RandomForestRegressor_fe7d3c1f5e47', name='minInfoGain', doc='Minimum information gain for a split to be considered at a tree node.'): 0.0,\n",
       " Param(parent='RandomForestRegressor_fe7d3c1f5e47', name='minInstancesPerNode', doc='Minimum number of instances each child must have after split. If a split causes the left or right child to have fewer than minInstancesPerNode, the split will be discarded as invalid. Should be >= 1.'): 1,\n",
       " Param(parent='RandomForestRegressor_fe7d3c1f5e47', name='minWeightFractionPerNode', doc='Minimum fraction of the weighted sample count that each child must have after split. If a split causes the fraction of the total weight in the left or right child to be less than minWeightFractionPerNode, the split will be discarded as invalid. Should be in interval [0.0, 0.5).'): 0.0,\n",
       " Param(parent='RandomForestRegressor_fe7d3c1f5e47', name='numTrees', doc='Number of trees to train (>= 1).'): 20,\n",
       " Param(parent='RandomForestRegressor_fe7d3c1f5e47', name='predictionCol', doc='prediction column name.'): 'prediction',\n",
       " Param(parent='RandomForestRegressor_fe7d3c1f5e47', name='seed', doc='random seed.'): 42,\n",
       " Param(parent='RandomForestRegressor_fe7d3c1f5e47', name='subsamplingRate', doc='Fraction of the training data used for learning each decision tree, in range (0, 1].'): 1.0}"
      ]
     },
     "execution_count": 21,
     "metadata": {},
     "output_type": "execute_result"
    }
   ],
   "source": [
    "lasso_model.stages[3].extractParamMap()"
   ]
  }
 ],
 "metadata": {
  "kernelspec": {
   "display_name": ".venv",
   "language": "python",
   "name": "python3"
  },
  "language_info": {
   "codemirror_mode": {
    "name": "ipython",
    "version": 3
   },
   "file_extension": ".py",
   "mimetype": "text/x-python",
   "name": "python",
   "nbconvert_exporter": "python",
   "pygments_lexer": "ipython3",
   "version": "3.13.2"
  }
 },
 "nbformat": 4,
 "nbformat_minor": 2
}
