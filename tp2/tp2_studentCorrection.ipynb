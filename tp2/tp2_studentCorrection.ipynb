{
 "cells": [
  {
   "cell_type": "code",
   "execution_count": 92,
   "metadata": {},
   "outputs": [
    {
     "name": "stdout",
     "output_type": "stream",
     "text": [
      "Requirement already satisfied: plotly in /Users/derib/Documents/cours_unige/TechnologiesAndArchitectureForData/cours_moi/TP_code/.venv/lib/python3.13/site-packages (6.0.0)\n",
      "Requirement already satisfied: narwhals>=1.15.1 in /Users/derib/Documents/cours_unige/TechnologiesAndArchitectureForData/cours_moi/TP_code/.venv/lib/python3.13/site-packages (from plotly) (1.27.1)\n",
      "Requirement already satisfied: packaging in /Users/derib/Documents/cours_unige/TechnologiesAndArchitectureForData/cours_moi/TP_code/.venv/lib/python3.13/site-packages (from plotly) (24.2)\n",
      "Requirement already satisfied: nbformat in /Users/derib/Documents/cours_unige/TechnologiesAndArchitectureForData/cours_moi/TP_code/.venv/lib/python3.13/site-packages (5.10.4)\n",
      "Requirement already satisfied: fastjsonschema>=2.15 in /Users/derib/Documents/cours_unige/TechnologiesAndArchitectureForData/cours_moi/TP_code/.venv/lib/python3.13/site-packages (from nbformat) (2.21.1)\n",
      "Requirement already satisfied: jsonschema>=2.6 in /Users/derib/Documents/cours_unige/TechnologiesAndArchitectureForData/cours_moi/TP_code/.venv/lib/python3.13/site-packages (from nbformat) (4.23.0)\n",
      "Requirement already satisfied: jupyter-core!=5.0.*,>=4.12 in /Users/derib/Documents/cours_unige/TechnologiesAndArchitectureForData/cours_moi/TP_code/.venv/lib/python3.13/site-packages (from nbformat) (5.7.2)\n",
      "Requirement already satisfied: traitlets>=5.1 in /Users/derib/Documents/cours_unige/TechnologiesAndArchitectureForData/cours_moi/TP_code/.venv/lib/python3.13/site-packages (from nbformat) (5.14.3)\n",
      "Requirement already satisfied: attrs>=22.2.0 in /Users/derib/Documents/cours_unige/TechnologiesAndArchitectureForData/cours_moi/TP_code/.venv/lib/python3.13/site-packages (from jsonschema>=2.6->nbformat) (25.1.0)\n",
      "Requirement already satisfied: jsonschema-specifications>=2023.03.6 in /Users/derib/Documents/cours_unige/TechnologiesAndArchitectureForData/cours_moi/TP_code/.venv/lib/python3.13/site-packages (from jsonschema>=2.6->nbformat) (2024.10.1)\n",
      "Requirement already satisfied: referencing>=0.28.4 in /Users/derib/Documents/cours_unige/TechnologiesAndArchitectureForData/cours_moi/TP_code/.venv/lib/python3.13/site-packages (from jsonschema>=2.6->nbformat) (0.36.2)\n",
      "Requirement already satisfied: rpds-py>=0.7.1 in /Users/derib/Documents/cours_unige/TechnologiesAndArchitectureForData/cours_moi/TP_code/.venv/lib/python3.13/site-packages (from jsonschema>=2.6->nbformat) (0.22.3)\n",
      "Requirement already satisfied: platformdirs>=2.5 in /Users/derib/Documents/cours_unige/TechnologiesAndArchitectureForData/cours_moi/TP_code/.venv/lib/python3.13/site-packages (from jupyter-core!=5.0.*,>=4.12->nbformat) (4.3.6)\n"
     ]
    }
   ],
   "source": [
    "!pip install plotly\n",
    "!pip install --upgrade nbformat"
   ]
  },
  {
   "cell_type": "markdown",
   "metadata": {},
   "source": [
    "### Generate and Upload Data in the database"
   ]
  },
  {
   "cell_type": "code",
   "execution_count": 93,
   "metadata": {},
   "outputs": [],
   "source": [
    "import sqlite3\n",
    "import pandas as pd\n",
    "import plotly.express as px\n"
   ]
  },
  {
   "cell_type": "code",
   "execution_count": 94,
   "metadata": {},
   "outputs": [
    {
     "data": {
      "text/plain": [
       "Student_ID                object\n",
       "Age                        int64\n",
       "Gender                    object\n",
       "High_School_GPA          float64\n",
       "SAT_Score                  int64\n",
       "University_Ranking         int64\n",
       "University_GPA           float64\n",
       "Field_of_Study            object\n",
       "Internships_Completed      int64\n",
       "Projects_Completed         int64\n",
       "Certifications             int64\n",
       "Soft_Skills_Score          int64\n",
       "Networking_Score           int64\n",
       "Job_Offers                 int64\n",
       "Starting_Salary          float64\n",
       "Career_Satisfaction        int64\n",
       "Years_to_Promotion         int64\n",
       "Current_Job_Level         object\n",
       "Work_Life_Balance          int64\n",
       "Entrepreneurship          object\n",
       "dtype: object"
      ]
     },
     "execution_count": 94,
     "metadata": {},
     "output_type": "execute_result"
    }
   ],
   "source": [
    "\n",
    "df_students = pd.read_csv(\"education_career_success.csv\")\n",
    "df_students.dtypes"
   ]
  },
  {
   "cell_type": "code",
   "execution_count": 95,
   "metadata": {},
   "outputs": [
    {
     "data": {
      "text/html": [
       "<div>\n",
       "<style scoped>\n",
       "    .dataframe tbody tr th:only-of-type {\n",
       "        vertical-align: middle;\n",
       "    }\n",
       "\n",
       "    .dataframe tbody tr th {\n",
       "        vertical-align: top;\n",
       "    }\n",
       "\n",
       "    .dataframe thead th {\n",
       "        text-align: right;\n",
       "    }\n",
       "</style>\n",
       "<table border=\"1\" class=\"dataframe\">\n",
       "  <thead>\n",
       "    <tr style=\"text-align: right;\">\n",
       "      <th></th>\n",
       "      <th>university_id</th>\n",
       "      <th>University</th>\n",
       "      <th>Country</th>\n",
       "      <th>City</th>\n",
       "      <th>Global Rank</th>\n",
       "    </tr>\n",
       "  </thead>\n",
       "  <tbody>\n",
       "    <tr>\n",
       "      <th>0</th>\n",
       "      <td>0</td>\n",
       "      <td>Université des Sciences et de la Technologie H...</td>\n",
       "      <td>Algeria</td>\n",
       "      <td>Algiers</td>\n",
       "      <td>3677</td>\n",
       "    </tr>\n",
       "    <tr>\n",
       "      <th>1</th>\n",
       "      <td>1</td>\n",
       "      <td>Université Benyoucef Benkhedda d’Alger 1</td>\n",
       "      <td>Algeria</td>\n",
       "      <td>Algiers</td>\n",
       "      <td>4919</td>\n",
       "    </tr>\n",
       "    <tr>\n",
       "      <th>2</th>\n",
       "      <td>2</td>\n",
       "      <td>École Nationale Supérieure d’Informatique</td>\n",
       "      <td>Algeria</td>\n",
       "      <td>Algiers</td>\n",
       "      <td>6297</td>\n",
       "    </tr>\n",
       "    <tr>\n",
       "      <th>3</th>\n",
       "      <td>3</td>\n",
       "      <td>École Nationale Polytechnique</td>\n",
       "      <td>Algeria</td>\n",
       "      <td>Algiers</td>\n",
       "      <td>6411</td>\n",
       "    </tr>\n",
       "    <tr>\n",
       "      <th>4</th>\n",
       "      <td>4</td>\n",
       "      <td>Université Abou el Kacem Saâdallah d’Alger 2</td>\n",
       "      <td>Algeria</td>\n",
       "      <td>Algiers</td>\n",
       "      <td>6421</td>\n",
       "    </tr>\n",
       "    <tr>\n",
       "      <th>...</th>\n",
       "      <td>...</td>\n",
       "      <td>...</td>\n",
       "      <td>...</td>\n",
       "      <td>...</td>\n",
       "      <td>...</td>\n",
       "    </tr>\n",
       "    <tr>\n",
       "      <th>12708</th>\n",
       "      <td>12708</td>\n",
       "      <td>Facultad de Teologa del Uruguay Mons. Mariano ...</td>\n",
       "      <td>Uruguay</td>\n",
       "      <td>Uruguay</td>\n",
       "      <td>11518</td>\n",
       "    </tr>\n",
       "    <tr>\n",
       "      <th>12709</th>\n",
       "      <td>12709</td>\n",
       "      <td>Politécnico de Punta del Este</td>\n",
       "      <td>Uruguay</td>\n",
       "      <td>Uruguay</td>\n",
       "      <td>11549</td>\n",
       "    </tr>\n",
       "    <tr>\n",
       "      <th>12710</th>\n",
       "      <td>12710</td>\n",
       "      <td>Instituto Universitario de Docencia, Investiga...</td>\n",
       "      <td>Uruguay</td>\n",
       "      <td>Uruguay</td>\n",
       "      <td>11572</td>\n",
       "    </tr>\n",
       "    <tr>\n",
       "      <th>12711</th>\n",
       "      <td>12711</td>\n",
       "      <td>Instituto Metodista Universitario Crandon</td>\n",
       "      <td>Uruguay</td>\n",
       "      <td>Uruguay</td>\n",
       "      <td>11630</td>\n",
       "    </tr>\n",
       "    <tr>\n",
       "      <th>12712</th>\n",
       "      <td>12712</td>\n",
       "      <td>Instituto Universitario de Postgrado en Psicoa...</td>\n",
       "      <td>Uruguay</td>\n",
       "      <td>Uruguay</td>\n",
       "      <td>12698</td>\n",
       "    </tr>\n",
       "  </tbody>\n",
       "</table>\n",
       "<p>12713 rows × 5 columns</p>\n",
       "</div>"
      ],
      "text/plain": [
       "       university_id                                         University  \\\n",
       "0                  0  Université des Sciences et de la Technologie H...   \n",
       "1                  1           Université Benyoucef Benkhedda d’Alger 1   \n",
       "2                  2          École Nationale Supérieure d’Informatique   \n",
       "3                  3                      École Nationale Polytechnique   \n",
       "4                  4       Université Abou el Kacem Saâdallah d’Alger 2   \n",
       "...              ...                                                ...   \n",
       "12708          12708  Facultad de Teologa del Uruguay Mons. Mariano ...   \n",
       "12709          12709                      Politécnico de Punta del Este   \n",
       "12710          12710  Instituto Universitario de Docencia, Investiga...   \n",
       "12711          12711          Instituto Metodista Universitario Crandon   \n",
       "12712          12712  Instituto Universitario de Postgrado en Psicoa...   \n",
       "\n",
       "       Country     City  Global Rank  \n",
       "0      Algeria  Algiers         3677  \n",
       "1      Algeria  Algiers         4919  \n",
       "2      Algeria  Algiers         6297  \n",
       "3      Algeria  Algiers         6411  \n",
       "4      Algeria  Algiers         6421  \n",
       "...        ...      ...          ...  \n",
       "12708  Uruguay  Uruguay        11518  \n",
       "12709  Uruguay  Uruguay        11549  \n",
       "12710  Uruguay  Uruguay        11572  \n",
       "12711  Uruguay  Uruguay        11630  \n",
       "12712  Uruguay  Uruguay        12698  \n",
       "\n",
       "[12713 rows x 5 columns]"
      ]
     },
     "execution_count": 95,
     "metadata": {},
     "output_type": "execute_result"
    }
   ],
   "source": [
    "df_ranking = pd.read_csv(\"top_universities.csv\")\n",
    "df_ranking = df_ranking.reset_index()\n",
    "df_ranking.rename(columns={'index':'university_id'}, inplace=True)\n",
    "df_ranking"
   ]
  },
  {
   "cell_type": "code",
   "execution_count": 96,
   "metadata": {},
   "outputs": [
    {
     "data": {
      "text/html": [
       "<div>\n",
       "<style scoped>\n",
       "    .dataframe tbody tr th:only-of-type {\n",
       "        vertical-align: middle;\n",
       "    }\n",
       "\n",
       "    .dataframe tbody tr th {\n",
       "        vertical-align: top;\n",
       "    }\n",
       "\n",
       "    .dataframe thead th {\n",
       "        text-align: right;\n",
       "    }\n",
       "</style>\n",
       "<table border=\"1\" class=\"dataframe\">\n",
       "  <thead>\n",
       "    <tr style=\"text-align: right;\">\n",
       "      <th></th>\n",
       "      <th>university_id</th>\n",
       "      <th>University</th>\n",
       "      <th>Country</th>\n",
       "      <th>City</th>\n",
       "      <th>Global Rank</th>\n",
       "      <th>Student_ID</th>\n",
       "      <th>Age</th>\n",
       "      <th>Gender</th>\n",
       "      <th>High_School_GPA</th>\n",
       "      <th>SAT_Score</th>\n",
       "      <th>...</th>\n",
       "      <th>Certifications</th>\n",
       "      <th>Soft_Skills_Score</th>\n",
       "      <th>Networking_Score</th>\n",
       "      <th>Job_Offers</th>\n",
       "      <th>Starting_Salary</th>\n",
       "      <th>Career_Satisfaction</th>\n",
       "      <th>Years_to_Promotion</th>\n",
       "      <th>Current_Job_Level</th>\n",
       "      <th>Work_Life_Balance</th>\n",
       "      <th>Entrepreneurship</th>\n",
       "    </tr>\n",
       "  </thead>\n",
       "  <tbody>\n",
       "    <tr>\n",
       "      <th>0</th>\n",
       "      <td>195</td>\n",
       "      <td>The American University in Cairo</td>\n",
       "      <td>Egypt</td>\n",
       "      <td>New Cairo</td>\n",
       "      <td>914</td>\n",
       "      <td>S01275</td>\n",
       "      <td>21</td>\n",
       "      <td>Female</td>\n",
       "      <td>2.76</td>\n",
       "      <td>1081</td>\n",
       "      <td>...</td>\n",
       "      <td>1</td>\n",
       "      <td>8</td>\n",
       "      <td>7</td>\n",
       "      <td>4</td>\n",
       "      <td>39200.0</td>\n",
       "      <td>7</td>\n",
       "      <td>5</td>\n",
       "      <td>Mid</td>\n",
       "      <td>2</td>\n",
       "      <td>No</td>\n",
       "    </tr>\n",
       "    <tr>\n",
       "      <th>1</th>\n",
       "      <td>195</td>\n",
       "      <td>The American University in Cairo</td>\n",
       "      <td>Egypt</td>\n",
       "      <td>New Cairo</td>\n",
       "      <td>914</td>\n",
       "      <td>S01751</td>\n",
       "      <td>29</td>\n",
       "      <td>Male</td>\n",
       "      <td>3.62</td>\n",
       "      <td>1141</td>\n",
       "      <td>...</td>\n",
       "      <td>2</td>\n",
       "      <td>6</td>\n",
       "      <td>10</td>\n",
       "      <td>3</td>\n",
       "      <td>26500.0</td>\n",
       "      <td>7</td>\n",
       "      <td>5</td>\n",
       "      <td>Entry</td>\n",
       "      <td>8</td>\n",
       "      <td>No</td>\n",
       "    </tr>\n",
       "    <tr>\n",
       "      <th>2</th>\n",
       "      <td>195</td>\n",
       "      <td>The American University in Cairo</td>\n",
       "      <td>Egypt</td>\n",
       "      <td>New Cairo</td>\n",
       "      <td>914</td>\n",
       "      <td>S02855</td>\n",
       "      <td>24</td>\n",
       "      <td>Male</td>\n",
       "      <td>3.66</td>\n",
       "      <td>932</td>\n",
       "      <td>...</td>\n",
       "      <td>3</td>\n",
       "      <td>4</td>\n",
       "      <td>5</td>\n",
       "      <td>2</td>\n",
       "      <td>56200.0</td>\n",
       "      <td>8</td>\n",
       "      <td>2</td>\n",
       "      <td>Entry</td>\n",
       "      <td>6</td>\n",
       "      <td>No</td>\n",
       "    </tr>\n",
       "    <tr>\n",
       "      <th>3</th>\n",
       "      <td>195</td>\n",
       "      <td>The American University in Cairo</td>\n",
       "      <td>Egypt</td>\n",
       "      <td>New Cairo</td>\n",
       "      <td>914</td>\n",
       "      <td>S03043</td>\n",
       "      <td>25</td>\n",
       "      <td>Female</td>\n",
       "      <td>2.77</td>\n",
       "      <td>1521</td>\n",
       "      <td>...</td>\n",
       "      <td>5</td>\n",
       "      <td>1</td>\n",
       "      <td>1</td>\n",
       "      <td>1</td>\n",
       "      <td>38600.0</td>\n",
       "      <td>7</td>\n",
       "      <td>2</td>\n",
       "      <td>Senior</td>\n",
       "      <td>10</td>\n",
       "      <td>No</td>\n",
       "    </tr>\n",
       "    <tr>\n",
       "      <th>4</th>\n",
       "      <td>195</td>\n",
       "      <td>The American University in Cairo</td>\n",
       "      <td>Egypt</td>\n",
       "      <td>New Cairo</td>\n",
       "      <td>914</td>\n",
       "      <td>S04237</td>\n",
       "      <td>19</td>\n",
       "      <td>Female</td>\n",
       "      <td>3.32</td>\n",
       "      <td>1442</td>\n",
       "      <td>...</td>\n",
       "      <td>0</td>\n",
       "      <td>10</td>\n",
       "      <td>6</td>\n",
       "      <td>2</td>\n",
       "      <td>49400.0</td>\n",
       "      <td>9</td>\n",
       "      <td>3</td>\n",
       "      <td>Executive</td>\n",
       "      <td>5</td>\n",
       "      <td>No</td>\n",
       "    </tr>\n",
       "    <tr>\n",
       "      <th>...</th>\n",
       "      <td>...</td>\n",
       "      <td>...</td>\n",
       "      <td>...</td>\n",
       "      <td>...</td>\n",
       "      <td>...</td>\n",
       "      <td>...</td>\n",
       "      <td>...</td>\n",
       "      <td>...</td>\n",
       "      <td>...</td>\n",
       "      <td>...</td>\n",
       "      <td>...</td>\n",
       "      <td>...</td>\n",
       "      <td>...</td>\n",
       "      <td>...</td>\n",
       "      <td>...</td>\n",
       "      <td>...</td>\n",
       "      <td>...</td>\n",
       "      <td>...</td>\n",
       "      <td>...</td>\n",
       "      <td>...</td>\n",
       "      <td>...</td>\n",
       "    </tr>\n",
       "    <tr>\n",
       "      <th>4926</th>\n",
       "      <td>12697</td>\n",
       "      <td>Universidad de la Republica</td>\n",
       "      <td>Uruguay</td>\n",
       "      <td>Uruguay</td>\n",
       "      <td>748</td>\n",
       "      <td>S01610</td>\n",
       "      <td>27</td>\n",
       "      <td>Female</td>\n",
       "      <td>2.06</td>\n",
       "      <td>1200</td>\n",
       "      <td>...</td>\n",
       "      <td>3</td>\n",
       "      <td>3</td>\n",
       "      <td>7</td>\n",
       "      <td>5</td>\n",
       "      <td>54300.0</td>\n",
       "      <td>7</td>\n",
       "      <td>4</td>\n",
       "      <td>Entry</td>\n",
       "      <td>9</td>\n",
       "      <td>No</td>\n",
       "    </tr>\n",
       "    <tr>\n",
       "      <th>4927</th>\n",
       "      <td>12697</td>\n",
       "      <td>Universidad de la Republica</td>\n",
       "      <td>Uruguay</td>\n",
       "      <td>Uruguay</td>\n",
       "      <td>748</td>\n",
       "      <td>S02334</td>\n",
       "      <td>23</td>\n",
       "      <td>Male</td>\n",
       "      <td>2.74</td>\n",
       "      <td>1255</td>\n",
       "      <td>...</td>\n",
       "      <td>4</td>\n",
       "      <td>6</td>\n",
       "      <td>6</td>\n",
       "      <td>1</td>\n",
       "      <td>35300.0</td>\n",
       "      <td>1</td>\n",
       "      <td>4</td>\n",
       "      <td>Mid</td>\n",
       "      <td>1</td>\n",
       "      <td>Yes</td>\n",
       "    </tr>\n",
       "    <tr>\n",
       "      <th>4928</th>\n",
       "      <td>12697</td>\n",
       "      <td>Universidad de la Republica</td>\n",
       "      <td>Uruguay</td>\n",
       "      <td>Uruguay</td>\n",
       "      <td>748</td>\n",
       "      <td>S03249</td>\n",
       "      <td>19</td>\n",
       "      <td>Male</td>\n",
       "      <td>3.10</td>\n",
       "      <td>1225</td>\n",
       "      <td>...</td>\n",
       "      <td>2</td>\n",
       "      <td>5</td>\n",
       "      <td>10</td>\n",
       "      <td>4</td>\n",
       "      <td>44800.0</td>\n",
       "      <td>7</td>\n",
       "      <td>1</td>\n",
       "      <td>Entry</td>\n",
       "      <td>8</td>\n",
       "      <td>No</td>\n",
       "    </tr>\n",
       "    <tr>\n",
       "      <th>4929</th>\n",
       "      <td>12697</td>\n",
       "      <td>Universidad de la Republica</td>\n",
       "      <td>Uruguay</td>\n",
       "      <td>Uruguay</td>\n",
       "      <td>748</td>\n",
       "      <td>S04479</td>\n",
       "      <td>18</td>\n",
       "      <td>Female</td>\n",
       "      <td>3.52</td>\n",
       "      <td>1387</td>\n",
       "      <td>...</td>\n",
       "      <td>1</td>\n",
       "      <td>9</td>\n",
       "      <td>9</td>\n",
       "      <td>2</td>\n",
       "      <td>35900.0</td>\n",
       "      <td>5</td>\n",
       "      <td>1</td>\n",
       "      <td>Senior</td>\n",
       "      <td>3</td>\n",
       "      <td>Yes</td>\n",
       "    </tr>\n",
       "    <tr>\n",
       "      <th>4930</th>\n",
       "      <td>12697</td>\n",
       "      <td>Universidad de la Republica</td>\n",
       "      <td>Uruguay</td>\n",
       "      <td>Uruguay</td>\n",
       "      <td>748</td>\n",
       "      <td>S04773</td>\n",
       "      <td>29</td>\n",
       "      <td>Female</td>\n",
       "      <td>2.36</td>\n",
       "      <td>1016</td>\n",
       "      <td>...</td>\n",
       "      <td>1</td>\n",
       "      <td>7</td>\n",
       "      <td>4</td>\n",
       "      <td>5</td>\n",
       "      <td>37600.0</td>\n",
       "      <td>9</td>\n",
       "      <td>5</td>\n",
       "      <td>Senior</td>\n",
       "      <td>4</td>\n",
       "      <td>No</td>\n",
       "    </tr>\n",
       "  </tbody>\n",
       "</table>\n",
       "<p>4931 rows × 25 columns</p>\n",
       "</div>"
      ],
      "text/plain": [
       "      university_id                        University  Country       City  \\\n",
       "0               195  The American University in Cairo    Egypt  New Cairo   \n",
       "1               195  The American University in Cairo    Egypt  New Cairo   \n",
       "2               195  The American University in Cairo    Egypt  New Cairo   \n",
       "3               195  The American University in Cairo    Egypt  New Cairo   \n",
       "4               195  The American University in Cairo    Egypt  New Cairo   \n",
       "...             ...                               ...      ...        ...   \n",
       "4926          12697       Universidad de la Republica  Uruguay    Uruguay   \n",
       "4927          12697       Universidad de la Republica  Uruguay    Uruguay   \n",
       "4928          12697       Universidad de la Republica  Uruguay    Uruguay   \n",
       "4929          12697       Universidad de la Republica  Uruguay    Uruguay   \n",
       "4930          12697       Universidad de la Republica  Uruguay    Uruguay   \n",
       "\n",
       "      Global Rank Student_ID  Age  Gender  High_School_GPA  SAT_Score  ...  \\\n",
       "0             914     S01275   21  Female             2.76       1081  ...   \n",
       "1             914     S01751   29    Male             3.62       1141  ...   \n",
       "2             914     S02855   24    Male             3.66        932  ...   \n",
       "3             914     S03043   25  Female             2.77       1521  ...   \n",
       "4             914     S04237   19  Female             3.32       1442  ...   \n",
       "...           ...        ...  ...     ...              ...        ...  ...   \n",
       "4926          748     S01610   27  Female             2.06       1200  ...   \n",
       "4927          748     S02334   23    Male             2.74       1255  ...   \n",
       "4928          748     S03249   19    Male             3.10       1225  ...   \n",
       "4929          748     S04479   18  Female             3.52       1387  ...   \n",
       "4930          748     S04773   29  Female             2.36       1016  ...   \n",
       "\n",
       "      Certifications  Soft_Skills_Score Networking_Score  Job_Offers  \\\n",
       "0                  1                  8                7           4   \n",
       "1                  2                  6               10           3   \n",
       "2                  3                  4                5           2   \n",
       "3                  5                  1                1           1   \n",
       "4                  0                 10                6           2   \n",
       "...              ...                ...              ...         ...   \n",
       "4926               3                  3                7           5   \n",
       "4927               4                  6                6           1   \n",
       "4928               2                  5               10           4   \n",
       "4929               1                  9                9           2   \n",
       "4930               1                  7                4           5   \n",
       "\n",
       "      Starting_Salary  Career_Satisfaction  Years_to_Promotion  \\\n",
       "0             39200.0                    7                   5   \n",
       "1             26500.0                    7                   5   \n",
       "2             56200.0                    8                   2   \n",
       "3             38600.0                    7                   2   \n",
       "4             49400.0                    9                   3   \n",
       "...               ...                  ...                 ...   \n",
       "4926          54300.0                    7                   4   \n",
       "4927          35300.0                    1                   4   \n",
       "4928          44800.0                    7                   1   \n",
       "4929          35900.0                    5                   1   \n",
       "4930          37600.0                    9                   5   \n",
       "\n",
       "      Current_Job_Level  Work_Life_Balance  Entrepreneurship  \n",
       "0                   Mid                  2                No  \n",
       "1                 Entry                  8                No  \n",
       "2                 Entry                  6                No  \n",
       "3                Senior                 10                No  \n",
       "4             Executive                  5                No  \n",
       "...                 ...                ...               ...  \n",
       "4926              Entry                  9                No  \n",
       "4927                Mid                  1               Yes  \n",
       "4928              Entry                  8                No  \n",
       "4929             Senior                  3               Yes  \n",
       "4930             Senior                  4                No  \n",
       "\n",
       "[4931 rows x 25 columns]"
      ]
     },
     "execution_count": 96,
     "metadata": {},
     "output_type": "execute_result"
    }
   ],
   "source": [
    "df_merge = pd.merge(df_ranking,df_students,left_on =[ 'Global Rank'],right_on=['University_Ranking'], how='inner')\n",
    "df_merge"
   ]
  },
  {
   "cell_type": "code",
   "execution_count": 97,
   "metadata": {},
   "outputs": [
    {
     "data": {
      "text/html": [
       "<div>\n",
       "<style scoped>\n",
       "    .dataframe tbody tr th:only-of-type {\n",
       "        vertical-align: middle;\n",
       "    }\n",
       "\n",
       "    .dataframe tbody tr th {\n",
       "        vertical-align: top;\n",
       "    }\n",
       "\n",
       "    .dataframe thead th {\n",
       "        text-align: right;\n",
       "    }\n",
       "</style>\n",
       "<table border=\"1\" class=\"dataframe\">\n",
       "  <thead>\n",
       "    <tr style=\"text-align: right;\">\n",
       "      <th></th>\n",
       "      <th>university_id</th>\n",
       "      <th>University</th>\n",
       "      <th>Country</th>\n",
       "      <th>Student_ID</th>\n",
       "      <th>Age</th>\n",
       "      <th>Gender</th>\n",
       "      <th>University_Ranking</th>\n",
       "      <th>University_GPA</th>\n",
       "      <th>Field_of_Study</th>\n",
       "      <th>Starting_Salary</th>\n",
       "      <th>Career_Satisfaction</th>\n",
       "      <th>Years_to_Promotion</th>\n",
       "      <th>Current_Job_Level</th>\n",
       "    </tr>\n",
       "  </thead>\n",
       "  <tbody>\n",
       "    <tr>\n",
       "      <th>0</th>\n",
       "      <td>195</td>\n",
       "      <td>The American University in Cairo</td>\n",
       "      <td>Egypt</td>\n",
       "      <td>S01275</td>\n",
       "      <td>21</td>\n",
       "      <td>Female</td>\n",
       "      <td>914</td>\n",
       "      <td>2.47</td>\n",
       "      <td>Law</td>\n",
       "      <td>39200.0</td>\n",
       "      <td>7</td>\n",
       "      <td>5</td>\n",
       "      <td>Mid</td>\n",
       "    </tr>\n",
       "    <tr>\n",
       "      <th>1</th>\n",
       "      <td>195</td>\n",
       "      <td>The American University in Cairo</td>\n",
       "      <td>Egypt</td>\n",
       "      <td>S01751</td>\n",
       "      <td>29</td>\n",
       "      <td>Male</td>\n",
       "      <td>914</td>\n",
       "      <td>2.78</td>\n",
       "      <td>Engineering</td>\n",
       "      <td>26500.0</td>\n",
       "      <td>7</td>\n",
       "      <td>5</td>\n",
       "      <td>Entry</td>\n",
       "    </tr>\n",
       "    <tr>\n",
       "      <th>2</th>\n",
       "      <td>195</td>\n",
       "      <td>The American University in Cairo</td>\n",
       "      <td>Egypt</td>\n",
       "      <td>S02855</td>\n",
       "      <td>24</td>\n",
       "      <td>Male</td>\n",
       "      <td>914</td>\n",
       "      <td>2.05</td>\n",
       "      <td>Engineering</td>\n",
       "      <td>56200.0</td>\n",
       "      <td>8</td>\n",
       "      <td>2</td>\n",
       "      <td>Entry</td>\n",
       "    </tr>\n",
       "    <tr>\n",
       "      <th>3</th>\n",
       "      <td>195</td>\n",
       "      <td>The American University in Cairo</td>\n",
       "      <td>Egypt</td>\n",
       "      <td>S03043</td>\n",
       "      <td>25</td>\n",
       "      <td>Female</td>\n",
       "      <td>914</td>\n",
       "      <td>3.22</td>\n",
       "      <td>Computer Science</td>\n",
       "      <td>38600.0</td>\n",
       "      <td>7</td>\n",
       "      <td>2</td>\n",
       "      <td>Senior</td>\n",
       "    </tr>\n",
       "    <tr>\n",
       "      <th>4</th>\n",
       "      <td>195</td>\n",
       "      <td>The American University in Cairo</td>\n",
       "      <td>Egypt</td>\n",
       "      <td>S04237</td>\n",
       "      <td>19</td>\n",
       "      <td>Female</td>\n",
       "      <td>914</td>\n",
       "      <td>2.15</td>\n",
       "      <td>Computer Science</td>\n",
       "      <td>49400.0</td>\n",
       "      <td>9</td>\n",
       "      <td>3</td>\n",
       "      <td>Executive</td>\n",
       "    </tr>\n",
       "    <tr>\n",
       "      <th>...</th>\n",
       "      <td>...</td>\n",
       "      <td>...</td>\n",
       "      <td>...</td>\n",
       "      <td>...</td>\n",
       "      <td>...</td>\n",
       "      <td>...</td>\n",
       "      <td>...</td>\n",
       "      <td>...</td>\n",
       "      <td>...</td>\n",
       "      <td>...</td>\n",
       "      <td>...</td>\n",
       "      <td>...</td>\n",
       "      <td>...</td>\n",
       "    </tr>\n",
       "    <tr>\n",
       "      <th>4926</th>\n",
       "      <td>12697</td>\n",
       "      <td>Universidad de la Republica</td>\n",
       "      <td>Uruguay</td>\n",
       "      <td>S01610</td>\n",
       "      <td>27</td>\n",
       "      <td>Female</td>\n",
       "      <td>748</td>\n",
       "      <td>3.37</td>\n",
       "      <td>Law</td>\n",
       "      <td>54300.0</td>\n",
       "      <td>7</td>\n",
       "      <td>4</td>\n",
       "      <td>Entry</td>\n",
       "    </tr>\n",
       "    <tr>\n",
       "      <th>4927</th>\n",
       "      <td>12697</td>\n",
       "      <td>Universidad de la Republica</td>\n",
       "      <td>Uruguay</td>\n",
       "      <td>S02334</td>\n",
       "      <td>23</td>\n",
       "      <td>Male</td>\n",
       "      <td>748</td>\n",
       "      <td>2.59</td>\n",
       "      <td>Engineering</td>\n",
       "      <td>35300.0</td>\n",
       "      <td>1</td>\n",
       "      <td>4</td>\n",
       "      <td>Mid</td>\n",
       "    </tr>\n",
       "    <tr>\n",
       "      <th>4928</th>\n",
       "      <td>12697</td>\n",
       "      <td>Universidad de la Republica</td>\n",
       "      <td>Uruguay</td>\n",
       "      <td>S03249</td>\n",
       "      <td>19</td>\n",
       "      <td>Male</td>\n",
       "      <td>748</td>\n",
       "      <td>3.74</td>\n",
       "      <td>Arts</td>\n",
       "      <td>44800.0</td>\n",
       "      <td>7</td>\n",
       "      <td>1</td>\n",
       "      <td>Entry</td>\n",
       "    </tr>\n",
       "    <tr>\n",
       "      <th>4929</th>\n",
       "      <td>12697</td>\n",
       "      <td>Universidad de la Republica</td>\n",
       "      <td>Uruguay</td>\n",
       "      <td>S04479</td>\n",
       "      <td>18</td>\n",
       "      <td>Female</td>\n",
       "      <td>748</td>\n",
       "      <td>2.43</td>\n",
       "      <td>Engineering</td>\n",
       "      <td>35900.0</td>\n",
       "      <td>5</td>\n",
       "      <td>1</td>\n",
       "      <td>Senior</td>\n",
       "    </tr>\n",
       "    <tr>\n",
       "      <th>4930</th>\n",
       "      <td>12697</td>\n",
       "      <td>Universidad de la Republica</td>\n",
       "      <td>Uruguay</td>\n",
       "      <td>S04773</td>\n",
       "      <td>29</td>\n",
       "      <td>Female</td>\n",
       "      <td>748</td>\n",
       "      <td>3.22</td>\n",
       "      <td>Law</td>\n",
       "      <td>37600.0</td>\n",
       "      <td>9</td>\n",
       "      <td>5</td>\n",
       "      <td>Senior</td>\n",
       "    </tr>\n",
       "  </tbody>\n",
       "</table>\n",
       "<p>4931 rows × 13 columns</p>\n",
       "</div>"
      ],
      "text/plain": [
       "      university_id                        University  Country Student_ID  \\\n",
       "0               195  The American University in Cairo    Egypt     S01275   \n",
       "1               195  The American University in Cairo    Egypt     S01751   \n",
       "2               195  The American University in Cairo    Egypt     S02855   \n",
       "3               195  The American University in Cairo    Egypt     S03043   \n",
       "4               195  The American University in Cairo    Egypt     S04237   \n",
       "...             ...                               ...      ...        ...   \n",
       "4926          12697       Universidad de la Republica  Uruguay     S01610   \n",
       "4927          12697       Universidad de la Republica  Uruguay     S02334   \n",
       "4928          12697       Universidad de la Republica  Uruguay     S03249   \n",
       "4929          12697       Universidad de la Republica  Uruguay     S04479   \n",
       "4930          12697       Universidad de la Republica  Uruguay     S04773   \n",
       "\n",
       "      Age  Gender  University_Ranking  University_GPA    Field_of_Study  \\\n",
       "0      21  Female                 914            2.47               Law   \n",
       "1      29    Male                 914            2.78       Engineering   \n",
       "2      24    Male                 914            2.05       Engineering   \n",
       "3      25  Female                 914            3.22  Computer Science   \n",
       "4      19  Female                 914            2.15  Computer Science   \n",
       "...   ...     ...                 ...             ...               ...   \n",
       "4926   27  Female                 748            3.37               Law   \n",
       "4927   23    Male                 748            2.59       Engineering   \n",
       "4928   19    Male                 748            3.74              Arts   \n",
       "4929   18  Female                 748            2.43       Engineering   \n",
       "4930   29  Female                 748            3.22               Law   \n",
       "\n",
       "      Starting_Salary  Career_Satisfaction  Years_to_Promotion  \\\n",
       "0             39200.0                    7                   5   \n",
       "1             26500.0                    7                   5   \n",
       "2             56200.0                    8                   2   \n",
       "3             38600.0                    7                   2   \n",
       "4             49400.0                    9                   3   \n",
       "...               ...                  ...                 ...   \n",
       "4926          54300.0                    7                   4   \n",
       "4927          35300.0                    1                   4   \n",
       "4928          44800.0                    7                   1   \n",
       "4929          35900.0                    5                   1   \n",
       "4930          37600.0                    9                   5   \n",
       "\n",
       "     Current_Job_Level  \n",
       "0                  Mid  \n",
       "1                Entry  \n",
       "2                Entry  \n",
       "3               Senior  \n",
       "4            Executive  \n",
       "...                ...  \n",
       "4926             Entry  \n",
       "4927               Mid  \n",
       "4928             Entry  \n",
       "4929            Senior  \n",
       "4930            Senior  \n",
       "\n",
       "[4931 rows x 13 columns]"
      ]
     },
     "execution_count": 97,
     "metadata": {},
     "output_type": "execute_result"
    }
   ],
   "source": [
    "df_final = df_merge[['university_id', 'University', 'Country', 'Student_ID', 'Age', 'Gender','University_Ranking', 'University_GPA', 'Field_of_Study','Starting_Salary', 'Career_Satisfaction', 'Years_to_Promotion','Current_Job_Level']]\n",
    "\n",
    "df_final"
   ]
  },
  {
   "cell_type": "code",
   "execution_count": 98,
   "metadata": {},
   "outputs": [
    {
     "name": "stderr",
     "output_type": "stream",
     "text": [
      "/var/folders/wc/4r8t_c91523cgt8st98mw_ph0000gn/T/ipykernel_32832/658339068.py:1: SettingWithCopyWarning:\n",
      "\n",
      "\n",
      "A value is trying to be set on a copy of a slice from a DataFrame\n",
      "\n",
      "See the caveats in the documentation: https://pandas.pydata.org/pandas-docs/stable/user_guide/indexing.html#returning-a-view-versus-a-copy\n",
      "\n"
     ]
    },
    {
     "data": {
      "text/html": [
       "<div>\n",
       "<style scoped>\n",
       "    .dataframe tbody tr th:only-of-type {\n",
       "        vertical-align: middle;\n",
       "    }\n",
       "\n",
       "    .dataframe tbody tr th {\n",
       "        vertical-align: top;\n",
       "    }\n",
       "\n",
       "    .dataframe thead th {\n",
       "        text-align: right;\n",
       "    }\n",
       "</style>\n",
       "<table border=\"1\" class=\"dataframe\">\n",
       "  <thead>\n",
       "    <tr style=\"text-align: right;\">\n",
       "      <th></th>\n",
       "      <th>university_id</th>\n",
       "      <th>University</th>\n",
       "      <th>Country</th>\n",
       "      <th>Student_ID</th>\n",
       "      <th>Age</th>\n",
       "      <th>Gender</th>\n",
       "      <th>University_Ranking</th>\n",
       "      <th>University_GPA</th>\n",
       "      <th>Field_of_Study</th>\n",
       "      <th>Starting_Salary</th>\n",
       "      <th>Career_Satisfaction</th>\n",
       "      <th>Years_to_Promotion</th>\n",
       "      <th>Current_Job_Level</th>\n",
       "    </tr>\n",
       "  </thead>\n",
       "  <tbody>\n",
       "    <tr>\n",
       "      <th>0</th>\n",
       "      <td>195</td>\n",
       "      <td>The American University in Cairo</td>\n",
       "      <td>Egypt</td>\n",
       "      <td>S01275</td>\n",
       "      <td>21</td>\n",
       "      <td>Female</td>\n",
       "      <td>914</td>\n",
       "      <td>2.47</td>\n",
       "      <td>Law</td>\n",
       "      <td>39200.0</td>\n",
       "      <td>7</td>\n",
       "      <td>5</td>\n",
       "      <td>Mid</td>\n",
       "    </tr>\n",
       "    <tr>\n",
       "      <th>1</th>\n",
       "      <td>195</td>\n",
       "      <td>The American University in Cairo</td>\n",
       "      <td>Egypt</td>\n",
       "      <td>S01751</td>\n",
       "      <td>29</td>\n",
       "      <td>Male</td>\n",
       "      <td>914</td>\n",
       "      <td>2.78</td>\n",
       "      <td>Engineering</td>\n",
       "      <td>26500.0</td>\n",
       "      <td>7</td>\n",
       "      <td>5</td>\n",
       "      <td>Entry</td>\n",
       "    </tr>\n",
       "    <tr>\n",
       "      <th>2</th>\n",
       "      <td>195</td>\n",
       "      <td>The American University in Cairo</td>\n",
       "      <td>Egypt</td>\n",
       "      <td>S02855</td>\n",
       "      <td>24</td>\n",
       "      <td>Male</td>\n",
       "      <td>914</td>\n",
       "      <td>2.05</td>\n",
       "      <td>Engineering</td>\n",
       "      <td>56200.0</td>\n",
       "      <td>8</td>\n",
       "      <td>2</td>\n",
       "      <td>Entry</td>\n",
       "    </tr>\n",
       "    <tr>\n",
       "      <th>3</th>\n",
       "      <td>195</td>\n",
       "      <td>The American University in Cairo</td>\n",
       "      <td>Egypt</td>\n",
       "      <td>S03043</td>\n",
       "      <td>25</td>\n",
       "      <td>Female</td>\n",
       "      <td>914</td>\n",
       "      <td>3.22</td>\n",
       "      <td>Computer Science</td>\n",
       "      <td>38600.0</td>\n",
       "      <td>7</td>\n",
       "      <td>2</td>\n",
       "      <td>Senior</td>\n",
       "    </tr>\n",
       "    <tr>\n",
       "      <th>4</th>\n",
       "      <td>195</td>\n",
       "      <td>The American University in Cairo</td>\n",
       "      <td>Egypt</td>\n",
       "      <td>S04237</td>\n",
       "      <td>19</td>\n",
       "      <td>Female</td>\n",
       "      <td>914</td>\n",
       "      <td>2.15</td>\n",
       "      <td>Computer Science</td>\n",
       "      <td>49400.0</td>\n",
       "      <td>9</td>\n",
       "      <td>3</td>\n",
       "      <td>Executive</td>\n",
       "    </tr>\n",
       "    <tr>\n",
       "      <th>...</th>\n",
       "      <td>...</td>\n",
       "      <td>...</td>\n",
       "      <td>...</td>\n",
       "      <td>...</td>\n",
       "      <td>...</td>\n",
       "      <td>...</td>\n",
       "      <td>...</td>\n",
       "      <td>...</td>\n",
       "      <td>...</td>\n",
       "      <td>...</td>\n",
       "      <td>...</td>\n",
       "      <td>...</td>\n",
       "      <td>...</td>\n",
       "    </tr>\n",
       "    <tr>\n",
       "      <th>4926</th>\n",
       "      <td>12697</td>\n",
       "      <td>Universidad de la Republica</td>\n",
       "      <td>Uruguay</td>\n",
       "      <td>S01610</td>\n",
       "      <td>27</td>\n",
       "      <td>Female</td>\n",
       "      <td>748</td>\n",
       "      <td>3.37</td>\n",
       "      <td>Law</td>\n",
       "      <td>54300.0</td>\n",
       "      <td>7</td>\n",
       "      <td>4</td>\n",
       "      <td>Entry</td>\n",
       "    </tr>\n",
       "    <tr>\n",
       "      <th>4927</th>\n",
       "      <td>12697</td>\n",
       "      <td>Universidad de la Republica</td>\n",
       "      <td>Uruguay</td>\n",
       "      <td>S02334</td>\n",
       "      <td>23</td>\n",
       "      <td>Male</td>\n",
       "      <td>748</td>\n",
       "      <td>2.59</td>\n",
       "      <td>Engineering</td>\n",
       "      <td>35300.0</td>\n",
       "      <td>1</td>\n",
       "      <td>4</td>\n",
       "      <td>Mid</td>\n",
       "    </tr>\n",
       "    <tr>\n",
       "      <th>4928</th>\n",
       "      <td>12697</td>\n",
       "      <td>Universidad de la Republica</td>\n",
       "      <td>Uruguay</td>\n",
       "      <td>S03249</td>\n",
       "      <td>19</td>\n",
       "      <td>Male</td>\n",
       "      <td>748</td>\n",
       "      <td>3.74</td>\n",
       "      <td>Arts</td>\n",
       "      <td>44800.0</td>\n",
       "      <td>7</td>\n",
       "      <td>1</td>\n",
       "      <td>Entry</td>\n",
       "    </tr>\n",
       "    <tr>\n",
       "      <th>4929</th>\n",
       "      <td>12697</td>\n",
       "      <td>Universidad de la Republica</td>\n",
       "      <td>Uruguay</td>\n",
       "      <td>S04479</td>\n",
       "      <td>18</td>\n",
       "      <td>Female</td>\n",
       "      <td>748</td>\n",
       "      <td>2.43</td>\n",
       "      <td>Engineering</td>\n",
       "      <td>35900.0</td>\n",
       "      <td>5</td>\n",
       "      <td>1</td>\n",
       "      <td>Senior</td>\n",
       "    </tr>\n",
       "    <tr>\n",
       "      <th>4930</th>\n",
       "      <td>12697</td>\n",
       "      <td>Universidad de la Republica</td>\n",
       "      <td>Uruguay</td>\n",
       "      <td>S04773</td>\n",
       "      <td>29</td>\n",
       "      <td>Female</td>\n",
       "      <td>748</td>\n",
       "      <td>3.22</td>\n",
       "      <td>Law</td>\n",
       "      <td>37600.0</td>\n",
       "      <td>9</td>\n",
       "      <td>5</td>\n",
       "      <td>Senior</td>\n",
       "    </tr>\n",
       "  </tbody>\n",
       "</table>\n",
       "<p>4910 rows × 13 columns</p>\n",
       "</div>"
      ],
      "text/plain": [
       "      university_id                        University  Country Student_ID  \\\n",
       "0               195  The American University in Cairo    Egypt     S01275   \n",
       "1               195  The American University in Cairo    Egypt     S01751   \n",
       "2               195  The American University in Cairo    Egypt     S02855   \n",
       "3               195  The American University in Cairo    Egypt     S03043   \n",
       "4               195  The American University in Cairo    Egypt     S04237   \n",
       "...             ...                               ...      ...        ...   \n",
       "4926          12697       Universidad de la Republica  Uruguay     S01610   \n",
       "4927          12697       Universidad de la Republica  Uruguay     S02334   \n",
       "4928          12697       Universidad de la Republica  Uruguay     S03249   \n",
       "4929          12697       Universidad de la Republica  Uruguay     S04479   \n",
       "4930          12697       Universidad de la Republica  Uruguay     S04773   \n",
       "\n",
       "      Age  Gender  University_Ranking  University_GPA    Field_of_Study  \\\n",
       "0      21  Female                 914            2.47               Law   \n",
       "1      29    Male                 914            2.78       Engineering   \n",
       "2      24    Male                 914            2.05       Engineering   \n",
       "3      25  Female                 914            3.22  Computer Science   \n",
       "4      19  Female                 914            2.15  Computer Science   \n",
       "...   ...     ...                 ...             ...               ...   \n",
       "4926   27  Female                 748            3.37               Law   \n",
       "4927   23    Male                 748            2.59       Engineering   \n",
       "4928   19    Male                 748            3.74              Arts   \n",
       "4929   18  Female                 748            2.43       Engineering   \n",
       "4930   29  Female                 748            3.22               Law   \n",
       "\n",
       "      Starting_Salary  Career_Satisfaction  Years_to_Promotion  \\\n",
       "0             39200.0                    7                   5   \n",
       "1             26500.0                    7                   5   \n",
       "2             56200.0                    8                   2   \n",
       "3             38600.0                    7                   2   \n",
       "4             49400.0                    9                   3   \n",
       "...               ...                  ...                 ...   \n",
       "4926          54300.0                    7                   4   \n",
       "4927          35300.0                    1                   4   \n",
       "4928          44800.0                    7                   1   \n",
       "4929          35900.0                    5                   1   \n",
       "4930          37600.0                    9                   5   \n",
       "\n",
       "     Current_Job_Level  \n",
       "0                  Mid  \n",
       "1                Entry  \n",
       "2                Entry  \n",
       "3               Senior  \n",
       "4            Executive  \n",
       "...                ...  \n",
       "4926             Entry  \n",
       "4927               Mid  \n",
       "4928             Entry  \n",
       "4929            Senior  \n",
       "4930            Senior  \n",
       "\n",
       "[4910 rows x 13 columns]"
      ]
     },
     "execution_count": 98,
     "metadata": {},
     "output_type": "execute_result"
    }
   ],
   "source": [
    "df_final.drop_duplicates(subset=['Student_ID'], keep='first', inplace=True)\n",
    "df_final"
   ]
  },
  {
   "cell_type": "code",
   "execution_count": 100,
   "metadata": {},
   "outputs": [
    {
     "data": {
      "text/html": [
       "<div>\n",
       "<style scoped>\n",
       "    .dataframe tbody tr th:only-of-type {\n",
       "        vertical-align: middle;\n",
       "    }\n",
       "\n",
       "    .dataframe tbody tr th {\n",
       "        vertical-align: top;\n",
       "    }\n",
       "\n",
       "    .dataframe thead th {\n",
       "        text-align: right;\n",
       "    }\n",
       "</style>\n",
       "<table border=\"1\" class=\"dataframe\">\n",
       "  <thead>\n",
       "    <tr style=\"text-align: right;\">\n",
       "      <th></th>\n",
       "      <th>Field_of_Study</th>\n",
       "    </tr>\n",
       "    <tr>\n",
       "      <th>Gender</th>\n",
       "      <th></th>\n",
       "    </tr>\n",
       "  </thead>\n",
       "  <tbody>\n",
       "    <tr>\n",
       "      <th>Female</th>\n",
       "      <td>317</td>\n",
       "    </tr>\n",
       "    <tr>\n",
       "      <th>Male</th>\n",
       "      <td>338</td>\n",
       "    </tr>\n",
       "    <tr>\n",
       "      <th>Other</th>\n",
       "      <td>25</td>\n",
       "    </tr>\n",
       "  </tbody>\n",
       "</table>\n",
       "</div>"
      ],
      "text/plain": [
       "        Field_of_Study\n",
       "Gender                \n",
       "Female             317\n",
       "Male               338\n",
       "Other               25"
      ]
     },
     "execution_count": 100,
     "metadata": {},
     "output_type": "execute_result"
    }
   ],
   "source": [
    "df_medicine = df_final[df_final[\"Field_of_Study\"] == \"Medicine\"]\n",
    "df_medicine  \n",
    "df_medicine[[\"Field_of_Study\",\"Gender\"]].groupby(\"Gender\").count()\n"
   ]
  },
  {
   "cell_type": "code",
   "execution_count": 102,
   "metadata": {},
   "outputs": [],
   "source": [
    "# Use this function to create the tables in the database.\n",
    "# This function will certainly need to be called multiple times to create all the tables.\n",
    "def create_table(db_name:str, table_query_creation:str):\n",
    "        \n",
    "    conn = sqlite3.connect(db_name)\n",
    "    cursor = conn.cursor()\n",
    "    cursor.execute(\n",
    "        table_query_creation\n",
    "           )\n",
    "    conn.commit()\n",
    "    conn.close()\n",
    "    print(f\"Database '{db_name}' has been created and populated successfully.\")"
   ]
  },
  {
   "cell_type": "code",
   "execution_count": 103,
   "metadata": {},
   "outputs": [],
   "source": [
    "field_study_table = \"\"\"\n",
    "            CREATE TABLE IF NOT EXISTS FieldOfStudy (\n",
    "                fieldOfStudyId INTEGER PRIMARY KEY,\n",
    "                fieldOfStudyNoun TEXT UNIQUE\n",
    "            );\n",
    "        \"\"\"\n",
    "student_query = \"\"\"\n",
    "            CREATE TABLE IF NOT EXISTS Student (\n",
    "                studentId TEXT PRIMARY KEY,\n",
    "                gender TEXT,\n",
    "                age INTEGER\n",
    "            );\n",
    "        \"\"\"\n",
    "\n",
    "university_query =\"\"\"\n",
    "            CREATE TABLE IF NOT EXISTS University (\n",
    "                universityId INTEGER PRIMARY KEY,\n",
    "                universityRanking INTEGER UNIQUE,\n",
    "                universityName TEXT,\n",
    "                countryId INTEGER,\n",
    "                FOREIGN KEY (countryId) REFERENCES Country(countryId)\n",
    "            );\n",
    "        \"\"\"\n",
    "\n",
    "country_query =\"\"\"\n",
    "            CREATE TABLE IF NOT EXISTS Country (\n",
    "                countryId INTEGER PRIMARY KEY,\n",
    "                countryName TEXT UNIQUE\n",
    "            );\n",
    "        \"\"\"\n",
    "\n",
    "students_jobs_query = \"\"\"\n",
    "            CREATE TABLE IF NOT EXISTS StudentJobs (\n",
    "                studentIdJob INTEGER PRIMARY KEY,\n",
    "                startingSalary INTEGER,\n",
    "                careerSatisfaction INTEGER,\n",
    "                currentJobLevel TEXT,\n",
    "                studentId TEXT,\n",
    "                FOREIGN KEY (studentId) REFERENCES Student(studentId)\n",
    "                \n",
    "            );\n",
    "        \"\"\"\n",
    "student_achievement_query = \"\"\"\n",
    "            CREATE TABLE IF NOT EXISTS StudentAchievementUni (\n",
    "                achievementId INTEGER PRIMARY KEY,\n",
    "                studentId TEXT,\n",
    "                universityId INTEGER,\n",
    "                universityGPA INTEGER,\n",
    "                fieldOfStudyId INTEGER,\n",
    "                FOREIGN KEY (studentId) REFERENCES Student(studentId),\n",
    "                FOREIGN KEY (universityId) REFERENCES University(universityId),\n",
    "                FOREIGN KEY (fieldOfStudyId) REFERENCES FieldOfStudy(fieldOfStudyId)\n",
    "            );\n",
    "        \"\"\""
   ]
  },
  {
   "cell_type": "code",
   "execution_count": 104,
   "metadata": {},
   "outputs": [
    {
     "name": "stdout",
     "output_type": "stream",
     "text": [
      "Database 'education_career_success.db' has been created and populated successfully.\n",
      "Database 'education_career_success.db' has been created and populated successfully.\n",
      "Database 'education_career_success.db' has been created and populated successfully.\n",
      "Database 'education_career_success.db' has been created and populated successfully.\n",
      "Database 'education_career_success.db' has been created and populated successfully.\n",
      "Database 'education_career_success.db' has been created and populated successfully.\n"
     ]
    }
   ],
   "source": [
    "create_table(\"education_career_success.db\", field_study_table)\n",
    "create_table(\"education_career_success.db\", student_query)\n",
    "create_table(\"education_career_success.db\", university_query)\n",
    "create_table(\"education_career_success.db\", country_query)\n",
    "create_table(\"education_career_success.db\", students_jobs_query)\n",
    "create_table(\"education_career_success.db\", student_achievement_query)\n"
   ]
  },
  {
   "cell_type": "code",
   "execution_count": 105,
   "metadata": {},
   "outputs": [
    {
     "data": {
      "text/html": [
       "<div>\n",
       "<style scoped>\n",
       "    .dataframe tbody tr th:only-of-type {\n",
       "        vertical-align: middle;\n",
       "    }\n",
       "\n",
       "    .dataframe tbody tr th {\n",
       "        vertical-align: top;\n",
       "    }\n",
       "\n",
       "    .dataframe thead th {\n",
       "        text-align: right;\n",
       "    }\n",
       "</style>\n",
       "<table border=\"1\" class=\"dataframe\">\n",
       "  <thead>\n",
       "    <tr style=\"text-align: right;\">\n",
       "      <th></th>\n",
       "      <th>university_id</th>\n",
       "      <th>University</th>\n",
       "      <th>Country</th>\n",
       "      <th>Student_ID</th>\n",
       "      <th>Age</th>\n",
       "      <th>Gender</th>\n",
       "      <th>University_Ranking</th>\n",
       "      <th>University_GPA</th>\n",
       "      <th>Field_of_Study</th>\n",
       "      <th>Starting_Salary</th>\n",
       "      <th>Career_Satisfaction</th>\n",
       "      <th>Years_to_Promotion</th>\n",
       "      <th>Current_Job_Level</th>\n",
       "    </tr>\n",
       "  </thead>\n",
       "  <tbody>\n",
       "    <tr>\n",
       "      <th>0</th>\n",
       "      <td>195</td>\n",
       "      <td>The American University in Cairo</td>\n",
       "      <td>Egypt</td>\n",
       "      <td>S01275</td>\n",
       "      <td>21</td>\n",
       "      <td>Female</td>\n",
       "      <td>914</td>\n",
       "      <td>2.47</td>\n",
       "      <td>Law</td>\n",
       "      <td>39200.0</td>\n",
       "      <td>7</td>\n",
       "      <td>5</td>\n",
       "      <td>Mid</td>\n",
       "    </tr>\n",
       "    <tr>\n",
       "      <th>1</th>\n",
       "      <td>195</td>\n",
       "      <td>The American University in Cairo</td>\n",
       "      <td>Egypt</td>\n",
       "      <td>S01751</td>\n",
       "      <td>29</td>\n",
       "      <td>Male</td>\n",
       "      <td>914</td>\n",
       "      <td>2.78</td>\n",
       "      <td>Engineering</td>\n",
       "      <td>26500.0</td>\n",
       "      <td>7</td>\n",
       "      <td>5</td>\n",
       "      <td>Entry</td>\n",
       "    </tr>\n",
       "    <tr>\n",
       "      <th>2</th>\n",
       "      <td>195</td>\n",
       "      <td>The American University in Cairo</td>\n",
       "      <td>Egypt</td>\n",
       "      <td>S02855</td>\n",
       "      <td>24</td>\n",
       "      <td>Male</td>\n",
       "      <td>914</td>\n",
       "      <td>2.05</td>\n",
       "      <td>Engineering</td>\n",
       "      <td>56200.0</td>\n",
       "      <td>8</td>\n",
       "      <td>2</td>\n",
       "      <td>Entry</td>\n",
       "    </tr>\n",
       "    <tr>\n",
       "      <th>3</th>\n",
       "      <td>195</td>\n",
       "      <td>The American University in Cairo</td>\n",
       "      <td>Egypt</td>\n",
       "      <td>S03043</td>\n",
       "      <td>25</td>\n",
       "      <td>Female</td>\n",
       "      <td>914</td>\n",
       "      <td>3.22</td>\n",
       "      <td>Computer Science</td>\n",
       "      <td>38600.0</td>\n",
       "      <td>7</td>\n",
       "      <td>2</td>\n",
       "      <td>Senior</td>\n",
       "    </tr>\n",
       "    <tr>\n",
       "      <th>4</th>\n",
       "      <td>195</td>\n",
       "      <td>The American University in Cairo</td>\n",
       "      <td>Egypt</td>\n",
       "      <td>S04237</td>\n",
       "      <td>19</td>\n",
       "      <td>Female</td>\n",
       "      <td>914</td>\n",
       "      <td>2.15</td>\n",
       "      <td>Computer Science</td>\n",
       "      <td>49400.0</td>\n",
       "      <td>9</td>\n",
       "      <td>3</td>\n",
       "      <td>Executive</td>\n",
       "    </tr>\n",
       "    <tr>\n",
       "      <th>...</th>\n",
       "      <td>...</td>\n",
       "      <td>...</td>\n",
       "      <td>...</td>\n",
       "      <td>...</td>\n",
       "      <td>...</td>\n",
       "      <td>...</td>\n",
       "      <td>...</td>\n",
       "      <td>...</td>\n",
       "      <td>...</td>\n",
       "      <td>...</td>\n",
       "      <td>...</td>\n",
       "      <td>...</td>\n",
       "      <td>...</td>\n",
       "    </tr>\n",
       "    <tr>\n",
       "      <th>4926</th>\n",
       "      <td>12697</td>\n",
       "      <td>Universidad de la Republica</td>\n",
       "      <td>Uruguay</td>\n",
       "      <td>S01610</td>\n",
       "      <td>27</td>\n",
       "      <td>Female</td>\n",
       "      <td>748</td>\n",
       "      <td>3.37</td>\n",
       "      <td>Law</td>\n",
       "      <td>54300.0</td>\n",
       "      <td>7</td>\n",
       "      <td>4</td>\n",
       "      <td>Entry</td>\n",
       "    </tr>\n",
       "    <tr>\n",
       "      <th>4927</th>\n",
       "      <td>12697</td>\n",
       "      <td>Universidad de la Republica</td>\n",
       "      <td>Uruguay</td>\n",
       "      <td>S02334</td>\n",
       "      <td>23</td>\n",
       "      <td>Male</td>\n",
       "      <td>748</td>\n",
       "      <td>2.59</td>\n",
       "      <td>Engineering</td>\n",
       "      <td>35300.0</td>\n",
       "      <td>1</td>\n",
       "      <td>4</td>\n",
       "      <td>Mid</td>\n",
       "    </tr>\n",
       "    <tr>\n",
       "      <th>4928</th>\n",
       "      <td>12697</td>\n",
       "      <td>Universidad de la Republica</td>\n",
       "      <td>Uruguay</td>\n",
       "      <td>S03249</td>\n",
       "      <td>19</td>\n",
       "      <td>Male</td>\n",
       "      <td>748</td>\n",
       "      <td>3.74</td>\n",
       "      <td>Arts</td>\n",
       "      <td>44800.0</td>\n",
       "      <td>7</td>\n",
       "      <td>1</td>\n",
       "      <td>Entry</td>\n",
       "    </tr>\n",
       "    <tr>\n",
       "      <th>4929</th>\n",
       "      <td>12697</td>\n",
       "      <td>Universidad de la Republica</td>\n",
       "      <td>Uruguay</td>\n",
       "      <td>S04479</td>\n",
       "      <td>18</td>\n",
       "      <td>Female</td>\n",
       "      <td>748</td>\n",
       "      <td>2.43</td>\n",
       "      <td>Engineering</td>\n",
       "      <td>35900.0</td>\n",
       "      <td>5</td>\n",
       "      <td>1</td>\n",
       "      <td>Senior</td>\n",
       "    </tr>\n",
       "    <tr>\n",
       "      <th>4930</th>\n",
       "      <td>12697</td>\n",
       "      <td>Universidad de la Republica</td>\n",
       "      <td>Uruguay</td>\n",
       "      <td>S04773</td>\n",
       "      <td>29</td>\n",
       "      <td>Female</td>\n",
       "      <td>748</td>\n",
       "      <td>3.22</td>\n",
       "      <td>Law</td>\n",
       "      <td>37600.0</td>\n",
       "      <td>9</td>\n",
       "      <td>5</td>\n",
       "      <td>Senior</td>\n",
       "    </tr>\n",
       "  </tbody>\n",
       "</table>\n",
       "<p>4910 rows × 13 columns</p>\n",
       "</div>"
      ],
      "text/plain": [
       "      university_id                        University  Country Student_ID  \\\n",
       "0               195  The American University in Cairo    Egypt     S01275   \n",
       "1               195  The American University in Cairo    Egypt     S01751   \n",
       "2               195  The American University in Cairo    Egypt     S02855   \n",
       "3               195  The American University in Cairo    Egypt     S03043   \n",
       "4               195  The American University in Cairo    Egypt     S04237   \n",
       "...             ...                               ...      ...        ...   \n",
       "4926          12697       Universidad de la Republica  Uruguay     S01610   \n",
       "4927          12697       Universidad de la Republica  Uruguay     S02334   \n",
       "4928          12697       Universidad de la Republica  Uruguay     S03249   \n",
       "4929          12697       Universidad de la Republica  Uruguay     S04479   \n",
       "4930          12697       Universidad de la Republica  Uruguay     S04773   \n",
       "\n",
       "      Age  Gender  University_Ranking  University_GPA    Field_of_Study  \\\n",
       "0      21  Female                 914            2.47               Law   \n",
       "1      29    Male                 914            2.78       Engineering   \n",
       "2      24    Male                 914            2.05       Engineering   \n",
       "3      25  Female                 914            3.22  Computer Science   \n",
       "4      19  Female                 914            2.15  Computer Science   \n",
       "...   ...     ...                 ...             ...               ...   \n",
       "4926   27  Female                 748            3.37               Law   \n",
       "4927   23    Male                 748            2.59       Engineering   \n",
       "4928   19    Male                 748            3.74              Arts   \n",
       "4929   18  Female                 748            2.43       Engineering   \n",
       "4930   29  Female                 748            3.22               Law   \n",
       "\n",
       "      Starting_Salary  Career_Satisfaction  Years_to_Promotion  \\\n",
       "0             39200.0                    7                   5   \n",
       "1             26500.0                    7                   5   \n",
       "2             56200.0                    8                   2   \n",
       "3             38600.0                    7                   2   \n",
       "4             49400.0                    9                   3   \n",
       "...               ...                  ...                 ...   \n",
       "4926          54300.0                    7                   4   \n",
       "4927          35300.0                    1                   4   \n",
       "4928          44800.0                    7                   1   \n",
       "4929          35900.0                    5                   1   \n",
       "4930          37600.0                    9                   5   \n",
       "\n",
       "     Current_Job_Level  \n",
       "0                  Mid  \n",
       "1                Entry  \n",
       "2                Entry  \n",
       "3               Senior  \n",
       "4            Executive  \n",
       "...                ...  \n",
       "4926             Entry  \n",
       "4927               Mid  \n",
       "4928             Entry  \n",
       "4929            Senior  \n",
       "4930            Senior  \n",
       "\n",
       "[4910 rows x 13 columns]"
      ]
     },
     "execution_count": 105,
     "metadata": {},
     "output_type": "execute_result"
    }
   ],
   "source": [
    "df_final"
   ]
  },
  {
   "cell_type": "code",
   "execution_count": 106,
   "metadata": {},
   "outputs": [],
   "source": [
    "def uploadStudent(df_final:pd.DataFrame, db_name:str):\n",
    "    conn = sqlite3.connect(db_name)\n",
    "    cursor = conn.cursor()\n",
    "\n",
    "\n",
    "\n",
    "    for _,row in df_final.iterrows():\n",
    "        cursor.execute(\"INSERT OR IGNORE INTO FieldOfStudy (fieldOfStudyNoun) VALUES (?);\", (row[\"Field_of_Study\"],))\n",
    "\n",
    "        cursor.execute(\"INSERT OR IGNORE INTO Student (studentId,gender, age) VALUES (?,?,?);\", (row[\"Student_ID\"],row[\"Gender\"],row[\"Age\"]))\n",
    "\n",
    "        cursor.execute(\"INSERT OR IGNORE INTO Country (countryName) VALUES (?);\", (row[\"Country\"],))\n",
    "\n",
    "        country_name = row['Country']\n",
    "        cursor.execute(\"SELECT countryId FROM Country WHERE countryName = ?;\", (country_name,))\n",
    "        country_id = cursor.fetchone()[0]\n",
    "        \n",
    "        cursor.execute(\"INSERT OR IGNORE INTO University (universityId,universityRanking, universityName, countryId) VALUES (?,?,?,?);\", (row[\"university_id\"],row[\"University_Ranking\"],row[\"University\"],country_id))\n",
    "\n",
    "        cursor.execute(\"SELECT studentId FROM Student WHERE studentId = ?;\",(row[\"Student_ID\"],))\n",
    "        student_id = cursor.fetchone()[0]\n",
    "        cursor.execute(\"INSERT OR IGNORE INTO StudentJobs (startingSalary,careerSatisfaction,currentJobLevel,studentId) VALUES (?,?,?,?);\", (row[\"Starting_Salary\"],row[\"Career_Satisfaction\"],row[\"Current_Job_Level\"],student_id))\n",
    "        cursor.execute(\"SELECT universityId FROM University WHERE universityName = ?;\",(row[\"University\"],))\n",
    "        university_id = cursor.fetchone()[0]\n",
    "        cursor.execute(\"SELECT fieldOfStudyId FROM FieldOfStudy WHERE fieldOfStudyNoun = ?;\",(row[\"Field_of_Study\"],))\n",
    "        fieldOfStudy_id = cursor.fetchone()[0]\n",
    "        cursor.execute(\"INSERT OR IGNORE INTO StudentAchievementUni (studentId,universityId,universityGPA,fieldOfStudyId) VALUES (?,?,?,?);\", (student_id,university_id,row[\"University_GPA\"],fieldOfStudy_id))\n",
    "\n",
    "    \n",
    "    conn.commit()\n",
    "    conn.close()\n",
    "    print(f\"Database '{db_name}' has been created and populated successfully.\")"
   ]
  },
  {
   "cell_type": "code",
   "execution_count": 107,
   "metadata": {},
   "outputs": [
    {
     "name": "stdout",
     "output_type": "stream",
     "text": [
      "Database 'education_career_success.db' has been created and populated successfully.\n"
     ]
    }
   ],
   "source": [
    "uploadStudent(df_final, \"education_career_success.db\")"
   ]
  },
  {
   "cell_type": "code",
   "execution_count": 108,
   "metadata": {},
   "outputs": [],
   "source": [
    "def read_table_pandas(database_name:str, query:str)->pd.DataFrame:\n",
    "    \"\"\"This function reads a table from a SQLite database into a pandas DataFrame.\n",
    "    args:\n",
    "        database_name: str: the name of the SQLite database\n",
    "        query: str: the SQL query to execute    \n",
    "    returns:\n",
    "        df: pd.DataFrame: the result of the SQL query\n",
    "    \"\"\"\n",
    "    con = sqlite3.connect(database_name)\n",
    "    df = pd.read_sql_query(query, con)\n",
    "    con.close()\n",
    "    return df"
   ]
  },
  {
   "cell_type": "code",
   "execution_count": 109,
   "metadata": {},
   "outputs": [],
   "source": [
    "query_gender_count = \"\"\"\n",
    "SELECT gender, COUNT(*) as count\n",
    "FROM Student\n",
    "GROUP BY gender;\n",
    "\"\"\""
   ]
  },
  {
   "cell_type": "code",
   "execution_count": 110,
   "metadata": {},
   "outputs": [
    {
     "data": {
      "text/html": [
       "<div>\n",
       "<style scoped>\n",
       "    .dataframe tbody tr th:only-of-type {\n",
       "        vertical-align: middle;\n",
       "    }\n",
       "\n",
       "    .dataframe tbody tr th {\n",
       "        vertical-align: top;\n",
       "    }\n",
       "\n",
       "    .dataframe thead th {\n",
       "        text-align: right;\n",
       "    }\n",
       "</style>\n",
       "<table border=\"1\" class=\"dataframe\">\n",
       "  <thead>\n",
       "    <tr style=\"text-align: right;\">\n",
       "      <th></th>\n",
       "      <th>gender</th>\n",
       "      <th>count</th>\n",
       "    </tr>\n",
       "  </thead>\n",
       "  <tbody>\n",
       "    <tr>\n",
       "      <th>0</th>\n",
       "      <td>Female</td>\n",
       "      <td>2308</td>\n",
       "    </tr>\n",
       "    <tr>\n",
       "      <th>1</th>\n",
       "      <td>Male</td>\n",
       "      <td>2414</td>\n",
       "    </tr>\n",
       "    <tr>\n",
       "      <th>2</th>\n",
       "      <td>Other</td>\n",
       "      <td>188</td>\n",
       "    </tr>\n",
       "  </tbody>\n",
       "</table>\n",
       "</div>"
      ],
      "text/plain": [
       "   gender  count\n",
       "0  Female   2308\n",
       "1    Male   2414\n",
       "2   Other    188"
      ]
     },
     "execution_count": 110,
     "metadata": {},
     "output_type": "execute_result"
    }
   ],
   "source": [
    "read_table_pandas(\"education_career_success.db\",query_gender_count)"
   ]
  },
  {
   "cell_type": "code",
   "execution_count": 111,
   "metadata": {},
   "outputs": [],
   "source": [
    "query_all = \"\"\"SELECT DISTINCT Student.studentId,University.universityId,FieldOfStudy.fieldOfStudyId,gender,age,universityRanking,universityName,fieldOfStudyNoun, StudentJobs.startingSalary, careerSatisfaction, currentJobLevel\n",
    "from StudentAchievementUni JOIN Student ON StudentAchievementUni.studentId = Student.studentId JOIN University on StudentAchievementUni.universityId = University.universityId \n",
    "JOIN FieldOfStudy on StudentAchievementUni.fieldOfStudyId = FieldOfStudy.fieldOfStudyId\n",
    "JOIN StudentJobs ON StudentAchievementUni.studentId = StudentJobs.studentId;\n",
    "\"\"\""
   ]
  },
  {
   "cell_type": "code",
   "execution_count": 112,
   "metadata": {},
   "outputs": [
    {
     "data": {
      "text/html": [
       "<div>\n",
       "<style scoped>\n",
       "    .dataframe tbody tr th:only-of-type {\n",
       "        vertical-align: middle;\n",
       "    }\n",
       "\n",
       "    .dataframe tbody tr th {\n",
       "        vertical-align: top;\n",
       "    }\n",
       "\n",
       "    .dataframe thead th {\n",
       "        text-align: right;\n",
       "    }\n",
       "</style>\n",
       "<table border=\"1\" class=\"dataframe\">\n",
       "  <thead>\n",
       "    <tr style=\"text-align: right;\">\n",
       "      <th></th>\n",
       "      <th>studentId</th>\n",
       "      <th>universityId</th>\n",
       "      <th>fieldOfStudyId</th>\n",
       "      <th>gender</th>\n",
       "      <th>age</th>\n",
       "      <th>universityRanking</th>\n",
       "      <th>universityName</th>\n",
       "      <th>fieldOfStudyNoun</th>\n",
       "      <th>startingSalary</th>\n",
       "      <th>careerSatisfaction</th>\n",
       "      <th>currentJobLevel</th>\n",
       "    </tr>\n",
       "  </thead>\n",
       "  <tbody>\n",
       "    <tr>\n",
       "      <th>2662</th>\n",
       "      <td>S01810</td>\n",
       "      <td>10064</td>\n",
       "      <td>7</td>\n",
       "      <td>Other</td>\n",
       "      <td>28</td>\n",
       "      <td>24</td>\n",
       "      <td>University of Southern California</td>\n",
       "      <td>Arts</td>\n",
       "      <td>101000</td>\n",
       "      <td>6</td>\n",
       "      <td>Entry</td>\n",
       "    </tr>\n",
       "    <tr>\n",
       "      <th>2389</th>\n",
       "      <td>S04539</td>\n",
       "      <td>9164</td>\n",
       "      <td>1</td>\n",
       "      <td>Male</td>\n",
       "      <td>21</td>\n",
       "      <td>943</td>\n",
       "      <td>Leeds Beckett University</td>\n",
       "      <td>Law</td>\n",
       "      <td>100600</td>\n",
       "      <td>6</td>\n",
       "      <td>Entry</td>\n",
       "    </tr>\n",
       "    <tr>\n",
       "      <th>4015</th>\n",
       "      <td>S03831</td>\n",
       "      <td>11263</td>\n",
       "      <td>7</td>\n",
       "      <td>Male</td>\n",
       "      <td>20</td>\n",
       "      <td>234</td>\n",
       "      <td>Oklahoma State University</td>\n",
       "      <td>Arts</td>\n",
       "      <td>98900</td>\n",
       "      <td>8</td>\n",
       "      <td>Entry</td>\n",
       "    </tr>\n",
       "    <tr>\n",
       "      <th>774</th>\n",
       "      <td>S03504</td>\n",
       "      <td>7219</td>\n",
       "      <td>2</td>\n",
       "      <td>Male</td>\n",
       "      <td>25</td>\n",
       "      <td>459</td>\n",
       "      <td>The École Normale Supérieure</td>\n",
       "      <td>Engineering</td>\n",
       "      <td>98200</td>\n",
       "      <td>4</td>\n",
       "      <td>Senior</td>\n",
       "    </tr>\n",
       "    <tr>\n",
       "      <th>936</th>\n",
       "      <td>S00017</td>\n",
       "      <td>7381</td>\n",
       "      <td>1</td>\n",
       "      <td>Female</td>\n",
       "      <td>20</td>\n",
       "      <td>116</td>\n",
       "      <td>The Technische Universität München</td>\n",
       "      <td>Law</td>\n",
       "      <td>97500</td>\n",
       "      <td>8</td>\n",
       "      <td>Mid</td>\n",
       "    </tr>\n",
       "    <tr>\n",
       "      <th>...</th>\n",
       "      <td>...</td>\n",
       "      <td>...</td>\n",
       "      <td>...</td>\n",
       "      <td>...</td>\n",
       "      <td>...</td>\n",
       "      <td>...</td>\n",
       "      <td>...</td>\n",
       "      <td>...</td>\n",
       "      <td>...</td>\n",
       "      <td>...</td>\n",
       "      <td>...</td>\n",
       "    </tr>\n",
       "    <tr>\n",
       "      <th>927</th>\n",
       "      <td>S02992</td>\n",
       "      <td>7328</td>\n",
       "      <td>4</td>\n",
       "      <td>Male</td>\n",
       "      <td>19</td>\n",
       "      <td>988</td>\n",
       "      <td>Hochuschule Furtwangen</td>\n",
       "      <td>Medicine</td>\n",
       "      <td>25000</td>\n",
       "      <td>5</td>\n",
       "      <td>Senior</td>\n",
       "    </tr>\n",
       "    <tr>\n",
       "      <th>928</th>\n",
       "      <td>S04053</td>\n",
       "      <td>7328</td>\n",
       "      <td>4</td>\n",
       "      <td>Female</td>\n",
       "      <td>23</td>\n",
       "      <td>988</td>\n",
       "      <td>Hochuschule Furtwangen</td>\n",
       "      <td>Medicine</td>\n",
       "      <td>25000</td>\n",
       "      <td>2</td>\n",
       "      <td>Senior</td>\n",
       "    </tr>\n",
       "    <tr>\n",
       "      <th>931</th>\n",
       "      <td>S00626</td>\n",
       "      <td>7380</td>\n",
       "      <td>4</td>\n",
       "      <td>Male</td>\n",
       "      <td>22</td>\n",
       "      <td>94</td>\n",
       "      <td>Ludwig-Maximilians-Universität München</td>\n",
       "      <td>Medicine</td>\n",
       "      <td>25000</td>\n",
       "      <td>10</td>\n",
       "      <td>Mid</td>\n",
       "    </tr>\n",
       "    <tr>\n",
       "      <th>4610</th>\n",
       "      <td>S02983</td>\n",
       "      <td>11748</td>\n",
       "      <td>4</td>\n",
       "      <td>Female</td>\n",
       "      <td>22</td>\n",
       "      <td>387</td>\n",
       "      <td>La Trobe University</td>\n",
       "      <td>Medicine</td>\n",
       "      <td>25000</td>\n",
       "      <td>9</td>\n",
       "      <td>Entry</td>\n",
       "    </tr>\n",
       "    <tr>\n",
       "      <th>3763</th>\n",
       "      <td>S04782</td>\n",
       "      <td>10985</td>\n",
       "      <td>1</td>\n",
       "      <td>Male</td>\n",
       "      <td>22</td>\n",
       "      <td>166</td>\n",
       "      <td>Fordham University</td>\n",
       "      <td>Law</td>\n",
       "      <td>25000</td>\n",
       "      <td>5</td>\n",
       "      <td>Entry</td>\n",
       "    </tr>\n",
       "  </tbody>\n",
       "</table>\n",
       "<p>4910 rows × 11 columns</p>\n",
       "</div>"
      ],
      "text/plain": [
       "     studentId  universityId  fieldOfStudyId  gender  age  universityRanking  \\\n",
       "2662    S01810         10064               7   Other   28                 24   \n",
       "2389    S04539          9164               1    Male   21                943   \n",
       "4015    S03831         11263               7    Male   20                234   \n",
       "774     S03504          7219               2    Male   25                459   \n",
       "936     S00017          7381               1  Female   20                116   \n",
       "...        ...           ...             ...     ...  ...                ...   \n",
       "927     S02992          7328               4    Male   19                988   \n",
       "928     S04053          7328               4  Female   23                988   \n",
       "931     S00626          7380               4    Male   22                 94   \n",
       "4610    S02983         11748               4  Female   22                387   \n",
       "3763    S04782         10985               1    Male   22                166   \n",
       "\n",
       "                              universityName fieldOfStudyNoun  startingSalary  \\\n",
       "2662       University of Southern California             Arts          101000   \n",
       "2389                Leeds Beckett University              Law          100600   \n",
       "4015               Oklahoma State University             Arts           98900   \n",
       "774             The École Normale Supérieure      Engineering           98200   \n",
       "936       The Technische Universität München              Law           97500   \n",
       "...                                      ...              ...             ...   \n",
       "927                   Hochuschule Furtwangen         Medicine           25000   \n",
       "928                   Hochuschule Furtwangen         Medicine           25000   \n",
       "931   Ludwig-Maximilians-Universität München         Medicine           25000   \n",
       "4610                     La Trobe University         Medicine           25000   \n",
       "3763                      Fordham University              Law           25000   \n",
       "\n",
       "      careerSatisfaction currentJobLevel  \n",
       "2662                   6           Entry  \n",
       "2389                   6           Entry  \n",
       "4015                   8           Entry  \n",
       "774                    4          Senior  \n",
       "936                    8             Mid  \n",
       "...                  ...             ...  \n",
       "927                    5          Senior  \n",
       "928                    2          Senior  \n",
       "931                   10             Mid  \n",
       "4610                   9           Entry  \n",
       "3763                   5           Entry  \n",
       "\n",
       "[4910 rows x 11 columns]"
      ]
     },
     "execution_count": 112,
     "metadata": {},
     "output_type": "execute_result"
    }
   ],
   "source": [
    "df_query = read_table_pandas(\"education_career_success.db\", query_all).sort_values(by='startingSalary', ascending=False)\n",
    "df_query"
   ]
  },
  {
   "cell_type": "code",
   "execution_count": 113,
   "metadata": {},
   "outputs": [
    {
     "data": {
      "text/html": [
       "<div>\n",
       "<style scoped>\n",
       "    .dataframe tbody tr th:only-of-type {\n",
       "        vertical-align: middle;\n",
       "    }\n",
       "\n",
       "    .dataframe tbody tr th {\n",
       "        vertical-align: top;\n",
       "    }\n",
       "\n",
       "    .dataframe thead th {\n",
       "        text-align: right;\n",
       "    }\n",
       "</style>\n",
       "<table border=\"1\" class=\"dataframe\">\n",
       "  <thead>\n",
       "    <tr style=\"text-align: right;\">\n",
       "      <th></th>\n",
       "      <th>fieldOfStudyNoun</th>\n",
       "    </tr>\n",
       "    <tr>\n",
       "      <th>gender</th>\n",
       "      <th></th>\n",
       "    </tr>\n",
       "  </thead>\n",
       "  <tbody>\n",
       "    <tr>\n",
       "      <th>Female</th>\n",
       "      <td>317</td>\n",
       "    </tr>\n",
       "    <tr>\n",
       "      <th>Male</th>\n",
       "      <td>338</td>\n",
       "    </tr>\n",
       "    <tr>\n",
       "      <th>Other</th>\n",
       "      <td>25</td>\n",
       "    </tr>\n",
       "  </tbody>\n",
       "</table>\n",
       "</div>"
      ],
      "text/plain": [
       "        fieldOfStudyNoun\n",
       "gender                  \n",
       "Female               317\n",
       "Male                 338\n",
       "Other                 25"
      ]
     },
     "execution_count": 113,
     "metadata": {},
     "output_type": "execute_result"
    }
   ],
   "source": [
    "df_medicine = df_query[df_query[\"fieldOfStudyNoun\"] == \"Medicine\"]\n",
    "df_medicine        \n",
    "df_medicine[[\"fieldOfStudyNoun\",\"gender\"]].groupby(\"gender\").count()"
   ]
  },
  {
   "cell_type": "code",
   "execution_count": 114,
   "metadata": {},
   "outputs": [],
   "source": [
    "query_highest_salary = \"SELECT MAX(startingSalary) as highest_salary FROM StudentJobs;\""
   ]
  },
  {
   "cell_type": "code",
   "execution_count": 115,
   "metadata": {},
   "outputs": [],
   "source": [
    "query_highest_salary_by_gender = \"\"\"\n",
    "SELECT gender, MAX(startingSalary) as highest_salary\n",
    "FROM StudentJobs\n",
    "JOIN Student ON StudentJobs.studentId = Student.studentId\n",
    "GROUP BY gender;\n",
    "\"\"\""
   ]
  },
  {
   "cell_type": "code",
   "execution_count": 116,
   "metadata": {},
   "outputs": [
    {
     "data": {
      "text/html": [
       "<div>\n",
       "<style scoped>\n",
       "    .dataframe tbody tr th:only-of-type {\n",
       "        vertical-align: middle;\n",
       "    }\n",
       "\n",
       "    .dataframe tbody tr th {\n",
       "        vertical-align: top;\n",
       "    }\n",
       "\n",
       "    .dataframe thead th {\n",
       "        text-align: right;\n",
       "    }\n",
       "</style>\n",
       "<table border=\"1\" class=\"dataframe\">\n",
       "  <thead>\n",
       "    <tr style=\"text-align: right;\">\n",
       "      <th></th>\n",
       "      <th>gender</th>\n",
       "      <th>highest_salary</th>\n",
       "    </tr>\n",
       "  </thead>\n",
       "  <tbody>\n",
       "    <tr>\n",
       "      <th>0</th>\n",
       "      <td>Female</td>\n",
       "      <td>97500</td>\n",
       "    </tr>\n",
       "    <tr>\n",
       "      <th>1</th>\n",
       "      <td>Male</td>\n",
       "      <td>100600</td>\n",
       "    </tr>\n",
       "    <tr>\n",
       "      <th>2</th>\n",
       "      <td>Other</td>\n",
       "      <td>101000</td>\n",
       "    </tr>\n",
       "  </tbody>\n",
       "</table>\n",
       "</div>"
      ],
      "text/plain": [
       "   gender  highest_salary\n",
       "0  Female           97500\n",
       "1    Male          100600\n",
       "2   Other          101000"
      ]
     },
     "execution_count": 116,
     "metadata": {},
     "output_type": "execute_result"
    }
   ],
   "source": [
    "read_table_pandas(\"education_career_success.db\", query_highest_salary_by_gender)"
   ]
  },
  {
   "cell_type": "code",
   "execution_count": 117,
   "metadata": {},
   "outputs": [
    {
     "name": "stdout",
     "output_type": "stream",
     "text": [
      "   gender  startingSalary\n",
      "0  Female           97500\n",
      "1    Male          100600\n",
      "2   Other          101000\n"
     ]
    }
   ],
   "source": [
    "highest_salary_by_gender = df_query.groupby(\"gender\")[\"startingSalary\"].max().reset_index()\n",
    "print(highest_salary_by_gender)"
   ]
  },
  {
   "cell_type": "code",
   "execution_count": 118,
   "metadata": {},
   "outputs": [
    {
     "data": {
      "application/vnd.plotly.v1+json": {
       "config": {
        "plotlyServerURL": "https://plot.ly"
       },
       "data": [
        {
         "hovertemplate": "gender=%{x}<br>startingSalary=%{y}<extra></extra>",
         "legendgroup": "",
         "marker": {
          "color": "#636efa",
          "pattern": {
           "shape": ""
          }
         },
         "name": "",
         "orientation": "v",
         "showlegend": false,
         "textposition": "auto",
         "type": "bar",
         "x": [
          "Female",
          "Male",
          "Other"
         ],
         "xaxis": "x",
         "y": {
          "bdata": "WPlOzm+06EBsBwuU6sboQMTkCmJyP+hA",
          "dtype": "f8"
         },
         "yaxis": "y"
        }
       ],
       "layout": {
        "barmode": "relative",
        "legend": {
         "tracegroupgap": 0
        },
        "template": {
         "data": {
          "bar": [
           {
            "error_x": {
             "color": "#2a3f5f"
            },
            "error_y": {
             "color": "#2a3f5f"
            },
            "marker": {
             "line": {
              "color": "#E5ECF6",
              "width": 0.5
             },
             "pattern": {
              "fillmode": "overlay",
              "size": 10,
              "solidity": 0.2
             }
            },
            "type": "bar"
           }
          ],
          "barpolar": [
           {
            "marker": {
             "line": {
              "color": "#E5ECF6",
              "width": 0.5
             },
             "pattern": {
              "fillmode": "overlay",
              "size": 10,
              "solidity": 0.2
             }
            },
            "type": "barpolar"
           }
          ],
          "carpet": [
           {
            "aaxis": {
             "endlinecolor": "#2a3f5f",
             "gridcolor": "white",
             "linecolor": "white",
             "minorgridcolor": "white",
             "startlinecolor": "#2a3f5f"
            },
            "baxis": {
             "endlinecolor": "#2a3f5f",
             "gridcolor": "white",
             "linecolor": "white",
             "minorgridcolor": "white",
             "startlinecolor": "#2a3f5f"
            },
            "type": "carpet"
           }
          ],
          "choropleth": [
           {
            "colorbar": {
             "outlinewidth": 0,
             "ticks": ""
            },
            "type": "choropleth"
           }
          ],
          "contour": [
           {
            "colorbar": {
             "outlinewidth": 0,
             "ticks": ""
            },
            "colorscale": [
             [
              0,
              "#0d0887"
             ],
             [
              0.1111111111111111,
              "#46039f"
             ],
             [
              0.2222222222222222,
              "#7201a8"
             ],
             [
              0.3333333333333333,
              "#9c179e"
             ],
             [
              0.4444444444444444,
              "#bd3786"
             ],
             [
              0.5555555555555556,
              "#d8576b"
             ],
             [
              0.6666666666666666,
              "#ed7953"
             ],
             [
              0.7777777777777778,
              "#fb9f3a"
             ],
             [
              0.8888888888888888,
              "#fdca26"
             ],
             [
              1,
              "#f0f921"
             ]
            ],
            "type": "contour"
           }
          ],
          "contourcarpet": [
           {
            "colorbar": {
             "outlinewidth": 0,
             "ticks": ""
            },
            "type": "contourcarpet"
           }
          ],
          "heatmap": [
           {
            "colorbar": {
             "outlinewidth": 0,
             "ticks": ""
            },
            "colorscale": [
             [
              0,
              "#0d0887"
             ],
             [
              0.1111111111111111,
              "#46039f"
             ],
             [
              0.2222222222222222,
              "#7201a8"
             ],
             [
              0.3333333333333333,
              "#9c179e"
             ],
             [
              0.4444444444444444,
              "#bd3786"
             ],
             [
              0.5555555555555556,
              "#d8576b"
             ],
             [
              0.6666666666666666,
              "#ed7953"
             ],
             [
              0.7777777777777778,
              "#fb9f3a"
             ],
             [
              0.8888888888888888,
              "#fdca26"
             ],
             [
              1,
              "#f0f921"
             ]
            ],
            "type": "heatmap"
           }
          ],
          "histogram": [
           {
            "marker": {
             "pattern": {
              "fillmode": "overlay",
              "size": 10,
              "solidity": 0.2
             }
            },
            "type": "histogram"
           }
          ],
          "histogram2d": [
           {
            "colorbar": {
             "outlinewidth": 0,
             "ticks": ""
            },
            "colorscale": [
             [
              0,
              "#0d0887"
             ],
             [
              0.1111111111111111,
              "#46039f"
             ],
             [
              0.2222222222222222,
              "#7201a8"
             ],
             [
              0.3333333333333333,
              "#9c179e"
             ],
             [
              0.4444444444444444,
              "#bd3786"
             ],
             [
              0.5555555555555556,
              "#d8576b"
             ],
             [
              0.6666666666666666,
              "#ed7953"
             ],
             [
              0.7777777777777778,
              "#fb9f3a"
             ],
             [
              0.8888888888888888,
              "#fdca26"
             ],
             [
              1,
              "#f0f921"
             ]
            ],
            "type": "histogram2d"
           }
          ],
          "histogram2dcontour": [
           {
            "colorbar": {
             "outlinewidth": 0,
             "ticks": ""
            },
            "colorscale": [
             [
              0,
              "#0d0887"
             ],
             [
              0.1111111111111111,
              "#46039f"
             ],
             [
              0.2222222222222222,
              "#7201a8"
             ],
             [
              0.3333333333333333,
              "#9c179e"
             ],
             [
              0.4444444444444444,
              "#bd3786"
             ],
             [
              0.5555555555555556,
              "#d8576b"
             ],
             [
              0.6666666666666666,
              "#ed7953"
             ],
             [
              0.7777777777777778,
              "#fb9f3a"
             ],
             [
              0.8888888888888888,
              "#fdca26"
             ],
             [
              1,
              "#f0f921"
             ]
            ],
            "type": "histogram2dcontour"
           }
          ],
          "mesh3d": [
           {
            "colorbar": {
             "outlinewidth": 0,
             "ticks": ""
            },
            "type": "mesh3d"
           }
          ],
          "parcoords": [
           {
            "line": {
             "colorbar": {
              "outlinewidth": 0,
              "ticks": ""
             }
            },
            "type": "parcoords"
           }
          ],
          "pie": [
           {
            "automargin": true,
            "type": "pie"
           }
          ],
          "scatter": [
           {
            "fillpattern": {
             "fillmode": "overlay",
             "size": 10,
             "solidity": 0.2
            },
            "type": "scatter"
           }
          ],
          "scatter3d": [
           {
            "line": {
             "colorbar": {
              "outlinewidth": 0,
              "ticks": ""
             }
            },
            "marker": {
             "colorbar": {
              "outlinewidth": 0,
              "ticks": ""
             }
            },
            "type": "scatter3d"
           }
          ],
          "scattercarpet": [
           {
            "marker": {
             "colorbar": {
              "outlinewidth": 0,
              "ticks": ""
             }
            },
            "type": "scattercarpet"
           }
          ],
          "scattergeo": [
           {
            "marker": {
             "colorbar": {
              "outlinewidth": 0,
              "ticks": ""
             }
            },
            "type": "scattergeo"
           }
          ],
          "scattergl": [
           {
            "marker": {
             "colorbar": {
              "outlinewidth": 0,
              "ticks": ""
             }
            },
            "type": "scattergl"
           }
          ],
          "scattermap": [
           {
            "marker": {
             "colorbar": {
              "outlinewidth": 0,
              "ticks": ""
             }
            },
            "type": "scattermap"
           }
          ],
          "scattermapbox": [
           {
            "marker": {
             "colorbar": {
              "outlinewidth": 0,
              "ticks": ""
             }
            },
            "type": "scattermapbox"
           }
          ],
          "scatterpolar": [
           {
            "marker": {
             "colorbar": {
              "outlinewidth": 0,
              "ticks": ""
             }
            },
            "type": "scatterpolar"
           }
          ],
          "scatterpolargl": [
           {
            "marker": {
             "colorbar": {
              "outlinewidth": 0,
              "ticks": ""
             }
            },
            "type": "scatterpolargl"
           }
          ],
          "scatterternary": [
           {
            "marker": {
             "colorbar": {
              "outlinewidth": 0,
              "ticks": ""
             }
            },
            "type": "scatterternary"
           }
          ],
          "surface": [
           {
            "colorbar": {
             "outlinewidth": 0,
             "ticks": ""
            },
            "colorscale": [
             [
              0,
              "#0d0887"
             ],
             [
              0.1111111111111111,
              "#46039f"
             ],
             [
              0.2222222222222222,
              "#7201a8"
             ],
             [
              0.3333333333333333,
              "#9c179e"
             ],
             [
              0.4444444444444444,
              "#bd3786"
             ],
             [
              0.5555555555555556,
              "#d8576b"
             ],
             [
              0.6666666666666666,
              "#ed7953"
             ],
             [
              0.7777777777777778,
              "#fb9f3a"
             ],
             [
              0.8888888888888888,
              "#fdca26"
             ],
             [
              1,
              "#f0f921"
             ]
            ],
            "type": "surface"
           }
          ],
          "table": [
           {
            "cells": {
             "fill": {
              "color": "#EBF0F8"
             },
             "line": {
              "color": "white"
             }
            },
            "header": {
             "fill": {
              "color": "#C8D4E3"
             },
             "line": {
              "color": "white"
             }
            },
            "type": "table"
           }
          ]
         },
         "layout": {
          "annotationdefaults": {
           "arrowcolor": "#2a3f5f",
           "arrowhead": 0,
           "arrowwidth": 1
          },
          "autotypenumbers": "strict",
          "coloraxis": {
           "colorbar": {
            "outlinewidth": 0,
            "ticks": ""
           }
          },
          "colorscale": {
           "diverging": [
            [
             0,
             "#8e0152"
            ],
            [
             0.1,
             "#c51b7d"
            ],
            [
             0.2,
             "#de77ae"
            ],
            [
             0.3,
             "#f1b6da"
            ],
            [
             0.4,
             "#fde0ef"
            ],
            [
             0.5,
             "#f7f7f7"
            ],
            [
             0.6,
             "#e6f5d0"
            ],
            [
             0.7,
             "#b8e186"
            ],
            [
             0.8,
             "#7fbc41"
            ],
            [
             0.9,
             "#4d9221"
            ],
            [
             1,
             "#276419"
            ]
           ],
           "sequential": [
            [
             0,
             "#0d0887"
            ],
            [
             0.1111111111111111,
             "#46039f"
            ],
            [
             0.2222222222222222,
             "#7201a8"
            ],
            [
             0.3333333333333333,
             "#9c179e"
            ],
            [
             0.4444444444444444,
             "#bd3786"
            ],
            [
             0.5555555555555556,
             "#d8576b"
            ],
            [
             0.6666666666666666,
             "#ed7953"
            ],
            [
             0.7777777777777778,
             "#fb9f3a"
            ],
            [
             0.8888888888888888,
             "#fdca26"
            ],
            [
             1,
             "#f0f921"
            ]
           ],
           "sequentialminus": [
            [
             0,
             "#0d0887"
            ],
            [
             0.1111111111111111,
             "#46039f"
            ],
            [
             0.2222222222222222,
             "#7201a8"
            ],
            [
             0.3333333333333333,
             "#9c179e"
            ],
            [
             0.4444444444444444,
             "#bd3786"
            ],
            [
             0.5555555555555556,
             "#d8576b"
            ],
            [
             0.6666666666666666,
             "#ed7953"
            ],
            [
             0.7777777777777778,
             "#fb9f3a"
            ],
            [
             0.8888888888888888,
             "#fdca26"
            ],
            [
             1,
             "#f0f921"
            ]
           ]
          },
          "colorway": [
           "#636efa",
           "#EF553B",
           "#00cc96",
           "#ab63fa",
           "#FFA15A",
           "#19d3f3",
           "#FF6692",
           "#B6E880",
           "#FF97FF",
           "#FECB52"
          ],
          "font": {
           "color": "#2a3f5f"
          },
          "geo": {
           "bgcolor": "white",
           "lakecolor": "white",
           "landcolor": "#E5ECF6",
           "showlakes": true,
           "showland": true,
           "subunitcolor": "white"
          },
          "hoverlabel": {
           "align": "left"
          },
          "hovermode": "closest",
          "mapbox": {
           "style": "light"
          },
          "paper_bgcolor": "white",
          "plot_bgcolor": "#E5ECF6",
          "polar": {
           "angularaxis": {
            "gridcolor": "white",
            "linecolor": "white",
            "ticks": ""
           },
           "bgcolor": "#E5ECF6",
           "radialaxis": {
            "gridcolor": "white",
            "linecolor": "white",
            "ticks": ""
           }
          },
          "scene": {
           "xaxis": {
            "backgroundcolor": "#E5ECF6",
            "gridcolor": "white",
            "gridwidth": 2,
            "linecolor": "white",
            "showbackground": true,
            "ticks": "",
            "zerolinecolor": "white"
           },
           "yaxis": {
            "backgroundcolor": "#E5ECF6",
            "gridcolor": "white",
            "gridwidth": 2,
            "linecolor": "white",
            "showbackground": true,
            "ticks": "",
            "zerolinecolor": "white"
           },
           "zaxis": {
            "backgroundcolor": "#E5ECF6",
            "gridcolor": "white",
            "gridwidth": 2,
            "linecolor": "white",
            "showbackground": true,
            "ticks": "",
            "zerolinecolor": "white"
           }
          },
          "shapedefaults": {
           "line": {
            "color": "#2a3f5f"
           }
          },
          "ternary": {
           "aaxis": {
            "gridcolor": "white",
            "linecolor": "white",
            "ticks": ""
           },
           "baxis": {
            "gridcolor": "white",
            "linecolor": "white",
            "ticks": ""
           },
           "bgcolor": "#E5ECF6",
           "caxis": {
            "gridcolor": "white",
            "linecolor": "white",
            "ticks": ""
           }
          },
          "title": {
           "x": 0.05
          },
          "xaxis": {
           "automargin": true,
           "gridcolor": "white",
           "linecolor": "white",
           "ticks": "",
           "title": {
            "standoff": 15
           },
           "zerolinecolor": "white",
           "zerolinewidth": 2
          },
          "yaxis": {
           "automargin": true,
           "gridcolor": "white",
           "linecolor": "white",
           "ticks": "",
           "title": {
            "standoff": 15
           },
           "zerolinecolor": "white",
           "zerolinewidth": 2
          }
         }
        },
        "title": {
         "text": "Average Starting Salary by Gender"
        },
        "xaxis": {
         "anchor": "y",
         "domain": [
          0,
          1
         ],
         "title": {
          "text": "gender"
         }
        },
        "yaxis": {
         "anchor": "x",
         "domain": [
          0,
          1
         ],
         "title": {
          "text": "startingSalary"
         }
        }
       }
      }
     },
     "metadata": {},
     "output_type": "display_data"
    }
   ],
   "source": [
    "avg_salary_by_gender = df_query.groupby(\"gender\")[\"startingSalary\"].mean().reset_index()\n",
    "fig = px.bar(avg_salary_by_gender, x='gender', y='startingSalary', title='Average Starting Salary by Gender')\n",
    "fig.show()"
   ]
  },
  {
   "cell_type": "code",
   "execution_count": 119,
   "metadata": {},
   "outputs": [
    {
     "data": {
      "application/vnd.plotly.v1+json": {
       "config": {
        "plotlyServerURL": "https://plot.ly"
       },
       "data": [
        {
         "hovertemplate": "gender=Female<br>universityRanking=%{x}<br>startingSalary=%{y}<extra></extra>",
         "legendgroup": "Female",
         "marker": {
          "color": "#636efa",
          "symbol": "circle"
         },
         "mode": "markers",
         "name": "Female",
         "showlegend": true,
         "type": "scattergl",
         "x": {
          "bdata": "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",
          "dtype": "i2"
         },
         "xaxis": "x",
         "y": {
          "bdata": "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",
          "dtype": "f8"
         },
         "yaxis": "y"
        },
        {
         "hovertemplate": "gender=Male<br>universityRanking=%{x}<br>startingSalary=%{y}<extra></extra>",
         "legendgroup": "Male",
         "marker": {
          "color": "#EF553B",
          "symbol": "circle"
         },
         "mode": "markers",
         "name": "Male",
         "showlegend": true,
         "type": "scattergl",
         "x": {
          "bdata": "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",
          "dtype": "i2"
         },
         "xaxis": "x",
         "y": {
          "bdata": "AAAAAMDF8EAAAAAAgBLoQFVVVVXVG+xAAAAAAMBE6UCrqqqqqmfnQAAAAAAAreFAAAAAAACO4kCrqqqqqrnqQAAAAAAAoeNAVVVVVVXu5EAAAAAAYBDsQAAAAACAjuRAAAAAAIC65UAAAAAAgLrlQAAAAABAHuVAAAAAAIAE4kAAAAAAAHHrQAAAAACgO+pAAAAAAMBb8UAAAAAAAMPuQAAAAACAH+pAAAAAAABk6UAAAAAAgNLhQAAAAADAFvBAVVVVVdVX4kAAAAAAAHLfQFVVVVXVnedAAAAAAODP40AAAAAAgGnmQAAAAACAo+1AAAAAAIDz6EBVVVVV1b3qQAAAAACgVe5AAAAAAABj5UAAAAAAgDHnQAAAAAAAMulAAAAAAMCn5UAAAAAAgK/rQAAAAABA6/BAAAAAAMAG60BVVVVV1aLiQAAAAADA2ulAAAAAAADg5UAAAAAAADDhQAAAAACAyOtAAAAAAAAU7kAAAAAAQK3iQAAAAABgG+ZAAAAAAEDs5EAAAAAAQDntQKuqqqoqtO1AVVVVVdUN5kCrqqqqKvfmQAAAAABA0+RAAAAAAIBw6UAAAAAAwEPlQAAAAAAAsN1AAAAAAADJ3UAAAAAAgBjnQAAAAADAJfBAVVVVVdVa7kCSJEmSJD/oQAAAAADAAOxAAAAAAIC65UAAAAAAADLpQAAAAABAAe5AAAAAAABw50BVVVVV1UzoQAAAAAAAfOVAAAAAAABR6EAAAAAAAPrpQAAAAAAA9OpAAAAAAADn6ECrqqqqqv3nQAAAAAAAke5AAAAAAAC16EAAAAAAgBjnQAAAAACA4etAAAAAAAD77UBVVVVVVSLtQKuqqqqqv+lAAAAAAECv6kAAAAAAQHjvQAAAAAAAUuxAAAAAAIC16kAAAAAAwE/jQKuqqqqq3uhAAAAAAACE7EAAAAAAAFbjQAAAAACA+utAAAAAAIBY7UAAAAAAQBTvQAAAAADQ0/BAAAAAAIAR5EAAAAAAgPPoQAAAAACAS9tAAAAAAICG50AAAAAAwDLsQAAAAADAdOFAAAAAAIAd8kAAAAAAAK/pQAAAAACA+ONAAAAAAIB+70AAAAAAgBjnQAAAAABAOOlAAAAAAABK5UAAAAAAgHboQAAAAACAj+hAAAAAAABq2EAAAAAAAGLxQAAAAADAx+hAAAAAAICU40AAAAAAwB7nQAAAAAAAN+RAAAAAAACL30CrqqqqKrnoQAAAAACAUOZAAAAAAEAM6EAAAAAAgM7qQAAAAAAAY+VAAAAAAIDo7kAAAAAAAIXrQAAAAACAd+xAAAAAAAA/60AAAAAAAKznQAAAAACAEuhAAAAAAMBI8EAAAAAAAJbpQAAAAABAqu9AAAAAAMCc60AAAAAAAHfaQAAAAABg6ulAAAAAAMB86EAAAAAAgF7sQAAAAAAAMulAAAAAAICI5UAAAAAAQMHnQAAAAAAA4dlAAAAAAIDU6UAAAAAAQMbiQAAAAABAwONAAAAAAKDX6UAAAAAA4PThQAAAAAAAXtpAAAAAAIBC8ECrqqqqKkHjQAAAAADAaedAAAAAAICW60AAAAAAYFPlQAAAAACAOelAAAAAAADW70AAAAAAgAfuQAAAAAAAtuxAAAAAAICI5UAAAAAAgLrlQAAAAACAEuhAq6qqqioo40BVVVVV1aTqQAAAAACA/uJAVVVVVVXC40AAAAAAANLpQAAAAAAAMOFAq6qqqqqT6EAAAAAAwILnQAAAAABA7ORAAAAAAIDZ5EAAAAAAAPPmQAAAAACALOdAAAAAAAAg3EAAAAAAgHXkQAAAAACgO+pAAAAAAMCC50AAAAAAAN7nQAAAAAAAd+pAAAAAAABL6UAAAAAAgI7kQFVVVVXVc+5AAAAAAAAG6EAAAAAAgHDpQAAAAADAlORAAAAAAMD56EBVVVVV1WrjQAAAAAAAH+hAAAAAAIDy5EAAAAAAAGroQAAAAADgyeRAAAAAAMBR60AAAAAAgK7nQAAAAAAAGOpAAAAAAMBd6UAAAAAAAPPmQAAAAAAAiONAAAAAAMCE70AAAAAAANPjQAAAAADA+ORAAAAAAIAZ60AAAAAAwB/rQAAAAAAAMtlAVVVVVdXd7UAAAAAAQP7xQAAAAAAAathAAAAAAMDz6UBVVVVVVbfpQAAAAAAAaPBAAAAAAKAN8UAAAAAAwPLlQAAAAADAuuZAAAAAAACj60BVVVVV1bfrQFVVVVVVeetAAAAAAEAy6kCrqqqqqknsQFVVVVXVZehAAAAAAEAs60AAAAAAgBLoQFVVVVVVeetAAAAAAACh40AAAAAAAPXuQAAAAACAQupAAAAAAAA57ECrqqqq6rLoQAAAAACAUu5AAAAAAIDm5kAAAAAAYLjpQAAAAACA0utAAAAAAOBZ5kAAAAAAQAzoQAAAAACAaeZAAAAAAIAu6kAAAAAAgOjkQAAAAAAADt9AAAAAAMDU6kBVVVVV1YvqQAAAAAAAweZAAAAAAOBk8EAAAAAA4L7qQAAAAAAAPudAAAAAAIB15EAAAAAAgHDpQAAAAABAg+lAAAAAAACX3UCrqqqqKlXoQAAAAAAARepASZIkSZK46EAAAAAAgM/pQAAAAACAb+VAAAAAAAAn70AAAAAA4ArvQAAAAAAAGOVAAAAAAECw7kAAAAAAoIXmQAAAAACAfOdAAAAAAAAS5kDbtm3bNuvnQAAAAADAruhAAAAAAICB4kCrqqqqqvfoQFVVVVVVhOVAAAAAAIAQ8ECrqqqqKojsQAAAAADg1+pAAAAAAMBd6UAAAAAAgGTrQKuqqqqqKelAAAAAAEDc70AAAAAAgGTrQKuqqqqqA+dAAAAAACCN60AAAAAAAKPbQAAAAACA2eRAAAAAAADU50AAAAAA4NzlQAAAAADAL/BAAAAAAACE7EAAAAAAwFXyQAAAAAAAdeJAAAAAAEDC60AAAAAAAFfnQAAAAACA0+VAAAAAAIDm60BVVVVVVZbiQAAAAAAARu5AAAAAAECV5kAAAAAAgMLsQKuqqqqqe+xAAAAAAAAs2kAAAAAAAGrYQKuqqqpqYedAAAAAAABd5kCrqqqqKjftQAAAAAAAsN1Aq6qqqqoC40AAAAAAgCzsQFVVVVVVxe9AAAAAAIA+6UAAAAAAwInqQFVVVVXVcupAq6qqqmpA8EAAAAAAgFvlQKuqqqpq/upAAAAAAABP4EAAAAAAALT0QAAAAAAA8+ZAq6qqqqrr6kCrqqqqKuzsQAAAAACAQ+RAAAAAAABw50BVVVVVVYDeQAAAAABA5eFAAAAAAACX3UAAAAAAAInnQAAAAAAAsO1AAAAAAICE7kAAAAAAgDnuQAAAAADA/uNAVVVVVdWw6EAAAAAAgK/rQAAAAACgWulAAAAAAICp7EAAAAAAgILmQAAAAAAAGelAAAAAAIA35kAAAAAAgCDpQFVVVVXV9OVAAAAAAADu60AAAAAAgF7nQAAAAAAAzeRAAAAAAIDT5UAAAAAAAJzoQAAAAACA/+ZAAAAAAGBs5UAAAAAAgM3mQAAAAABAKuNAAAAAAADu60AAAAAAAInnQAAAAAAA4+xAVVVVVVVG50AAAAAAAMflQAAAAAAAvOtAAAAAACAh5EAAAAAAQD7oQAAAAAAArfFAq6qqqqoE60AAAAAAQIHhQAAAAABAHeFAq6qqqir35kAAAAAAgJTjQFVVVVXVcupAAAAAAEBD40BVVVVVlaroQAAAAAAAEeJA27Zt27bS6UAAAAAAQFbkQAAAAAAAV+dAAAAAAABl7UAAAAAAgAHvQAAAAAAAJedAAAAAAKDk60BVVVVVVQ7oQAAAAAAAd+pAAAAAAIDh60AAAAAAgKDhQAAAAACAwehAAAAAAADx6EAAAAAAAFbjQAAAAADg3OVAAAAAAMCE70BVVVVVFZjpQAAAAADAaONAAAAAAICn5EAAAAAAwMfoQAAAAABAPPBAAAAAAMCa80AAAAAAAA3rQAAAAACgGuNAAAAAAAAe5EBVVVVVVbLuQAAAAAAAhOxAAAAAAIA+6UAAAAAAgP/mQAAAAAAAT/BAAAAAAACU4UAAAAAAwNnlQAAAAACAduhAAAAAAICO5EAAAAAAAA3rQFVVVVVVVO1Aq6qqqqpc7UCrqqqqqk3jQAAAAACAT+JAAAAAAIB960AAAAAAwFzlQAAAAABA5+lAq6qqqqo75kAAAAAAgGHuQAAAAABARetAAAAAAIAH7kAAAAAAgGTrQAAAAAAASOdAAAAAAED/5UAAAAAAAE/gQAAAAADAY+hAAAAAAEBR6UBVVVVVVWzpQAAAAAAAAOlAAAAAAAAT2kAAAAAAgKvqQAAAAAAAcetAAAAAAABY60AAAAAAYHTsQAAAAADAnOtAAAAAAEBk6kCrqqqqqqftQAAAAACAjfBAVVVVVdXK7EBVVVVV1SbmQFVVVVVVLedAAAAAAIDC7EAAAAAAIDXpQAAAAAAAr+lAAAAAACDc4kAAAAAAgFvgQAAAAACA5uZAAAAAAACW6UAAAAAAAH7tQAAAAAAgbORAAAAAAGC/7EAAAAAAwHXlQAAAAACA5uZAVVVVVVWx6kAAAAAAQKDwQAAAAADApuFAAAAAAAAZ6UAAAAAAAN/hQAAAAADAjfFAAAAAAMAy7EAAAAAAgM3mQFVVVVVVMuJAq6qqqqoQ6UBVVVVV1YrmQAAAAABABOFAAAAAAIDI60AAAAAAwLTnQFVVVVVVy+5AAAAAAIAX40BVVVVV1WDtQAAAAAAA5uRAAAAAAACh40BVVVVVVRvqQAAAAACAUOZAq6qqqioD5UAAAAAAwJrjQAAAAADAEulAAAAAAMAZ7EAAAAAAAAXpQAAAAADAx+hAAAAAAAD55UAAAAAAAInnQAAAAACAreNAAAAAAMBD5UAAAAAAwIruQAAAAABAPuhAq6qqqqpN40AAAAAAQDzgQAAAAADAu+pAAAAAAICJ6UAAAAAA4L7qQKuqqqoqA+VAq6qqqirQ4EAAAAAAgHznQAAAAABAAOpAAAAAAAD06kBVVVVVVbDmQFVVVVXVUudAAAAAAIAN7UAAAAAAIFXsQAAAAAAAVuNAAAAAAEBX6EAAAAAAANPjQAAAAAAAw+5AAAAAAEAx5kAAAAAAwKntQAAAAABAMupAAAAAAEA/7EAAAAAAQOXxQFVVVVXVweFAAAAAAEAy6kAAAAAAwFvxQAAAAAAAEuZAAAAAAMCj7kAAAAAAwFLvQAAAAAAAathAq6qqqir+6UAAAAAAgJvmQAAAAACATO9AAAAAAAA/60AAAAAAgLXqQAAAAADgCOdAAAAAAIDB6EAAAAAAgNDoQAAAAADAHudAVVVVVdWd50AAAAAAwMDlQAAAAAAAd+pAAAAAAEDV7EAAAAAAQKfzQAAAAACg6+5AAAAAAAD+8ECrqqqqKtHkQAAAAACA7u1AAAAAAMAR5UAAAAAAAIrrQKuqqqqq6+pAVVVVVVUU50AAAAAA4EXxQAAAAACAqOhAAAAAAACW6UCrqqqqKqDoQAAAAAAggOlAVVVVVdVe5UAAAAAAgM3mQAAAAACAB+5AAAAAAIDu7UAAAAAAgFHqQKuqqqpqKehAAAAAAAB74UAAAAAAgD/tQFVVVVXVOONAVVVVVdWo4UAAAAAAAKfiQAAAAABAtOVAq6qqqipb50AAAAAAAOnmQAAAAADA+ehAAAAAAIB04EAAAAAAoAjmQFVVVVVVQOhAVVVVVVVY5EAAAAAAgArhQKuqqqoqHu1AAAAAAIDB6EAAAAAAgHfsQKuqqqoqF+pAAAAAAMCa40AAAAAAAGXtQAAAAAAAyOlAAAAAAIAI6EAAAAAAgKHlQAAAAAAAJedAAAAAAIDC7EAAAAAAgPfkQAAAAABAMupAVVVVVdWW5EAAAAAAAHHrQAAAAACAkOxAAAAAAIA05EAAAAAAQGnlQAAAAAAAkOpAAAAAAOAI50AAAAAAAGrYQAAAAAAA6NxAVVVVVdXd7UAAAAAAgErnQAAAAACgkuhAAAAAAMBw6kAAAAAAABjlQAAAAAAAvd9AAAAAAMAK8kAAAAAAgEzvQAAAAACgTutAVVVVVVWF6UAAAAAAQJTiQAAAAAAAhOxAAAAAAMCp7UAAAAAAgAHvQAAAAACgO+pAAAAAAAB25kAAAAAAgCvoQFVVVVXVbe9AAAAAAMBE6UAAAAAAYE7qQAAAAAAAN+lAq6qqqqr950BVVVVVVX/aQKuqqqoqPOhAAAAAAIBq6kCrqqqq6t3lQAAAAAAAsO1AkiRJkiTn5UAAAAAAAEXqQAAAAACA+edAAAAAAIBV4UAAAAAAwFfqQAAAAACArudAAAAAAIDl4kAAAAAAAH7tQFVVVVVVcuhAAAAAAAAy6UBVVVVVVUHsQAAAAADAj+lAAAAAAABq2EAAAAAAQB3hQAAAAABAmuFAAAAAAOBk8EAAAAAAwL/xQAAAAAAA7edAq6qqqqrD4EBVVVVV1dXmQAAAAAAgB/BAAAAAAECC5UAAAAAAgM/kQAAAAAAAXOJAAAAAAICD6kAAAAAAgAXmQAAAAACAgeJAAAAAAAAK6UAAAAAAQEvqQAAAAADAT/NAAAAAAMBI8ECrqqqqqkLpQAAAAAAA2eJAAAAAAMBe7UAAAAAAgCTlQAAAAADAaedAAAAAAIDu7UAAAAAAYMTnQAAAAABAkOtAq6qqqiqV7kAAAAAAgCjrQAAAAACg0epAAAAAAICN4EAAAAAAgF3oQAAAAABAqu9Aq6qqqiqa6UAAAAAAAKruQAAAAACAJelAAAAAAMCb50AAAAAAALvnQAAAAADAEulAAAAAAAA/60AAAAAAAJDaQAAAAAAAAORAAAAAAAC05EAAAAAAQK7mQAAAAAAAeO5AAAAAAAAZ6UAAAAAAgOHrQAAAAADAMORAAAAAAOAs8UAAAAAAoPznQAAAAACA2OBAAAAAAIBD5EAAAAAAAIjjQAAAAAAAi+9AAAAAAMAr6UAAAAAAgHfsQAAAAAAAruVAAAAAAIC76UAAAAAAgLTmQAAAAACANvJAAAAAAECO40AAAAAAgDzhQAAAAAAAe/FAAAAAAKAW7EAAAAAAANvqQFVVVVVVH+FAAAAAAICv60AAAAAAgNLhQAAAAAAAZOlAq6qqqmrR5UAAAAAAAHDnQAAAAACAdPBAAAAAAABk6UAAAAAAQOfpQFVVVVXV/OxAAAAAAEDh6kAAAAAAAPLnQAAAAACAv+BAAAAAAIAA60AAAAAAwO7uQKuqqqqq9+hAVVVVVdXj7EAAAAAAwB3jQAAAAACAoeVAAAAAAAB96UAAAAAAgJbrQAAAAADgyPBAAAAAAADb6kAAAAAAwPfgQAAAAAAAXeZAAAAAAIDO6kAAAAAAAFjrQAAAAACA4OdAAAAAAABY60AAAAAAwOjvQCVJkiTJ3OpAAAAAAAA940AAAAAAgJjuQAAAAACAa+5AAAAAAABP8EAAAAAAkBjxQAAAAADAGOhAAAAAAGB440AAAAAAgNroQKuqqqoq/ulAAAAAAKBe8EAAAAAAAATqQAAAAADAgfNAAAAAAECR30AAAAAAAD/rQAAAAACAW/BAAAAAAIBv5UBVVVVV1SHrQAAAAACAzupAAAAAAACR7kCrqqqqKrnoQAAAAACApOdAAAAAAEC76EAAAAAAgB/qQKuqqqoqSu5AAAAAAMDK5UAAAAAAAJbpQAAAAACAEuhAAAAAAABe6kAAAAAAoEfoQAAAAADAPupAkiRJkiQn7EAAAAAAgP/mQNu2bdu2Su9AAAAAAABq2EAAAAAAgMfnQAAAAADA2ulAAAAAAABr7ECrqqqqKlbsQAAAAAAAathAAAAAAAAq4kAAAAAAgITuQAAAAACAkOxAAAAAAABq2ECrqqqqKqDoQFVVVVVVa+VAAAAAAIBS7kAAAAAAQKLoQAAAAACABOJAAAAAAIAm7UAAAAAAgGPnQAAAAACARedAAAAAAABK5UAAAAAAgHznQAAAAAAAF+FAAAAAAIBA7ECrqqqqajvlQAAAAADA/+dAAAAAAABd5kAAAAAAwPfwQAAAAABAo+xAAAAAAICp7EAAAAAAAO7rQAAAAAAARu5AAAAAAIBk60AAAAAAgPHwQAAAAACAROhAAAAAAMC54kAAAAAAQEbvQFVVVVVVDuhAq6qqqqrf7EAAAAAAwDjrQAAAAAAA1OdAAAAAAIAZ60CrqqqqKknqQFVVVVVVRudAAAAAAAAO70AAAAAAgJzaQAAAAACAUepAAAAAAKCN7UAAAAAAAJHuQAAAAAAAathAJUmSJMkO60AAAAAAwPjkQAAAAAAAqepAAAAAAIBF7EAAAAAAADbgQAAAAACAMONAAAAAAADI6UBVVVVV1X7oQAAAAACAcd1AAAAAAEBL6kAAAAAAADjoQAAAAACAJu1AVVVVVZVa7UAAAAAAANXrQAAAAAAAruVAAAAAAABW40AAAAAAYJ7lQFVVVVUVnuhAVVVVVdXP50AAAAAA4LfnQKuqqqoqmOFAAAAAAICI5UAAAAAAAG/zQAAAAACABupAAAAAAMAp8UAAAAAAALzrQAAAAACAZOtAAAAAAAC860AAAAAAwLXrQAAAAABgpORAAAAAAGBU6UAAAAAAwDDkQAAAAADAoeZAAAAAACBV7ECrqqqqqhTwQAAAAACAZOtAAAAAAACX7UAAAAAAgC/pQAAAAABgrOtAAAAAAMAX9EAAAAAAIL7nQAAAAAAAcdtAAAAAAAC640AAAAAAAFLcQAAAAACAtOZAAAAAAAAl50AAAAAAwP7jQKuqqqoqVehAAAAAAOCL5kAAAAAAgOHrQAAAAABAOOlAAAAAAEB250AAAAAAQArwQKuqqqqqI+pAAAAAAGA65UAAAAAAQP7xQFVVVVVV3OdAAAAAAMAv8EAAAAAAgFTsQAAAAAAAMulAAAAAAADW70AlSZIkycLmQAAAAAAAb+NAVVVVVdUt6UAAAAAAgHDpQAAAAAAA9d5AAAAAAIDn6kAAAAAAwJzrQAAAAAAAq+hAAAAAAIA24kAAAAAAQB/pQKuqqqqq5OdAAAAAAIDz6EAAAAAAwF3pQAAAAACAoulAAAAAAABR6EAAAAAAgK7nQAAAAAAABPBAAAAAAABq2EAAAAAAwFLvQFVVVVVVQOhAVVVVVVVZ6EAAAAAAQG/kQAAAAADgNexAAAAAAID550Crqqqqqo3pQAAAAACAwORAAAAAACB66kBVVVVVVVPpQAAAAAAAC+NAq6qqqqqm6UAAAAAAgKzpQAAAAAAAUuxAAAAAAIDg50AAAAAAILLpQFVVVVVVl+ZAAAAAAIB960AlSZIkyS3qQAAAAACAxuNAAAAAAECh5EAAAAAAwBLpQAAAAADAOOtAAAAAAEAr50AAAAAAgBLoQAAAAAAAtehAAAAAAADS7kAAAAAAgIbnQAAAAAAAe/FAAAAAAEAs60A=",
          "dtype": "f8"
         },
         "yaxis": "y"
        },
        {
         "hovertemplate": "gender=Other<br>universityRanking=%{x}<br>startingSalary=%{y}<extra></extra>",
         "legendgroup": "Other",
         "marker": {
          "color": "#00cc96",
          "symbol": "circle"
         },
         "mode": "markers",
         "name": "Other",
         "showlegend": true,
         "type": "scattergl",
         "x": {
          "bdata": "BAAGAA0ADwAWABgAGQAeACQAKQAtADIAPQBGAEsATwBTAFUAWQBcAF4AXwBnAG8AcAB4AHwAjwCaAJsAnACgAK8AygDUANsA3wDhAOUA7ADuAPEA8wD4APkADAESASABIwElASkBLwFBAUcBTgFPAVABUwFXAVgBWQFdAV4BYQFmAW0BbgFyAXsBfwGJAY8BkgGaAawBvgHBAcMBxAHOAdAB1QHcAeAB5QHmAecB6AH6AQgCEgIWAhgCHQIeAiECIgInAikCLQIuAjECPAI+AkACSwJQAlECXQJeAmQCbAJtAm4CcQJyAngCfwKHApECogKlAq0CswK9AsECyQLMAtIC3ALdAuEC5QLoAvIC/wIIAxQDGQMeAyADLgM0AzwDRgNHA0gDSgNOA08DVgNiA2gDbwNwA3YDeAN8A38DggOEA4UDjQOQA6MDpAOpA6sDsAO6A8IDxwPIA8oDzAPNA9QD4APhAw==",
          "dtype": "i2"
         },
         "xaxis": "x",
         "y": {
          "bdata": "AAAAAAB74UAAAAAAgCrkQAAAAAAAB9xAAAAAAIA+6UAAAAAAgO7tQAAAAACAqPhAAAAAAACa4EAAAAAAwLPzQAAAAAAAjuJAAAAAAADB5kAAAAAAAHbmQAAAAADAXelAAAAAAIDG40AAAAAAQKjnQAAAAABAI/BAAAAAAECa8UAAAAAAAFnvQAAAAAAABOBAAAAAAIBQ5kAAAAAAAGrYQAAAAADApvFAAAAAAAD62UAAAAAAgJDsQAAAAAAAathAAAAAAABq2EAAAAAAgEXsQAAAAADAQvFAAAAAAAD44UAAAAAAAFjrQAAAAAAAQN9AAAAAAIAH7kAAAAAAgLXqQAAAAAAA8+ZAAAAAAIA28kAAAAAAgAbqQAAAAAAAl91AAAAAAIBV4UAAAAAAAA7fQAAAAAAAuuNAAAAAAABq2EAAAAAAgLztQAAAAAAAY+VAAAAAAECg8EAAAAAAAJXlQAAAAACAMutAAAAAAIC65UAAAAAAAPjhQAAAAACAguZAAAAAAAAE4EAAAAAAAPXuQAAAAACAo+1AAAAAAIC76UAAAAAAAHLfQAAAAAAA2+pAAAAAAIBR6kAAAAAAgPLkQAAAAAAAB9xAAAAAAIDa6EAAAAAAgI7kQAAAAACAEeRAAAAAAAAS5kAAAAAAAOzjQAAAAACA6+FAAAAAAID+4kAAAAAAAGnkQAAAAAAAFN5AAAAAAIAw80AAAAAAAEnhQAAAAAAAMeVAAAAAAIBb8EAAAAAAAInnQAAAAACAEuhAAAAAAABP8EAAAAAAgMHoQAAAAACA4OdAAAAAAABx20AAAAAAgAbqQAAAAAAA2+pAAAAAAIBX6UAAAAAAAK3hQAAAAAAAathAAAAAAACw7UAAAAAAwI3xQAAAAACAW/BAAAAAAADP3EAAAAAAgHboQAAAAAAAgvRAAAAAAAAx5UAAAAAAgDzxQAAAAADAxvRAAAAAAIC76UAAAAAAADHlQAAAAACAC+VAAAAAAADn6EAAAAAAAAvjQAAAAAAA3+FAAAAAAACd7EAAAAAAAPnlQAAAAAAAUehAAAAAAIC05kAAAAAAAM3kQAAAAAAAQO9AAAAAAADP7EAAAAAAAEPiQAAAAACARexAAAAAAIBk60AAAAAAAKnqQAAAAAAAGOVAAAAAAADG4UAAAAAAgOHrQAAAAACAI+FAAAAAAADz5kAAAAAAgCbtQAAAAABAI/BAAAAAAAAG6EAAAAAAAO/fQAAAAACAI+FAAAAAAIBV4UAAAAAAgHznQAAAAAAA0/NAAAAAAIBR6kAAAAAAADPtQAAAAAAAXtpAAAAAAIDg50AAAAAAAI7iQAAAAAAAlulAAAAAAAAw8UAAAAAAgM/uQAAAAACAK+hAAAAAAABq2EAAAAAAAEDfQAAAAAAA+OFAAAAAAACv6UAAAAAAgBjnQAAAAACADe1AAAAAAIBe7EAAAAAAgLrlQAAAAAAARu5AAAAAAECv6kAAAAAAANvqQAAAAACAkOxAAAAAAICH4UAAAAAAAETmQAAAAACAp+RAAAAAAADO6EAAAAAAAMntQAAAAAAAANlAAAAAAABL6UAAAAAAAHXyQAAAAACAM+9AAAAAAIDh60AAAAAAgG7xQAAAAAAA1u9AAAAAAACB8EAAAAAAgLztQAAAAAAAnexAAAAAAADV20AAAAAAAPvtQAAAAAAAqu5AAAAAAAAR8kAAAAAAgILmQAAAAAAAathAAAAAAIC58UAAAAAAAMflQAAAAACAGOdAAAAAAIA57kAAAAAAALzbQAAAAACAXehAAAAAAADn6EAAAAAAAMDiQAAAAACAfetAAAAAAICo6EAAAAAAgPPoQAAAAACA7u1AAAAAAAD77UAAAAAAgIHiQAAAAACA/+ZAAAAAAADh2UAAAAAAAOLtQA==",
          "dtype": "f8"
         },
         "yaxis": "y"
        }
       ],
       "layout": {
        "legend": {
         "title": {
          "text": "gender"
         },
         "tracegroupgap": 0
        },
        "template": {
         "data": {
          "bar": [
           {
            "error_x": {
             "color": "#2a3f5f"
            },
            "error_y": {
             "color": "#2a3f5f"
            },
            "marker": {
             "line": {
              "color": "#E5ECF6",
              "width": 0.5
             },
             "pattern": {
              "fillmode": "overlay",
              "size": 10,
              "solidity": 0.2
             }
            },
            "type": "bar"
           }
          ],
          "barpolar": [
           {
            "marker": {
             "line": {
              "color": "#E5ECF6",
              "width": 0.5
             },
             "pattern": {
              "fillmode": "overlay",
              "size": 10,
              "solidity": 0.2
             }
            },
            "type": "barpolar"
           }
          ],
          "carpet": [
           {
            "aaxis": {
             "endlinecolor": "#2a3f5f",
             "gridcolor": "white",
             "linecolor": "white",
             "minorgridcolor": "white",
             "startlinecolor": "#2a3f5f"
            },
            "baxis": {
             "endlinecolor": "#2a3f5f",
             "gridcolor": "white",
             "linecolor": "white",
             "minorgridcolor": "white",
             "startlinecolor": "#2a3f5f"
            },
            "type": "carpet"
           }
          ],
          "choropleth": [
           {
            "colorbar": {
             "outlinewidth": 0,
             "ticks": ""
            },
            "type": "choropleth"
           }
          ],
          "contour": [
           {
            "colorbar": {
             "outlinewidth": 0,
             "ticks": ""
            },
            "colorscale": [
             [
              0,
              "#0d0887"
             ],
             [
              0.1111111111111111,
              "#46039f"
             ],
             [
              0.2222222222222222,
              "#7201a8"
             ],
             [
              0.3333333333333333,
              "#9c179e"
             ],
             [
              0.4444444444444444,
              "#bd3786"
             ],
             [
              0.5555555555555556,
              "#d8576b"
             ],
             [
              0.6666666666666666,
              "#ed7953"
             ],
             [
              0.7777777777777778,
              "#fb9f3a"
             ],
             [
              0.8888888888888888,
              "#fdca26"
             ],
             [
              1,
              "#f0f921"
             ]
            ],
            "type": "contour"
           }
          ],
          "contourcarpet": [
           {
            "colorbar": {
             "outlinewidth": 0,
             "ticks": ""
            },
            "type": "contourcarpet"
           }
          ],
          "heatmap": [
           {
            "colorbar": {
             "outlinewidth": 0,
             "ticks": ""
            },
            "colorscale": [
             [
              0,
              "#0d0887"
             ],
             [
              0.1111111111111111,
              "#46039f"
             ],
             [
              0.2222222222222222,
              "#7201a8"
             ],
             [
              0.3333333333333333,
              "#9c179e"
             ],
             [
              0.4444444444444444,
              "#bd3786"
             ],
             [
              0.5555555555555556,
              "#d8576b"
             ],
             [
              0.6666666666666666,
              "#ed7953"
             ],
             [
              0.7777777777777778,
              "#fb9f3a"
             ],
             [
              0.8888888888888888,
              "#fdca26"
             ],
             [
              1,
              "#f0f921"
             ]
            ],
            "type": "heatmap"
           }
          ],
          "histogram": [
           {
            "marker": {
             "pattern": {
              "fillmode": "overlay",
              "size": 10,
              "solidity": 0.2
             }
            },
            "type": "histogram"
           }
          ],
          "histogram2d": [
           {
            "colorbar": {
             "outlinewidth": 0,
             "ticks": ""
            },
            "colorscale": [
             [
              0,
              "#0d0887"
             ],
             [
              0.1111111111111111,
              "#46039f"
             ],
             [
              0.2222222222222222,
              "#7201a8"
             ],
             [
              0.3333333333333333,
              "#9c179e"
             ],
             [
              0.4444444444444444,
              "#bd3786"
             ],
             [
              0.5555555555555556,
              "#d8576b"
             ],
             [
              0.6666666666666666,
              "#ed7953"
             ],
             [
              0.7777777777777778,
              "#fb9f3a"
             ],
             [
              0.8888888888888888,
              "#fdca26"
             ],
             [
              1,
              "#f0f921"
             ]
            ],
            "type": "histogram2d"
           }
          ],
          "histogram2dcontour": [
           {
            "colorbar": {
             "outlinewidth": 0,
             "ticks": ""
            },
            "colorscale": [
             [
              0,
              "#0d0887"
             ],
             [
              0.1111111111111111,
              "#46039f"
             ],
             [
              0.2222222222222222,
              "#7201a8"
             ],
             [
              0.3333333333333333,
              "#9c179e"
             ],
             [
              0.4444444444444444,
              "#bd3786"
             ],
             [
              0.5555555555555556,
              "#d8576b"
             ],
             [
              0.6666666666666666,
              "#ed7953"
             ],
             [
              0.7777777777777778,
              "#fb9f3a"
             ],
             [
              0.8888888888888888,
              "#fdca26"
             ],
             [
              1,
              "#f0f921"
             ]
            ],
            "type": "histogram2dcontour"
           }
          ],
          "mesh3d": [
           {
            "colorbar": {
             "outlinewidth": 0,
             "ticks": ""
            },
            "type": "mesh3d"
           }
          ],
          "parcoords": [
           {
            "line": {
             "colorbar": {
              "outlinewidth": 0,
              "ticks": ""
             }
            },
            "type": "parcoords"
           }
          ],
          "pie": [
           {
            "automargin": true,
            "type": "pie"
           }
          ],
          "scatter": [
           {
            "fillpattern": {
             "fillmode": "overlay",
             "size": 10,
             "solidity": 0.2
            },
            "type": "scatter"
           }
          ],
          "scatter3d": [
           {
            "line": {
             "colorbar": {
              "outlinewidth": 0,
              "ticks": ""
             }
            },
            "marker": {
             "colorbar": {
              "outlinewidth": 0,
              "ticks": ""
             }
            },
            "type": "scatter3d"
           }
          ],
          "scattercarpet": [
           {
            "marker": {
             "colorbar": {
              "outlinewidth": 0,
              "ticks": ""
             }
            },
            "type": "scattercarpet"
           }
          ],
          "scattergeo": [
           {
            "marker": {
             "colorbar": {
              "outlinewidth": 0,
              "ticks": ""
             }
            },
            "type": "scattergeo"
           }
          ],
          "scattergl": [
           {
            "marker": {
             "colorbar": {
              "outlinewidth": 0,
              "ticks": ""
             }
            },
            "type": "scattergl"
           }
          ],
          "scattermap": [
           {
            "marker": {
             "colorbar": {
              "outlinewidth": 0,
              "ticks": ""
             }
            },
            "type": "scattermap"
           }
          ],
          "scattermapbox": [
           {
            "marker": {
             "colorbar": {
              "outlinewidth": 0,
              "ticks": ""
             }
            },
            "type": "scattermapbox"
           }
          ],
          "scatterpolar": [
           {
            "marker": {
             "colorbar": {
              "outlinewidth": 0,
              "ticks": ""
             }
            },
            "type": "scatterpolar"
           }
          ],
          "scatterpolargl": [
           {
            "marker": {
             "colorbar": {
              "outlinewidth": 0,
              "ticks": ""
             }
            },
            "type": "scatterpolargl"
           }
          ],
          "scatterternary": [
           {
            "marker": {
             "colorbar": {
              "outlinewidth": 0,
              "ticks": ""
             }
            },
            "type": "scatterternary"
           }
          ],
          "surface": [
           {
            "colorbar": {
             "outlinewidth": 0,
             "ticks": ""
            },
            "colorscale": [
             [
              0,
              "#0d0887"
             ],
             [
              0.1111111111111111,
              "#46039f"
             ],
             [
              0.2222222222222222,
              "#7201a8"
             ],
             [
              0.3333333333333333,
              "#9c179e"
             ],
             [
              0.4444444444444444,
              "#bd3786"
             ],
             [
              0.5555555555555556,
              "#d8576b"
             ],
             [
              0.6666666666666666,
              "#ed7953"
             ],
             [
              0.7777777777777778,
              "#fb9f3a"
             ],
             [
              0.8888888888888888,
              "#fdca26"
             ],
             [
              1,
              "#f0f921"
             ]
            ],
            "type": "surface"
           }
          ],
          "table": [
           {
            "cells": {
             "fill": {
              "color": "#EBF0F8"
             },
             "line": {
              "color": "white"
             }
            },
            "header": {
             "fill": {
              "color": "#C8D4E3"
             },
             "line": {
              "color": "white"
             }
            },
            "type": "table"
           }
          ]
         },
         "layout": {
          "annotationdefaults": {
           "arrowcolor": "#2a3f5f",
           "arrowhead": 0,
           "arrowwidth": 1
          },
          "autotypenumbers": "strict",
          "coloraxis": {
           "colorbar": {
            "outlinewidth": 0,
            "ticks": ""
           }
          },
          "colorscale": {
           "diverging": [
            [
             0,
             "#8e0152"
            ],
            [
             0.1,
             "#c51b7d"
            ],
            [
             0.2,
             "#de77ae"
            ],
            [
             0.3,
             "#f1b6da"
            ],
            [
             0.4,
             "#fde0ef"
            ],
            [
             0.5,
             "#f7f7f7"
            ],
            [
             0.6,
             "#e6f5d0"
            ],
            [
             0.7,
             "#b8e186"
            ],
            [
             0.8,
             "#7fbc41"
            ],
            [
             0.9,
             "#4d9221"
            ],
            [
             1,
             "#276419"
            ]
           ],
           "sequential": [
            [
             0,
             "#0d0887"
            ],
            [
             0.1111111111111111,
             "#46039f"
            ],
            [
             0.2222222222222222,
             "#7201a8"
            ],
            [
             0.3333333333333333,
             "#9c179e"
            ],
            [
             0.4444444444444444,
             "#bd3786"
            ],
            [
             0.5555555555555556,
             "#d8576b"
            ],
            [
             0.6666666666666666,
             "#ed7953"
            ],
            [
             0.7777777777777778,
             "#fb9f3a"
            ],
            [
             0.8888888888888888,
             "#fdca26"
            ],
            [
             1,
             "#f0f921"
            ]
           ],
           "sequentialminus": [
            [
             0,
             "#0d0887"
            ],
            [
             0.1111111111111111,
             "#46039f"
            ],
            [
             0.2222222222222222,
             "#7201a8"
            ],
            [
             0.3333333333333333,
             "#9c179e"
            ],
            [
             0.4444444444444444,
             "#bd3786"
            ],
            [
             0.5555555555555556,
             "#d8576b"
            ],
            [
             0.6666666666666666,
             "#ed7953"
            ],
            [
             0.7777777777777778,
             "#fb9f3a"
            ],
            [
             0.8888888888888888,
             "#fdca26"
            ],
            [
             1,
             "#f0f921"
            ]
           ]
          },
          "colorway": [
           "#636efa",
           "#EF553B",
           "#00cc96",
           "#ab63fa",
           "#FFA15A",
           "#19d3f3",
           "#FF6692",
           "#B6E880",
           "#FF97FF",
           "#FECB52"
          ],
          "font": {
           "color": "#2a3f5f"
          },
          "geo": {
           "bgcolor": "white",
           "lakecolor": "white",
           "landcolor": "#E5ECF6",
           "showlakes": true,
           "showland": true,
           "subunitcolor": "white"
          },
          "hoverlabel": {
           "align": "left"
          },
          "hovermode": "closest",
          "mapbox": {
           "style": "light"
          },
          "paper_bgcolor": "white",
          "plot_bgcolor": "#E5ECF6",
          "polar": {
           "angularaxis": {
            "gridcolor": "white",
            "linecolor": "white",
            "ticks": ""
           },
           "bgcolor": "#E5ECF6",
           "radialaxis": {
            "gridcolor": "white",
            "linecolor": "white",
            "ticks": ""
           }
          },
          "scene": {
           "xaxis": {
            "backgroundcolor": "#E5ECF6",
            "gridcolor": "white",
            "gridwidth": 2,
            "linecolor": "white",
            "showbackground": true,
            "ticks": "",
            "zerolinecolor": "white"
           },
           "yaxis": {
            "backgroundcolor": "#E5ECF6",
            "gridcolor": "white",
            "gridwidth": 2,
            "linecolor": "white",
            "showbackground": true,
            "ticks": "",
            "zerolinecolor": "white"
           },
           "zaxis": {
            "backgroundcolor": "#E5ECF6",
            "gridcolor": "white",
            "gridwidth": 2,
            "linecolor": "white",
            "showbackground": true,
            "ticks": "",
            "zerolinecolor": "white"
           }
          },
          "shapedefaults": {
           "line": {
            "color": "#2a3f5f"
           }
          },
          "ternary": {
           "aaxis": {
            "gridcolor": "white",
            "linecolor": "white",
            "ticks": ""
           },
           "baxis": {
            "gridcolor": "white",
            "linecolor": "white",
            "ticks": ""
           },
           "bgcolor": "#E5ECF6",
           "caxis": {
            "gridcolor": "white",
            "linecolor": "white",
            "ticks": ""
           }
          },
          "title": {
           "x": 0.05
          },
          "xaxis": {
           "automargin": true,
           "gridcolor": "white",
           "linecolor": "white",
           "ticks": "",
           "title": {
            "standoff": 15
           },
           "zerolinecolor": "white",
           "zerolinewidth": 2
          },
          "yaxis": {
           "automargin": true,
           "gridcolor": "white",
           "linecolor": "white",
           "ticks": "",
           "title": {
            "standoff": 15
           },
           "zerolinecolor": "white",
           "zerolinewidth": 2
          }
         }
        },
        "title": {
         "text": "Average Starting Salary by Gender and University Ranking"
        },
        "xaxis": {
         "anchor": "y",
         "domain": [
          0,
          1
         ],
         "title": {
          "text": "universityRanking"
         }
        },
        "yaxis": {
         "anchor": "x",
         "domain": [
          0,
          1
         ],
         "title": {
          "text": "startingSalary"
         }
        }
       }
      }
     },
     "metadata": {},
     "output_type": "display_data"
    }
   ],
   "source": [
    "avg_salary_by_gender_ranking = df_query.groupby([\"gender\", \"universityRanking\"])[\"startingSalary\"].mean().reset_index()\n",
    "fig = px.scatter(avg_salary_by_gender_ranking, x='universityRanking', y='startingSalary', color='gender', title='Average Starting Salary by Gender and University Ranking')\n",
    "fig.show()"
   ]
  },
  {
   "cell_type": "code",
   "execution_count": 120,
   "metadata": {},
   "outputs": [],
   "source": [
    "query_salary_and_count_by_gender_field = \"\"\"\n",
    "SELECT DISTINCT gender, fieldOfStudyNoun, AVG(startingSalary) as avg_startingSalary, COUNT(Student.studentId) as student_count\n",
    "FROM StudentJobs\n",
    "JOIN Student ON StudentJobs.studentId = Student.studentId\n",
    "JOIN StudentAchievementUni ON Student.studentId = StudentAchievementUni.studentId\n",
    "JOIN FieldOfStudy ON StudentAchievementUni.fieldOfStudyId = FieldOfStudy.fieldOfStudyId\n",
    "GROUP BY gender, fieldOfStudyNoun\n",
    "ORDER BY FieldOfStudyNoun DESC;\n",
    "\"\"\""
   ]
  },
  {
   "cell_type": "code",
   "execution_count": 121,
   "metadata": {},
   "outputs": [
    {
     "data": {
      "text/html": [
       "<div>\n",
       "<style scoped>\n",
       "    .dataframe tbody tr th:only-of-type {\n",
       "        vertical-align: middle;\n",
       "    }\n",
       "\n",
       "    .dataframe tbody tr th {\n",
       "        vertical-align: top;\n",
       "    }\n",
       "\n",
       "    .dataframe thead th {\n",
       "        text-align: right;\n",
       "    }\n",
       "</style>\n",
       "<table border=\"1\" class=\"dataframe\">\n",
       "  <thead>\n",
       "    <tr style=\"text-align: right;\">\n",
       "      <th></th>\n",
       "      <th>gender</th>\n",
       "      <th>fieldOfStudyNoun</th>\n",
       "      <th>avg_startingSalary</th>\n",
       "      <th>student_count</th>\n",
       "    </tr>\n",
       "  </thead>\n",
       "  <tbody>\n",
       "    <tr>\n",
       "      <th>0</th>\n",
       "      <td>Female</td>\n",
       "      <td>Medicine</td>\n",
       "      <td>50679.183032</td>\n",
       "      <td>1273</td>\n",
       "    </tr>\n",
       "    <tr>\n",
       "      <th>1</th>\n",
       "      <td>Male</td>\n",
       "      <td>Medicine</td>\n",
       "      <td>49879.585799</td>\n",
       "      <td>1352</td>\n",
       "    </tr>\n",
       "    <tr>\n",
       "      <th>2</th>\n",
       "      <td>Other</td>\n",
       "      <td>Medicine</td>\n",
       "      <td>46384.761905</td>\n",
       "      <td>105</td>\n",
       "    </tr>\n",
       "    <tr>\n",
       "      <th>3</th>\n",
       "      <td>Female</td>\n",
       "      <td>Mathematics</td>\n",
       "      <td>50754.446855</td>\n",
       "      <td>1383</td>\n",
       "    </tr>\n",
       "    <tr>\n",
       "      <th>4</th>\n",
       "      <td>Male</td>\n",
       "      <td>Mathematics</td>\n",
       "      <td>51319.212163</td>\n",
       "      <td>1447</td>\n",
       "    </tr>\n",
       "    <tr>\n",
       "      <th>5</th>\n",
       "      <td>Other</td>\n",
       "      <td>Mathematics</td>\n",
       "      <td>48783.870968</td>\n",
       "      <td>124</td>\n",
       "    </tr>\n",
       "    <tr>\n",
       "      <th>6</th>\n",
       "      <td>Female</td>\n",
       "      <td>Law</td>\n",
       "      <td>50401.407460</td>\n",
       "      <td>1421</td>\n",
       "    </tr>\n",
       "    <tr>\n",
       "      <th>7</th>\n",
       "      <td>Male</td>\n",
       "      <td>Law</td>\n",
       "      <td>50184.187082</td>\n",
       "      <td>1347</td>\n",
       "    </tr>\n",
       "    <tr>\n",
       "      <th>8</th>\n",
       "      <td>Other</td>\n",
       "      <td>Law</td>\n",
       "      <td>45961.538462</td>\n",
       "      <td>104</td>\n",
       "    </tr>\n",
       "    <tr>\n",
       "      <th>9</th>\n",
       "      <td>Female</td>\n",
       "      <td>Engineering</td>\n",
       "      <td>50173.750000</td>\n",
       "      <td>1280</td>\n",
       "    </tr>\n",
       "    <tr>\n",
       "      <th>10</th>\n",
       "      <td>Male</td>\n",
       "      <td>Engineering</td>\n",
       "      <td>50615.067520</td>\n",
       "      <td>1407</td>\n",
       "    </tr>\n",
       "    <tr>\n",
       "      <th>11</th>\n",
       "      <td>Other</td>\n",
       "      <td>Engineering</td>\n",
       "      <td>51446.153846</td>\n",
       "      <td>104</td>\n",
       "    </tr>\n",
       "    <tr>\n",
       "      <th>12</th>\n",
       "      <td>Female</td>\n",
       "      <td>Computer Science</td>\n",
       "      <td>51623.102310</td>\n",
       "      <td>1212</td>\n",
       "    </tr>\n",
       "    <tr>\n",
       "      <th>13</th>\n",
       "      <td>Male</td>\n",
       "      <td>Computer Science</td>\n",
       "      <td>50465.506329</td>\n",
       "      <td>1264</td>\n",
       "    </tr>\n",
       "    <tr>\n",
       "      <th>14</th>\n",
       "      <td>Other</td>\n",
       "      <td>Computer Science</td>\n",
       "      <td>49103.030303</td>\n",
       "      <td>132</td>\n",
       "    </tr>\n",
       "    <tr>\n",
       "      <th>15</th>\n",
       "      <td>Female</td>\n",
       "      <td>Business</td>\n",
       "      <td>49813.107170</td>\n",
       "      <td>1297</td>\n",
       "    </tr>\n",
       "    <tr>\n",
       "      <th>16</th>\n",
       "      <td>Male</td>\n",
       "      <td>Business</td>\n",
       "      <td>50558.292852</td>\n",
       "      <td>1441</td>\n",
       "    </tr>\n",
       "    <tr>\n",
       "      <th>17</th>\n",
       "      <td>Other</td>\n",
       "      <td>Business</td>\n",
       "      <td>51896.000000</td>\n",
       "      <td>100</td>\n",
       "    </tr>\n",
       "    <tr>\n",
       "      <th>18</th>\n",
       "      <td>Female</td>\n",
       "      <td>Arts</td>\n",
       "      <td>50697.359029</td>\n",
       "      <td>1401</td>\n",
       "    </tr>\n",
       "    <tr>\n",
       "      <th>19</th>\n",
       "      <td>Male</td>\n",
       "      <td>Arts</td>\n",
       "      <td>52152.153110</td>\n",
       "      <td>1463</td>\n",
       "    </tr>\n",
       "    <tr>\n",
       "      <th>20</th>\n",
       "      <td>Other</td>\n",
       "      <td>Arts</td>\n",
       "      <td>54145.454545</td>\n",
       "      <td>88</td>\n",
       "    </tr>\n",
       "  </tbody>\n",
       "</table>\n",
       "</div>"
      ],
      "text/plain": [
       "    gender  fieldOfStudyNoun  avg_startingSalary  student_count\n",
       "0   Female          Medicine        50679.183032           1273\n",
       "1     Male          Medicine        49879.585799           1352\n",
       "2    Other          Medicine        46384.761905            105\n",
       "3   Female       Mathematics        50754.446855           1383\n",
       "4     Male       Mathematics        51319.212163           1447\n",
       "5    Other       Mathematics        48783.870968            124\n",
       "6   Female               Law        50401.407460           1421\n",
       "7     Male               Law        50184.187082           1347\n",
       "8    Other               Law        45961.538462            104\n",
       "9   Female       Engineering        50173.750000           1280\n",
       "10    Male       Engineering        50615.067520           1407\n",
       "11   Other       Engineering        51446.153846            104\n",
       "12  Female  Computer Science        51623.102310           1212\n",
       "13    Male  Computer Science        50465.506329           1264\n",
       "14   Other  Computer Science        49103.030303            132\n",
       "15  Female          Business        49813.107170           1297\n",
       "16    Male          Business        50558.292852           1441\n",
       "17   Other          Business        51896.000000            100\n",
       "18  Female              Arts        50697.359029           1401\n",
       "19    Male              Arts        52152.153110           1463\n",
       "20   Other              Arts        54145.454545             88"
      ]
     },
     "execution_count": 121,
     "metadata": {},
     "output_type": "execute_result"
    }
   ],
   "source": [
    "df_salary_gender_field=read_table_pandas(database_name=\"education_career_success.db\", query = query_salary_and_count_by_gender_field)\n",
    "df_salary_gender_field"
   ]
  },
  {
   "cell_type": "code",
   "execution_count": 122,
   "metadata": {},
   "outputs": [
    {
     "data": {
      "application/vnd.plotly.v1+json": {
       "config": {
        "plotlyServerURL": "https://plot.ly"
       },
       "data": [
        {
         "hovertemplate": "gender=Female<br>fieldOfStudyNoun=%{x}<br>avg_startingSalary=%{y}<extra></extra>",
         "legendgroup": "Female",
         "marker": {
          "color": "#636efa",
          "symbol": "circle"
         },
         "mode": "markers",
         "name": "Female",
         "orientation": "v",
         "showlegend": true,
         "type": "scatter",
         "x": [
          "Medicine",
          "Mathematics",
          "Law",
          "Engineering",
          "Computer Science",
          "Business",
          "Arts"
         ],
         "xaxis": "x",
         "y": {
          "bdata": "G1xm2+W+6EDfJqJMTsjoQHOU6AktnOhAAAAAALh/6EAJGyBG4zTpQL+a8G2jUuhA1fAqfSvB6EA=",
          "dtype": "f8"
         },
         "yaxis": "y"
        },
        {
         "hovertemplate": "gender=Male<br>fieldOfStudyNoun=%{x}<br>avg_startingSalary=%{y}<extra></extra>",
         "legendgroup": "Male",
         "marker": {
          "color": "#EF553B",
          "symbol": "circle"
         },
         "mode": "markers",
         "name": "Male",
         "orientation": "v",
         "showlegend": true,
         "type": "scatter",
         "x": [
          "Medicine",
          "Mathematics",
          "Law",
          "Engineering",
          "Computer Science",
          "Business",
          "Arts"
         ],
         "xaxis": "x",
         "y": {
          "bdata": "5ijdvvJa6EDgQgrK5g7pQJQ9lPwFgehAxr8eKeK26EAqHdkzMKToQCuMC1/Jr+hABgtH5gR36UA=",
          "dtype": "f8"
         },
         "yaxis": "y"
        },
        {
         "hovertemplate": "gender=Other<br>fieldOfStudyNoun=%{x}<br>avg_startingSalary=%{y}<extra></extra>",
         "legendgroup": "Other",
         "marker": {
          "color": "#00cc96",
          "symbol": "circle"
         },
         "mode": "markers",
         "name": "Other",
         "orientation": "v",
         "showlegend": true,
         "type": "scatter",
         "x": [
          "Medicine",
          "Mathematics",
          "Law",
          "Engineering",
          "Computer Science",
          "Business",
          "Arts"
         ],
         "xaxis": "x",
         "y": {
          "bdata": "YhiGYRim5kDvvffe+9HnQDuxEzsxceZA7MRO7MQe6UCEDz744PnnQAAAAAAAV+lAuuiiiy5w6kA=",
          "dtype": "f8"
         },
         "yaxis": "y"
        }
       ],
       "layout": {
        "legend": {
         "title": {
          "text": "gender"
         },
         "tracegroupgap": 0
        },
        "template": {
         "data": {
          "bar": [
           {
            "error_x": {
             "color": "#2a3f5f"
            },
            "error_y": {
             "color": "#2a3f5f"
            },
            "marker": {
             "line": {
              "color": "#E5ECF6",
              "width": 0.5
             },
             "pattern": {
              "fillmode": "overlay",
              "size": 10,
              "solidity": 0.2
             }
            },
            "type": "bar"
           }
          ],
          "barpolar": [
           {
            "marker": {
             "line": {
              "color": "#E5ECF6",
              "width": 0.5
             },
             "pattern": {
              "fillmode": "overlay",
              "size": 10,
              "solidity": 0.2
             }
            },
            "type": "barpolar"
           }
          ],
          "carpet": [
           {
            "aaxis": {
             "endlinecolor": "#2a3f5f",
             "gridcolor": "white",
             "linecolor": "white",
             "minorgridcolor": "white",
             "startlinecolor": "#2a3f5f"
            },
            "baxis": {
             "endlinecolor": "#2a3f5f",
             "gridcolor": "white",
             "linecolor": "white",
             "minorgridcolor": "white",
             "startlinecolor": "#2a3f5f"
            },
            "type": "carpet"
           }
          ],
          "choropleth": [
           {
            "colorbar": {
             "outlinewidth": 0,
             "ticks": ""
            },
            "type": "choropleth"
           }
          ],
          "contour": [
           {
            "colorbar": {
             "outlinewidth": 0,
             "ticks": ""
            },
            "colorscale": [
             [
              0,
              "#0d0887"
             ],
             [
              0.1111111111111111,
              "#46039f"
             ],
             [
              0.2222222222222222,
              "#7201a8"
             ],
             [
              0.3333333333333333,
              "#9c179e"
             ],
             [
              0.4444444444444444,
              "#bd3786"
             ],
             [
              0.5555555555555556,
              "#d8576b"
             ],
             [
              0.6666666666666666,
              "#ed7953"
             ],
             [
              0.7777777777777778,
              "#fb9f3a"
             ],
             [
              0.8888888888888888,
              "#fdca26"
             ],
             [
              1,
              "#f0f921"
             ]
            ],
            "type": "contour"
           }
          ],
          "contourcarpet": [
           {
            "colorbar": {
             "outlinewidth": 0,
             "ticks": ""
            },
            "type": "contourcarpet"
           }
          ],
          "heatmap": [
           {
            "colorbar": {
             "outlinewidth": 0,
             "ticks": ""
            },
            "colorscale": [
             [
              0,
              "#0d0887"
             ],
             [
              0.1111111111111111,
              "#46039f"
             ],
             [
              0.2222222222222222,
              "#7201a8"
             ],
             [
              0.3333333333333333,
              "#9c179e"
             ],
             [
              0.4444444444444444,
              "#bd3786"
             ],
             [
              0.5555555555555556,
              "#d8576b"
             ],
             [
              0.6666666666666666,
              "#ed7953"
             ],
             [
              0.7777777777777778,
              "#fb9f3a"
             ],
             [
              0.8888888888888888,
              "#fdca26"
             ],
             [
              1,
              "#f0f921"
             ]
            ],
            "type": "heatmap"
           }
          ],
          "histogram": [
           {
            "marker": {
             "pattern": {
              "fillmode": "overlay",
              "size": 10,
              "solidity": 0.2
             }
            },
            "type": "histogram"
           }
          ],
          "histogram2d": [
           {
            "colorbar": {
             "outlinewidth": 0,
             "ticks": ""
            },
            "colorscale": [
             [
              0,
              "#0d0887"
             ],
             [
              0.1111111111111111,
              "#46039f"
             ],
             [
              0.2222222222222222,
              "#7201a8"
             ],
             [
              0.3333333333333333,
              "#9c179e"
             ],
             [
              0.4444444444444444,
              "#bd3786"
             ],
             [
              0.5555555555555556,
              "#d8576b"
             ],
             [
              0.6666666666666666,
              "#ed7953"
             ],
             [
              0.7777777777777778,
              "#fb9f3a"
             ],
             [
              0.8888888888888888,
              "#fdca26"
             ],
             [
              1,
              "#f0f921"
             ]
            ],
            "type": "histogram2d"
           }
          ],
          "histogram2dcontour": [
           {
            "colorbar": {
             "outlinewidth": 0,
             "ticks": ""
            },
            "colorscale": [
             [
              0,
              "#0d0887"
             ],
             [
              0.1111111111111111,
              "#46039f"
             ],
             [
              0.2222222222222222,
              "#7201a8"
             ],
             [
              0.3333333333333333,
              "#9c179e"
             ],
             [
              0.4444444444444444,
              "#bd3786"
             ],
             [
              0.5555555555555556,
              "#d8576b"
             ],
             [
              0.6666666666666666,
              "#ed7953"
             ],
             [
              0.7777777777777778,
              "#fb9f3a"
             ],
             [
              0.8888888888888888,
              "#fdca26"
             ],
             [
              1,
              "#f0f921"
             ]
            ],
            "type": "histogram2dcontour"
           }
          ],
          "mesh3d": [
           {
            "colorbar": {
             "outlinewidth": 0,
             "ticks": ""
            },
            "type": "mesh3d"
           }
          ],
          "parcoords": [
           {
            "line": {
             "colorbar": {
              "outlinewidth": 0,
              "ticks": ""
             }
            },
            "type": "parcoords"
           }
          ],
          "pie": [
           {
            "automargin": true,
            "type": "pie"
           }
          ],
          "scatter": [
           {
            "fillpattern": {
             "fillmode": "overlay",
             "size": 10,
             "solidity": 0.2
            },
            "type": "scatter"
           }
          ],
          "scatter3d": [
           {
            "line": {
             "colorbar": {
              "outlinewidth": 0,
              "ticks": ""
             }
            },
            "marker": {
             "colorbar": {
              "outlinewidth": 0,
              "ticks": ""
             }
            },
            "type": "scatter3d"
           }
          ],
          "scattercarpet": [
           {
            "marker": {
             "colorbar": {
              "outlinewidth": 0,
              "ticks": ""
             }
            },
            "type": "scattercarpet"
           }
          ],
          "scattergeo": [
           {
            "marker": {
             "colorbar": {
              "outlinewidth": 0,
              "ticks": ""
             }
            },
            "type": "scattergeo"
           }
          ],
          "scattergl": [
           {
            "marker": {
             "colorbar": {
              "outlinewidth": 0,
              "ticks": ""
             }
            },
            "type": "scattergl"
           }
          ],
          "scattermap": [
           {
            "marker": {
             "colorbar": {
              "outlinewidth": 0,
              "ticks": ""
             }
            },
            "type": "scattermap"
           }
          ],
          "scattermapbox": [
           {
            "marker": {
             "colorbar": {
              "outlinewidth": 0,
              "ticks": ""
             }
            },
            "type": "scattermapbox"
           }
          ],
          "scatterpolar": [
           {
            "marker": {
             "colorbar": {
              "outlinewidth": 0,
              "ticks": ""
             }
            },
            "type": "scatterpolar"
           }
          ],
          "scatterpolargl": [
           {
            "marker": {
             "colorbar": {
              "outlinewidth": 0,
              "ticks": ""
             }
            },
            "type": "scatterpolargl"
           }
          ],
          "scatterternary": [
           {
            "marker": {
             "colorbar": {
              "outlinewidth": 0,
              "ticks": ""
             }
            },
            "type": "scatterternary"
           }
          ],
          "surface": [
           {
            "colorbar": {
             "outlinewidth": 0,
             "ticks": ""
            },
            "colorscale": [
             [
              0,
              "#0d0887"
             ],
             [
              0.1111111111111111,
              "#46039f"
             ],
             [
              0.2222222222222222,
              "#7201a8"
             ],
             [
              0.3333333333333333,
              "#9c179e"
             ],
             [
              0.4444444444444444,
              "#bd3786"
             ],
             [
              0.5555555555555556,
              "#d8576b"
             ],
             [
              0.6666666666666666,
              "#ed7953"
             ],
             [
              0.7777777777777778,
              "#fb9f3a"
             ],
             [
              0.8888888888888888,
              "#fdca26"
             ],
             [
              1,
              "#f0f921"
             ]
            ],
            "type": "surface"
           }
          ],
          "table": [
           {
            "cells": {
             "fill": {
              "color": "#EBF0F8"
             },
             "line": {
              "color": "white"
             }
            },
            "header": {
             "fill": {
              "color": "#C8D4E3"
             },
             "line": {
              "color": "white"
             }
            },
            "type": "table"
           }
          ]
         },
         "layout": {
          "annotationdefaults": {
           "arrowcolor": "#2a3f5f",
           "arrowhead": 0,
           "arrowwidth": 1
          },
          "autotypenumbers": "strict",
          "coloraxis": {
           "colorbar": {
            "outlinewidth": 0,
            "ticks": ""
           }
          },
          "colorscale": {
           "diverging": [
            [
             0,
             "#8e0152"
            ],
            [
             0.1,
             "#c51b7d"
            ],
            [
             0.2,
             "#de77ae"
            ],
            [
             0.3,
             "#f1b6da"
            ],
            [
             0.4,
             "#fde0ef"
            ],
            [
             0.5,
             "#f7f7f7"
            ],
            [
             0.6,
             "#e6f5d0"
            ],
            [
             0.7,
             "#b8e186"
            ],
            [
             0.8,
             "#7fbc41"
            ],
            [
             0.9,
             "#4d9221"
            ],
            [
             1,
             "#276419"
            ]
           ],
           "sequential": [
            [
             0,
             "#0d0887"
            ],
            [
             0.1111111111111111,
             "#46039f"
            ],
            [
             0.2222222222222222,
             "#7201a8"
            ],
            [
             0.3333333333333333,
             "#9c179e"
            ],
            [
             0.4444444444444444,
             "#bd3786"
            ],
            [
             0.5555555555555556,
             "#d8576b"
            ],
            [
             0.6666666666666666,
             "#ed7953"
            ],
            [
             0.7777777777777778,
             "#fb9f3a"
            ],
            [
             0.8888888888888888,
             "#fdca26"
            ],
            [
             1,
             "#f0f921"
            ]
           ],
           "sequentialminus": [
            [
             0,
             "#0d0887"
            ],
            [
             0.1111111111111111,
             "#46039f"
            ],
            [
             0.2222222222222222,
             "#7201a8"
            ],
            [
             0.3333333333333333,
             "#9c179e"
            ],
            [
             0.4444444444444444,
             "#bd3786"
            ],
            [
             0.5555555555555556,
             "#d8576b"
            ],
            [
             0.6666666666666666,
             "#ed7953"
            ],
            [
             0.7777777777777778,
             "#fb9f3a"
            ],
            [
             0.8888888888888888,
             "#fdca26"
            ],
            [
             1,
             "#f0f921"
            ]
           ]
          },
          "colorway": [
           "#636efa",
           "#EF553B",
           "#00cc96",
           "#ab63fa",
           "#FFA15A",
           "#19d3f3",
           "#FF6692",
           "#B6E880",
           "#FF97FF",
           "#FECB52"
          ],
          "font": {
           "color": "#2a3f5f"
          },
          "geo": {
           "bgcolor": "white",
           "lakecolor": "white",
           "landcolor": "#E5ECF6",
           "showlakes": true,
           "showland": true,
           "subunitcolor": "white"
          },
          "hoverlabel": {
           "align": "left"
          },
          "hovermode": "closest",
          "mapbox": {
           "style": "light"
          },
          "paper_bgcolor": "white",
          "plot_bgcolor": "#E5ECF6",
          "polar": {
           "angularaxis": {
            "gridcolor": "white",
            "linecolor": "white",
            "ticks": ""
           },
           "bgcolor": "#E5ECF6",
           "radialaxis": {
            "gridcolor": "white",
            "linecolor": "white",
            "ticks": ""
           }
          },
          "scene": {
           "xaxis": {
            "backgroundcolor": "#E5ECF6",
            "gridcolor": "white",
            "gridwidth": 2,
            "linecolor": "white",
            "showbackground": true,
            "ticks": "",
            "zerolinecolor": "white"
           },
           "yaxis": {
            "backgroundcolor": "#E5ECF6",
            "gridcolor": "white",
            "gridwidth": 2,
            "linecolor": "white",
            "showbackground": true,
            "ticks": "",
            "zerolinecolor": "white"
           },
           "zaxis": {
            "backgroundcolor": "#E5ECF6",
            "gridcolor": "white",
            "gridwidth": 2,
            "linecolor": "white",
            "showbackground": true,
            "ticks": "",
            "zerolinecolor": "white"
           }
          },
          "shapedefaults": {
           "line": {
            "color": "#2a3f5f"
           }
          },
          "ternary": {
           "aaxis": {
            "gridcolor": "white",
            "linecolor": "white",
            "ticks": ""
           },
           "baxis": {
            "gridcolor": "white",
            "linecolor": "white",
            "ticks": ""
           },
           "bgcolor": "#E5ECF6",
           "caxis": {
            "gridcolor": "white",
            "linecolor": "white",
            "ticks": ""
           }
          },
          "title": {
           "x": 0.05
          },
          "xaxis": {
           "automargin": true,
           "gridcolor": "white",
           "linecolor": "white",
           "ticks": "",
           "title": {
            "standoff": 15
           },
           "zerolinecolor": "white",
           "zerolinewidth": 2
          },
          "yaxis": {
           "automargin": true,
           "gridcolor": "white",
           "linecolor": "white",
           "ticks": "",
           "title": {
            "standoff": 15
           },
           "zerolinecolor": "white",
           "zerolinewidth": 2
          }
         }
        },
        "title": {
         "text": "Average Starting Salary by Field of Study and Gender"
        },
        "xaxis": {
         "anchor": "y",
         "domain": [
          0,
          1
         ],
         "title": {
          "text": "fieldOfStudyNoun"
         }
        },
        "yaxis": {
         "anchor": "x",
         "domain": [
          0,
          1
         ],
         "title": {
          "text": "avg_startingSalary"
         }
        }
       }
      }
     },
     "metadata": {},
     "output_type": "display_data"
    }
   ],
   "source": [
    "fig = px.scatter(df_salary_gender_field, x='fieldOfStudyNoun', y='avg_startingSalary', color='gender', title='Average Starting Salary by Field of Study and Gender')\n",
    "fig.show()"
   ]
  }
 ],
 "metadata": {
  "kernelspec": {
   "display_name": ".venv",
   "language": "python",
   "name": "python3"
  },
  "language_info": {
   "codemirror_mode": {
    "name": "ipython",
    "version": 3
   },
   "file_extension": ".py",
   "mimetype": "text/x-python",
   "name": "python",
   "nbconvert_exporter": "python",
   "pygments_lexer": "ipython3",
   "version": "3.13.1"
  }
 },
 "nbformat": 4,
 "nbformat_minor": 2
}
